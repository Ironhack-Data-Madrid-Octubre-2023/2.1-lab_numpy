{
 "cells": [
  {
   "cell_type": "markdown",
   "id": "a0551462",
   "metadata": {},
   "source": [
    "# 1. Import the NUMPY package under the name np."
   ]
  },
  {
   "cell_type": "code",
   "execution_count": 1,
   "id": "51dbba6d",
   "metadata": {},
   "outputs": [],
   "source": [
    "import numpy as np"
   ]
  },
  {
   "cell_type": "markdown",
   "id": "147761a0",
   "metadata": {},
   "source": [
    "# 2. Print the NUMPY version and the configuration."
   ]
  },
  {
   "cell_type": "code",
   "execution_count": 2,
   "id": "70bacbd7",
   "metadata": {},
   "outputs": [
    {
     "name": "stdout",
     "output_type": "stream",
     "text": [
      "1.24.3\n"
     ]
    }
   ],
   "source": [
    "print(np.__version__)"
   ]
  },
  {
   "cell_type": "code",
   "execution_count": 3,
   "id": "5e6daf02",
   "metadata": {},
   "outputs": [
    {
     "name": "stdout",
     "output_type": "stream",
     "text": [
      "blas_armpl_info:\n",
      "  NOT AVAILABLE\n",
      "blas_mkl_info:\n",
      "    libraries = ['mkl_rt']\n",
      "    library_dirs = ['C:/Users/ccior/anaconda3\\\\Library\\\\lib']\n",
      "    define_macros = [('SCIPY_MKL_H', None), ('HAVE_CBLAS', None)]\n",
      "    include_dirs = ['C:/Users/ccior/anaconda3\\\\Library\\\\include']\n",
      "blas_opt_info:\n",
      "    libraries = ['mkl_rt']\n",
      "    library_dirs = ['C:/Users/ccior/anaconda3\\\\Library\\\\lib']\n",
      "    define_macros = [('SCIPY_MKL_H', None), ('HAVE_CBLAS', None)]\n",
      "    include_dirs = ['C:/Users/ccior/anaconda3\\\\Library\\\\include']\n",
      "lapack_armpl_info:\n",
      "  NOT AVAILABLE\n",
      "lapack_mkl_info:\n",
      "    libraries = ['mkl_rt']\n",
      "    library_dirs = ['C:/Users/ccior/anaconda3\\\\Library\\\\lib']\n",
      "    define_macros = [('SCIPY_MKL_H', None), ('HAVE_CBLAS', None)]\n",
      "    include_dirs = ['C:/Users/ccior/anaconda3\\\\Library\\\\include']\n",
      "lapack_opt_info:\n",
      "    libraries = ['mkl_rt']\n",
      "    library_dirs = ['C:/Users/ccior/anaconda3\\\\Library\\\\lib']\n",
      "    define_macros = [('SCIPY_MKL_H', None), ('HAVE_CBLAS', None)]\n",
      "    include_dirs = ['C:/Users/ccior/anaconda3\\\\Library\\\\include']\n",
      "Supported SIMD extensions in this NumPy install:\n",
      "    baseline = SSE,SSE2,SSE3\n",
      "    found = SSSE3,SSE41,POPCNT,SSE42,AVX,F16C,FMA3,AVX2\n",
      "    not found = AVX512F,AVX512CD,AVX512_SKX,AVX512_CLX,AVX512_CNL,AVX512_ICL\n",
      "None\n"
     ]
    }
   ],
   "source": [
    "print(np.show_config())"
   ]
  },
  {
   "cell_type": "markdown",
   "id": "54b70cae",
   "metadata": {},
   "source": [
    "# 3. Generate a 2x3x5 3-dimensional array with random values. Assign the array to variable \"a\"\n",
    "#Challenge: there are at least three easy ways that use numpy to generate random arrays. How many ways can you find?"
   ]
  },
  {
   "cell_type": "code",
   "execution_count": 4,
   "id": "68b99d06",
   "metadata": {},
   "outputs": [
    {
     "data": {
      "text/plain": [
       "array([[[0.49827241, 0.32238814, 0.75930695, 0.68703055, 0.09932475],\n",
       "        [0.62579061, 0.62272154, 0.58568253, 0.31421237, 0.81423668],\n",
       "        [0.93734256, 0.07662365, 0.89828113, 0.77762312, 0.77442105]],\n",
       "\n",
       "       [[0.04830995, 0.64976606, 0.01764831, 0.53394532, 0.13922898],\n",
       "        [0.08108785, 0.29372786, 0.88452621, 0.81607345, 0.74759699],\n",
       "        [0.71467044, 0.91970092, 0.67252713, 0.87118663, 0.03578017]]])"
      ]
     },
     "execution_count": 4,
     "metadata": {},
     "output_type": "execute_result"
    }
   ],
   "source": [
    "a = np.random.random((2, 3, 5))   # 10 filas, 4 columnas\n",
    "\n",
    "a"
   ]
  },
  {
   "cell_type": "markdown",
   "id": "8b4f1d12",
   "metadata": {},
   "source": [
    "# 4. Print a."
   ]
  },
  {
   "cell_type": "code",
   "execution_count": 5,
   "id": "b89bf76e",
   "metadata": {},
   "outputs": [
    {
     "name": "stdout",
     "output_type": "stream",
     "text": [
      "[[[0.49827241 0.32238814 0.75930695 0.68703055 0.09932475]\n",
      "  [0.62579061 0.62272154 0.58568253 0.31421237 0.81423668]\n",
      "  [0.93734256 0.07662365 0.89828113 0.77762312 0.77442105]]\n",
      "\n",
      " [[0.04830995 0.64976606 0.01764831 0.53394532 0.13922898]\n",
      "  [0.08108785 0.29372786 0.88452621 0.81607345 0.74759699]\n",
      "  [0.71467044 0.91970092 0.67252713 0.87118663 0.03578017]]]\n"
     ]
    }
   ],
   "source": [
    "print(a)"
   ]
  },
  {
   "cell_type": "markdown",
   "id": "151f5178",
   "metadata": {},
   "source": [
    "# 5. Create a 5x2x3 3-dimensional array with all values equaling 1.\n",
    "#Assign the array to variable \"b\""
   ]
  },
  {
   "cell_type": "code",
   "execution_count": 15,
   "id": "f4701616",
   "metadata": {},
   "outputs": [
    {
     "data": {
      "text/plain": [
       "array([[[1., 1., 1.],\n",
       "        [1., 1., 1.]],\n",
       "\n",
       "       [[1., 1., 1.],\n",
       "        [1., 1., 1.]],\n",
       "\n",
       "       [[1., 1., 1.],\n",
       "        [1., 1., 1.]],\n",
       "\n",
       "       [[1., 1., 1.],\n",
       "        [1., 1., 1.]],\n",
       "\n",
       "       [[1., 1., 1.],\n",
       "        [1., 1., 1.]]])"
      ]
     },
     "execution_count": 15,
     "metadata": {},
     "output_type": "execute_result"
    }
   ],
   "source": [
    "b = np.ones((5,2,3))\n",
    "\n",
    "b"
   ]
  },
  {
   "cell_type": "markdown",
   "id": "2ac34e9a",
   "metadata": {},
   "source": [
    "# 6. Print b."
   ]
  },
  {
   "cell_type": "code",
   "execution_count": 16,
   "id": "a0fa46e8",
   "metadata": {},
   "outputs": [
    {
     "name": "stdout",
     "output_type": "stream",
     "text": [
      "[[[1. 1. 1.]\n",
      "  [1. 1. 1.]]\n",
      "\n",
      " [[1. 1. 1.]\n",
      "  [1. 1. 1.]]\n",
      "\n",
      " [[1. 1. 1.]\n",
      "  [1. 1. 1.]]\n",
      "\n",
      " [[1. 1. 1.]\n",
      "  [1. 1. 1.]]\n",
      "\n",
      " [[1. 1. 1.]\n",
      "  [1. 1. 1.]]]\n"
     ]
    }
   ],
   "source": [
    "print(b)"
   ]
  },
  {
   "cell_type": "markdown",
   "id": "52ad452d",
   "metadata": {},
   "source": [
    "# 7. Do a and b have the same size? How do you prove that in Python code?"
   ]
  },
  {
   "cell_type": "code",
   "execution_count": 17,
   "id": "b80a8981",
   "metadata": {},
   "outputs": [],
   "source": [
    "def shape_of_you(a,b):\n",
    "    \n",
    "    if a.shape == b.shape:\n",
    "        return True\n",
    "    else:\n",
    "        return False"
   ]
  },
  {
   "cell_type": "code",
   "execution_count": 18,
   "id": "9b78cc4a",
   "metadata": {},
   "outputs": [
    {
     "data": {
      "text/plain": [
       "False"
      ]
     },
     "execution_count": 18,
     "metadata": {},
     "output_type": "execute_result"
    }
   ],
   "source": [
    "shape_of_you(a,b)"
   ]
  },
  {
   "cell_type": "markdown",
   "id": "3b63895b",
   "metadata": {},
   "source": [
    "# 8. Are you able to add a and b? Why or why not?"
   ]
  },
  {
   "cell_type": "code",
   "execution_count": 19,
   "id": "edc7ef5c",
   "metadata": {},
   "outputs": [
    {
     "ename": "ValueError",
     "evalue": "operands could not be broadcast together with shapes (2,3,5) (5,2,3) ",
     "output_type": "error",
     "traceback": [
      "\u001b[1;31m---------------------------------------------------------------------------\u001b[0m",
      "\u001b[1;31mValueError\u001b[0m                                Traceback (most recent call last)",
      "Cell \u001b[1;32mIn[19], line 1\u001b[0m\n\u001b[1;32m----> 1\u001b[0m c \u001b[38;5;241m=\u001b[39m a \u001b[38;5;241m+\u001b[39m b\n\u001b[0;32m      3\u001b[0m c\n",
      "\u001b[1;31mValueError\u001b[0m: operands could not be broadcast together with shapes (2,3,5) (5,2,3) "
     ]
    }
   ],
   "source": [
    "c = a + b\n",
    "\n",
    "c"
   ]
  },
  {
   "cell_type": "code",
   "execution_count": 20,
   "id": "d5d9026b",
   "metadata": {},
   "outputs": [],
   "source": [
    "#both arrays need to have the same shape"
   ]
  },
  {
   "cell_type": "markdown",
   "id": "3b9b63d9",
   "metadata": {},
   "source": [
    "# 9. Transpose b so that it has the same structure of a (i.e. become a 2x3x5 array). Assign the transposed array to varialbe \"c\"."
   ]
  },
  {
   "cell_type": "code",
   "execution_count": 21,
   "id": "5fe96ed6",
   "metadata": {},
   "outputs": [
    {
     "name": "stdout",
     "output_type": "stream",
     "text": [
      "[[[1. 1. 1. 1. 1.]\n",
      "  [1. 1. 1. 1. 1.]\n",
      "  [1. 1. 1. 1. 1.]]\n",
      "\n",
      " [[1. 1. 1. 1. 1.]\n",
      "  [1. 1. 1. 1. 1.]\n",
      "  [1. 1. 1. 1. 1.]]]\n"
     ]
    }
   ],
   "source": [
    "c = b.transpose((1,2,0))\n",
    "\n",
    "print(c)"
   ]
  },
  {
   "cell_type": "markdown",
   "id": "2270da8c",
   "metadata": {},
   "source": [
    "# 10. Try to add a and c. Now it should work. Assign the sum to varialbe \"d\". But why does it work now?"
   ]
  },
  {
   "cell_type": "code",
   "execution_count": 22,
   "id": "6c87dc73",
   "metadata": {},
   "outputs": [
    {
     "name": "stdout",
     "output_type": "stream",
     "text": [
      "[[[1.49827241 1.32238814 1.75930695 1.68703055 1.09932475]\n",
      "  [1.62579061 1.62272154 1.58568253 1.31421237 1.81423668]\n",
      "  [1.93734256 1.07662365 1.89828113 1.77762312 1.77442105]]\n",
      "\n",
      " [[1.04830995 1.64976606 1.01764831 1.53394532 1.13922898]\n",
      "  [1.08108785 1.29372786 1.88452621 1.81607345 1.74759699]\n",
      "  [1.71467044 1.91970092 1.67252713 1.87118663 1.03578017]]]\n",
      "[[[0.49827241 0.32238814 0.75930695 0.68703055 0.09932475]\n",
      "  [0.62579061 0.62272154 0.58568253 0.31421237 0.81423668]\n",
      "  [0.93734256 0.07662365 0.89828113 0.77762312 0.77442105]]\n",
      "\n",
      " [[0.04830995 0.64976606 0.01764831 0.53394532 0.13922898]\n",
      "  [0.08108785 0.29372786 0.88452621 0.81607345 0.74759699]\n",
      "  [0.71467044 0.91970092 0.67252713 0.87118663 0.03578017]]]\n"
     ]
    }
   ],
   "source": [
    "d = a + c\n",
    "\n",
    "print(d)\n",
    "print(a)"
   ]
  },
  {
   "cell_type": "code",
   "execution_count": 23,
   "id": "3a0520b5",
   "metadata": {},
   "outputs": [],
   "source": [
    "#it works because a and c have the same shape"
   ]
  },
  {
   "cell_type": "markdown",
   "id": "b4eddce9",
   "metadata": {},
   "source": [
    "# 11. Print a and d. Notice the difference and relation of the two array in terms of the values? Explain."
   ]
  },
  {
   "cell_type": "code",
   "execution_count": 24,
   "id": "55ba699b",
   "metadata": {
    "scrolled": true
   },
   "outputs": [
    {
     "name": "stdout",
     "output_type": "stream",
     "text": [
      "[[[0.49827241 0.32238814 0.75930695 0.68703055 0.09932475]\n",
      "  [0.62579061 0.62272154 0.58568253 0.31421237 0.81423668]\n",
      "  [0.93734256 0.07662365 0.89828113 0.77762312 0.77442105]]\n",
      "\n",
      " [[0.04830995 0.64976606 0.01764831 0.53394532 0.13922898]\n",
      "  [0.08108785 0.29372786 0.88452621 0.81607345 0.74759699]\n",
      "  [0.71467044 0.91970092 0.67252713 0.87118663 0.03578017]]]\n"
     ]
    }
   ],
   "source": [
    "print(a)"
   ]
  },
  {
   "cell_type": "code",
   "execution_count": 25,
   "id": "01e2623f",
   "metadata": {},
   "outputs": [
    {
     "name": "stdout",
     "output_type": "stream",
     "text": [
      "[[[1.49827241 1.32238814 1.75930695 1.68703055 1.09932475]\n",
      "  [1.62579061 1.62272154 1.58568253 1.31421237 1.81423668]\n",
      "  [1.93734256 1.07662365 1.89828113 1.77762312 1.77442105]]\n",
      "\n",
      " [[1.04830995 1.64976606 1.01764831 1.53394532 1.13922898]\n",
      "  [1.08108785 1.29372786 1.88452621 1.81607345 1.74759699]\n",
      "  [1.71467044 1.91970092 1.67252713 1.87118663 1.03578017]]]\n"
     ]
    }
   ],
   "source": [
    "print(d)"
   ]
  },
  {
   "cell_type": "markdown",
   "id": "61f47f3f",
   "metadata": {},
   "source": [
    "La diferencia es que en la matriz a, a todos los elementos se le suma 1"
   ]
  },
  {
   "cell_type": "markdown",
   "id": "9ad2f566",
   "metadata": {},
   "source": [
    "# 12. Multiply a and c. Assign the result to e."
   ]
  },
  {
   "cell_type": "code",
   "execution_count": 26,
   "id": "c4b17051",
   "metadata": {},
   "outputs": [
    {
     "name": "stdout",
     "output_type": "stream",
     "text": [
      "[[[0.49827241 0.32238814 0.75930695 0.68703055 0.09932475]\n",
      "  [0.62579061 0.62272154 0.58568253 0.31421237 0.81423668]\n",
      "  [0.93734256 0.07662365 0.89828113 0.77762312 0.77442105]]\n",
      "\n",
      " [[0.04830995 0.64976606 0.01764831 0.53394532 0.13922898]\n",
      "  [0.08108785 0.29372786 0.88452621 0.81607345 0.74759699]\n",
      "  [0.71467044 0.91970092 0.67252713 0.87118663 0.03578017]]]\n"
     ]
    }
   ],
   "source": [
    "e = a * c\n",
    "print(e)"
   ]
  },
  {
   "cell_type": "markdown",
   "id": "42411c7d",
   "metadata": {},
   "source": [
    "# 13. Does e equal to a? Why or why not?"
   ]
  },
  {
   "cell_type": "code",
   "execution_count": 27,
   "id": "10723c55",
   "metadata": {},
   "outputs": [
    {
     "data": {
      "text/plain": [
       "True"
      ]
     },
     "execution_count": 27,
     "metadata": {},
     "output_type": "execute_result"
    }
   ],
   "source": [
    "np.array_equal(e,a)"
   ]
  },
  {
   "cell_type": "markdown",
   "id": "3ef7c93d",
   "metadata": {},
   "source": [
    "# 14. Identify the max, min, and mean values in d. Assign those values to variables \"d_max\", \"d_min\", and \"d_mean\""
   ]
  },
  {
   "cell_type": "code",
   "execution_count": null,
   "id": "05dca29e",
   "metadata": {},
   "outputs": [],
   "source": [
    "d_max = d.max()\n",
    "d_min = d.min()\n",
    "d_mean = d.mean()"
   ]
  },
  {
   "cell_type": "markdown",
   "id": "f367a157",
   "metadata": {},
   "source": [
    "# 15. Now we want to label the values in d. First create an empty array \"f\" with the same shape (i.e. 2x3x5) as d using `np.empty`.import numpy as np"
   ]
  },
  {
   "cell_type": "code",
   "execution_count": null,
   "id": "92689db8",
   "metadata": {},
   "outputs": [],
   "source": [
    "import numpy as np\n",
    "\n",
    "f = np.empty((2, 3, 5))\n",
    "print(f)"
   ]
  },
  {
   "cell_type": "markdown",
   "id": "c2e45b81",
   "metadata": {},
   "source": [
    "# 16. Populate the values in f. For each value in d, if it's larger than d_min but smaller than d_mean, assign 25 to the corresponding value in f.\n",
    "\n",
    "If a value in d is larger than d_mean but smaller than d_max, assign 75 to the corresponding value in f.\n",
    "\n",
    "If a value equals to d_mean, assign 50 to the corresponding value in f.\n",
    "\n",
    "Assign 0 to the corresponding value(s) in f for d_min in d.\n",
    "\n",
    "Assign 100 to the corresponding value(s) in f for d_max in d.\n",
    "\n",
    "In the end, f should have only the following values: 0, 25, 50, 75, and 100.\n",
    "    \n",
    "Note: you don't have to use Numpy in this question."
   ]
  },
  {
   "cell_type": "markdown",
   "id": "5447b893",
   "metadata": {},
   "source": [
    "las siguientes líneas de código están con numpy :)"
   ]
  },
  {
   "cell_type": "code",
   "execution_count": null,
   "id": "93d4a219",
   "metadata": {
    "scrolled": true
   },
   "outputs": [],
   "source": [
    "print(f)"
   ]
  },
  {
   "cell_type": "code",
   "execution_count": null,
   "id": "118bce46",
   "metadata": {
    "scrolled": false
   },
   "outputs": [],
   "source": [
    "#For each value in d, if it's larger than d_min but smaller than d_mean, assign 25 to the corresponding value in f.\n",
    "\n",
    "f = np.where((d > d_min) & (d < d_mean), 25, f)\n",
    "print(f)"
   ]
  },
  {
   "cell_type": "code",
   "execution_count": null,
   "id": "32765682",
   "metadata": {},
   "outputs": [],
   "source": [
    "#If a value in d is larger than d_mean but smaller than d_max, assign 75 to the corresponding value in f\n",
    "\n",
    "f = np.where((d > d_mean) & (d < d_max), 75, f)\n",
    "print(f)"
   ]
  },
  {
   "cell_type": "code",
   "execution_count": null,
   "id": "f9ae81b4",
   "metadata": {
    "scrolled": true
   },
   "outputs": [],
   "source": [
    "#If a value equals to d_mean, assign 50 to the corresponding value in f.\n",
    "\n",
    "f = np.where(d == d_mean, 50, f)\n",
    "print(f)"
   ]
  },
  {
   "cell_type": "code",
   "execution_count": null,
   "id": "52311366",
   "metadata": {},
   "outputs": [],
   "source": [
    "#Assign 0 to the corresponding value(s) in f for d_min in d\n",
    "\n",
    "f = np.where(d == d_min, 0, f)\n",
    "print(f)"
   ]
  },
  {
   "cell_type": "code",
   "execution_count": null,
   "id": "a400d6ea",
   "metadata": {},
   "outputs": [],
   "source": [
    "#Assign 100 to the corresponding value(s) in f for d_max in d.\n",
    "\n",
    "f = np.where(d == d_max, 100, f)\n",
    "print(f)"
   ]
  },
  {
   "cell_type": "markdown",
   "id": "4b84ec2d",
   "metadata": {},
   "source": [
    "# 17. Print d and f. Do you have your expected f?\n",
    "\n",
    "For instance, if your d is:\n",
    "array([[[1.85836099, 1.67064465, 1.62576044, 1.40243961, 1.88454931],\n",
    "        [1.75354326, 1.69403643, 1.36729252, 1.61415071, 1.12104981],\n",
    "        [1.72201435, 1.1862918 , 1.87078449, 1.7726778 , 1.88180042]],\n",
    "\n",
    "       [[1.44747908, 1.31673383, 1.02000951, 1.52218947, 1.97066381],\n",
    "        [1.79129243, 1.74983003, 1.96028037, 1.85166831, 1.65450881],\n",
    "        [1.18068344, 1.9587381 , 1.00656599, 1.93402165, 1.73514584]]])\n",
    "\n",
    "Your f should be:\n",
    "array([[[ 75.,  75.,  75.,  25.,  75.],\n",
    "        [ 75.,  75.,  25.,  25.,  25.],\n",
    "        [ 75.,  25.,  75.,  75.,  75.]],\n",
    "\n",
    "       [[ 25.,  25.,  25.,  25., 100.],\n",
    "        [ 75.,  75.,  75.,  75.,  75.],\n",
    "        [ 25.,  75.,   0.,  75.,  75.]]])"
   ]
  },
  {
   "cell_type": "code",
   "execution_count": null,
   "id": "3a9029c3",
   "metadata": {},
   "outputs": [],
   "source": [
    "print(d)"
   ]
  },
  {
   "cell_type": "code",
   "execution_count": null,
   "id": "39fe6732",
   "metadata": {},
   "outputs": [],
   "source": [
    "print(f)"
   ]
  },
  {
   "cell_type": "markdown",
   "id": "835b5311",
   "metadata": {},
   "source": [
    "# 18. Bonus question: instead of using numbers (i.e. 0, 25, 50, 75, and 100), how to use string values \n",
    "(\"A\", \"B\", \"C\", \"D\", and \"E\") to label the array elements? You are expecting the result to be:\n",
    "array([[[ 'D',  'D',  'D',  'B',  'D'],\n",
    "        [ 'D',  'D',  'B',  'B',  'B'],\n",
    "        [ 'D',  'B',  'D',  'D',  'D']],\n",
    "\n",
    "       [[ 'B',  'B',  'B',  'B',  'E'],\n",
    "        [ 'D',  'D',  'D',  'D',  'D'],\n",
    "        [ 'B',  'D',   'A',  'D', 'D']]])\n",
    "Again, you don't need Numpy in this question."
   ]
  },
  {
   "cell_type": "code",
   "execution_count": null,
   "id": "09034773",
   "metadata": {},
   "outputs": [],
   "source": []
  }
 ],
 "metadata": {
  "kernelspec": {
   "display_name": "Python 3 (ipykernel)",
   "language": "python",
   "name": "python3"
  },
  "language_info": {
   "codemirror_mode": {
    "name": "ipython",
    "version": 3
   },
   "file_extension": ".py",
   "mimetype": "text/x-python",
   "name": "python",
   "nbconvert_exporter": "python",
   "pygments_lexer": "ipython3",
   "version": "3.11.4"
  }
 },
 "nbformat": 4,
 "nbformat_minor": 5
}
