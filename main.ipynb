{
 "cells": [
  {
   "cell_type": "code",
   "execution_count": 1,
   "id": "cf17906c-65a3-43a7-b5f2-e46a34500f5d",
   "metadata": {},
   "outputs": [],
   "source": [
    "#1. Import the NUMPY package under the name np.\n",
    "import numpy as np"
   ]
  },
  {
   "cell_type": "code",
   "execution_count": 53,
   "id": "e33dec54-2b8f-4ae4-8736-9861a85c5e06",
   "metadata": {},
   "outputs": [],
   "source": [
    "#2. Print the NUMPY version and the configuration.\n",
    "print(\"Versión:\", np.__version__)\n",
    "print(np.show_config())"
   ]
  },
  {
   "cell_type": "code",
   "execution_count": 80,
   "id": "7302a858-7f32-4c08-a5df-3c7a738ad10e",
   "metadata": {},
   "outputs": [],
   "source": [
    "#3. Generate a 2x3x5 3-dimensional array with random values. Assign the array to variable \"a\"\n",
    "# Challenge: there are at least three easy ways that use numpy to generate random arrays. How many ways can you find?\n",
    "a = np.random.randint(5, size=(2, 3,5))"
   ]
  },
  {
   "cell_type": "code",
   "execution_count": 81,
   "id": "78949821-273e-4cb4-842e-1d986f61594a",
   "metadata": {},
   "outputs": [
    {
     "data": {
      "text/plain": [
       "array([[[0, 4, 4, 1, 3],\n",
       "        [4, 1, 4, 0, 4],\n",
       "        [3, 2, 3, 0, 2]],\n",
       "\n",
       "       [[2, 4, 3, 0, 1],\n",
       "        [3, 0, 3, 4, 2],\n",
       "        [1, 4, 2, 4, 3]]])"
      ]
     },
     "execution_count": 81,
     "metadata": {},
     "output_type": "execute_result"
    }
   ],
   "source": [
    "#4. Print a.\n",
    "a"
   ]
  },
  {
   "cell_type": "code",
   "execution_count": 111,
   "id": "cb102fe8-2f16-4dd4-b744-1cb2149770b0",
   "metadata": {},
   "outputs": [
    {
     "data": {
      "text/plain": [
       "array([[[1, 1, 1],\n",
       "        [1, 1, 1]],\n",
       "\n",
       "       [[1, 1, 1],\n",
       "        [1, 1, 1]],\n",
       "\n",
       "       [[1, 1, 1],\n",
       "        [1, 1, 1]],\n",
       "\n",
       "       [[1, 1, 1],\n",
       "        [1, 1, 1]],\n",
       "\n",
       "       [[1, 1, 1],\n",
       "        [1, 1, 1]]])"
      ]
     },
     "execution_count": 111,
     "metadata": {},
     "output_type": "execute_result"
    }
   ],
   "source": [
    "#5. Create a 5x2x3 3-dimensional array with all values equaling 1.\n",
    "#Assign the array to variable \"b\"\n",
    "\n",
    "b= np.random.randint(1,2, size=(5, 2,3))\n",
    "\n",
    "b"
   ]
  },
  {
   "cell_type": "code",
   "execution_count": 112,
   "id": "8e86efc3-3588-454c-8bfb-2f0de2d325b0",
   "metadata": {},
   "outputs": [
    {
     "name": "stdout",
     "output_type": "stream",
     "text": [
      "a: 30 b: 30\n"
     ]
    }
   ],
   "source": [
    "#7. Do a and b have the same size? How do you prove that in Python code?\n",
    "print(\"a:\", a.size, \"b:\", b.size)"
   ]
  },
  {
   "cell_type": "code",
   "execution_count": 113,
   "id": "aa2c5b4b-3bc1-4fbc-9dda-f99dfe2bfe8f",
   "metadata": {},
   "outputs": [
    {
     "name": "stdout",
     "output_type": "stream",
     "text": [
      "No es posible sumar a y b porque a no tiene el mismo número de columnas, que b filas\n",
      "a shape: (2, 3, 5) b shape: (5, 2, 3)\n"
     ]
    }
   ],
   "source": [
    "#8. Are you able to add a and b? Why or why not?\n",
    "#print(a+b)\n",
    "#np.add(a, b) \n",
    "print(\"No es posible sumar a y b porque a no tiene el mismo número de columnas, que b filas\")\n",
    "print(\"a shape:\", a.shape, \"b shape:\", b.shape)"
   ]
  },
  {
   "cell_type": "code",
   "execution_count": 114,
   "id": "8aa54388-3148-4cf5-ad15-0f118c941120",
   "metadata": {},
   "outputs": [
    {
     "name": "stdout",
     "output_type": "stream",
     "text": [
      "[[[1 1 1 1 1]\n",
      "  [1 1 1 1 1]\n",
      "  [1 1 1 1 1]]\n",
      "\n",
      " [[1 1 1 1 1]\n",
      "  [1 1 1 1 1]\n",
      "  [1 1 1 1 1]]]\n"
     ]
    }
   ],
   "source": [
    "#9. Transpose b so that it has the same structure of a (i.e. become a 2x3x5 array). Assign the transposed array to varialbe \"c\".\n",
    "c= b.transpose((1,2,0))\n",
    "\n",
    "print(c)"
   ]
  },
  {
   "cell_type": "code",
   "execution_count": 115,
   "id": "0e05220d-e3a3-4760-a5d9-da2d8569f332",
   "metadata": {},
   "outputs": [
    {
     "name": "stdout",
     "output_type": "stream",
     "text": [
      "Funciona porque tienen el mismo shape. a shape:  (2, 3, 5) d shape: (2, 3, 5)\n"
     ]
    }
   ],
   "source": [
    "#10. Try to add a and c. Now it should work. Assign the sum to varialbe \"d\". But why does it work now?\n",
    "d= np.add(a, c) \n",
    "\n",
    "print(\"Funciona porque tienen el mismo shape. a shape: \", a.shape, \"d shape:\", d.shape)"
   ]
  },
  {
   "cell_type": "code",
   "execution_count": 117,
   "id": "921fb8a6-ec8b-461c-b468-e8350cc3b2e9",
   "metadata": {},
   "outputs": [
    {
     "name": "stdout",
     "output_type": "stream",
     "text": [
      "a: [[[0 4 4 1 3]\n",
      "  [4 1 4 0 4]\n",
      "  [3 2 3 0 2]]\n",
      "\n",
      " [[2 4 3 0 1]\n",
      "  [3 0 3 4 2]\n",
      "  [1 4 2 4 3]]] \n",
      "\n",
      " d: [[[1 5 5 2 4]\n",
      "  [5 2 5 1 5]\n",
      "  [4 3 4 1 3]]\n",
      "\n",
      " [[3 5 4 1 2]\n",
      "  [4 1 4 5 3]\n",
      "  [2 5 3 5 4]]]\n",
      "d es igual a +1\n"
     ]
    }
   ],
   "source": [
    "#11. Print a and d. Notice the difference and relation of the two array in terms of the values? Explain.\n",
    "print(\"a:\", a, \"\\n\\n\", \"d:\", d)\n",
    "print(\"d es igual a +1\")"
   ]
  },
  {
   "cell_type": "code",
   "execution_count": 118,
   "id": "2b5fb205-ebf4-472d-bf7c-9eb521761241",
   "metadata": {},
   "outputs": [
    {
     "name": "stdout",
     "output_type": "stream",
     "text": [
      "[[[0 4 4 1 3]\n",
      "  [4 1 4 0 4]\n",
      "  [3 2 3 0 2]]\n",
      "\n",
      " [[2 4 3 0 1]\n",
      "  [3 0 3 4 2]\n",
      "  [1 4 2 4 3]]]\n"
     ]
    }
   ],
   "source": [
    "#12. Multiply a and c. Assign the result to e.\n",
    "e= np.multiply(a, c)\n",
    "\n",
    "print(e)"
   ]
  },
  {
   "cell_type": "code",
   "execution_count": 121,
   "id": "711e31e6-dd8c-495b-b775-0a82ee5ea806",
   "metadata": {},
   "outputs": [
    {
     "name": "stdout",
     "output_type": "stream",
     "text": [
      "Si, porque e es la multiplicación por 0 de todos los valores de a\n"
     ]
    }
   ],
   "source": [
    "#13. Does e equal to a? Why or why not?\n",
    "print(\"Si, porque e es la multiplicación por 0 de todos los valores de a\")"
   ]
  },
  {
   "cell_type": "code",
   "execution_count": 122,
   "id": "c4c87055-cdb3-4be7-9885-90a11c0fd2d1",
   "metadata": {},
   "outputs": [],
   "source": [
    "#14. Identify the max, min, and mean values in d. Assign those values to variables \"d_max\", \"d_min\", and \"d_mean\"\n",
    "d_max= d.max()\n",
    "d_min= d.min()\n",
    "d_mean=d.mean()"
   ]
  },
  {
   "cell_type": "code",
   "execution_count": null,
   "id": "e892ef5e-c238-4e08-90f8-48797197f1c6",
   "metadata": {},
   "outputs": [],
   "source": [
    "#15. Now we want to label the values in d. First create an empty array \"f\" with the same shape (i.e. 2x3x5) as d using `np.empty`.\n",
    "f"
   ]
  },
  {
   "cell_type": "code",
   "execution_count": null,
   "id": "743f63c7-ae4b-4254-b7ee-f362f22a02d7",
   "metadata": {},
   "outputs": [],
   "source": [
    "\"\"\"\n",
    "#16. Populate the values in f. For each value in d, if it's larger than d_min but smaller than d_mean, assign 25 to the corresponding value in f.\n",
    "If a value in d is larger than d_mean but smaller than d_max, assign 75 to the corresponding value in f.\n",
    "If a value equals to d_mean, assign 50 to the corresponding value in f.\n",
    "Assign 0 to the corresponding value(s) in f for d_min in d.\n",
    "Assign 100 to the corresponding value(s) in f for d_max in d.\n",
    "In the end, f should have only the following values: 0, 25, 50, 75, and 100.\n",
    "Note: you don't have to use Numpy in this question.\n",
    "\"\"\""
   ]
  },
  {
   "cell_type": "code",
   "execution_count": 26,
   "id": "8454d274-c03b-4009-a52d-b3492b1e5589",
   "metadata": {},
   "outputs": [
    {
     "name": "stdout",
     "output_type": "stream",
     "text": [
      "a: [[[0.6967208  0.82751602 0.82024228 0.18471998 0.21806639]\n",
      "  [0.04450473 0.15830648 0.08905771 0.89484095 0.78786291]\n",
      "  [0.35782856 0.29486095 0.12194796 0.43575605 0.35189523]]\n",
      "\n",
      " [[0.91450736 0.94367446 0.14565224 0.95929475 0.33385147]\n",
      "  [0.48710242 0.16082124 0.61616178 0.41263047 0.41189335]\n",
      "  [0.7166182  0.46558179 0.17342612 0.50394071 0.32437832]]] d: [[[1.00054061 1.49752432 1.4453623  0.9027237  0.92096849]\n",
      "  [0.11712083 0.27117949 0.45285943 1.43459879 1.52304551]\n",
      "  [0.92513553 1.20478216 1.08531827 0.64522082 0.54905002]]\n",
      "\n",
      " [[1.71497961 1.70608296 0.27122347 1.7239541  0.68613298]\n",
      "  [1.33123596 0.69153166 0.62177956 1.32454991 1.17068981]\n",
      "  [1.51649526 1.4346942  0.91356233 1.04108528 1.15232628]]]\n"
     ]
    },
    {
     "data": {
      "text/plain": [
       "'\\n#18. Bonus question: instead of using numbers (i.e. 0, 25, 50, 75, and 100), how to use string values \\n(\"A\", \"B\", \"C\", \"D\", and \"E\") to label the array elements? You are expecting the result to be:\\narray([[[ \\'D\\',  \\'D\\',  \\'D\\',  \\'B\\',  \\'D\\'],\\n        [ \\'D\\',  \\'D\\',  \\'B\\',  \\'B\\',  \\'B\\'],\\n        [ \\'D\\',  \\'B\\',  \\'D\\',  \\'D\\',  \\'D\\']],\\n\\n       [[ \\'B\\',  \\'B\\',  \\'B\\',  \\'B\\',  \\'E\\'],\\n        [ \\'D\\',  \\'D\\',  \\'D\\',  \\'D\\',  \\'D\\'],\\n        [ \\'B\\',  \\'D\\',   \\'A\\',  \\'D\\', \\'D\\']]])\\nAgain, you don\\'t need Numpy in this question.\\n'"
      ]
     },
     "execution_count": 26,
     "metadata": {},
     "output_type": "execute_result"
    }
   ],
   "source": [
    "\n",
    "\n",
    "\n",
    "\n",
    "\n",
    "\n",
    "\n",
    "\n",
    "\n",
    "\n",
    "\n",
    "\n",
    "\n",
    "\"\"\"\n",
    "#17. Print d and f. Do you have your expected f?\n",
    "For instance, if your d is:\n",
    "array([[[1.85836099, 1.67064465, 1.62576044, 1.40243961, 1.88454931],\n",
    "        [1.75354326, 1.69403643, 1.36729252, 1.61415071, 1.12104981],\n",
    "        [1.72201435, 1.1862918 , 1.87078449, 1.7726778 , 1.88180042]],\n",
    "\n",
    "       [[1.44747908, 1.31673383, 1.02000951, 1.52218947, 1.97066381],\n",
    "        [1.79129243, 1.74983003, 1.96028037, 1.85166831, 1.65450881],\n",
    "        [1.18068344, 1.9587381 , 1.00656599, 1.93402165, 1.73514584]]])\n",
    "\n",
    "Your f should be:\n",
    "array([[[ 75.,  75.,  75.,  25.,  75.],\n",
    "        [ 75.,  75.,  25.,  25.,  25.],\n",
    "        [ 75.,  25.,  75.,  75.,  75.]],\n",
    "\n",
    "       [[ 25.,  25.,  25.,  25., 100.],\n",
    "        [ 75.,  75.,  75.,  75.,  75.],\n",
    "        [ 25.,  75.,   0.,  75.,  75.]]])\n",
    "\"\"\"\n",
    "\n",
    "\n",
    "\"\"\"\n",
    "#18. Bonus question: instead of using numbers (i.e. 0, 25, 50, 75, and 100), how to use string values \n",
    "(\"A\", \"B\", \"C\", \"D\", and \"E\") to label the array elements? You are expecting the result to be:\n",
    "array([[[ 'D',  'D',  'D',  'B',  'D'],\n",
    "        [ 'D',  'D',  'B',  'B',  'B'],\n",
    "        [ 'D',  'B',  'D',  'D',  'D']],\n",
    "\n",
    "       [[ 'B',  'B',  'B',  'B',  'E'],\n",
    "        [ 'D',  'D',  'D',  'D',  'D'],\n",
    "        [ 'B',  'D',   'A',  'D', 'D']]])\n",
    "Again, you don't need Numpy in this question.\n",
    "\"\"\""
   ]
  },
  {
   "cell_type": "code",
   "execution_count": null,
   "id": "9b363d18-e6c2-4e34-a2a0-0f026a2d3c98",
   "metadata": {},
   "outputs": [],
   "source": []
  }
 ],
 "metadata": {
  "kernelspec": {
   "display_name": "clase",
   "language": "python",
   "name": "clase"
  },
  "language_info": {
   "codemirror_mode": {
    "name": "ipython",
    "version": 3
   },
   "file_extension": ".py",
   "mimetype": "text/x-python",
   "name": "python",
   "nbconvert_exporter": "python",
   "pygments_lexer": "ipython3",
   "version": "3.10.13"
  }
 },
 "nbformat": 4,
 "nbformat_minor": 5
}
