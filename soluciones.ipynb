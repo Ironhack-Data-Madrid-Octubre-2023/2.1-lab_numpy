{
 "cells": [
  {
   "cell_type": "code",
   "execution_count": 1,
   "id": "011c5f1e",
   "metadata": {},
   "outputs": [],
   "source": [
    "#1. Import the NUMPY package under the name np.\n",
    "import numpy as np"
   ]
  },
  {
   "cell_type": "code",
   "execution_count": 2,
   "id": "a9e2b4c3",
   "metadata": {},
   "outputs": [
    {
     "name": "stdout",
     "output_type": "stream",
     "text": [
      "Numpy Version: 1.24.3\n"
     ]
    }
   ],
   "source": [
    "#2. Print the NUMPY version and the configuration.\n",
    "print('Numpy Version:', np.__version__)"
   ]
  },
  {
   "cell_type": "code",
   "execution_count": 3,
   "id": "acf15b0f",
   "metadata": {},
   "outputs": [
    {
     "data": {
      "text/plain": [
       "array([[[0.54212466, 0.10400055, 0.26510728, 0.32735691, 0.09906163],\n",
       "        [0.89939273, 0.2644968 , 0.30132805, 0.01749753, 0.6296834 ],\n",
       "        [0.0743534 , 0.69186829, 0.52782456, 0.20799629, 0.32073104]],\n",
       "\n",
       "       [[0.017374  , 0.37876092, 0.41636817, 0.55108403, 0.43043815],\n",
       "        [0.83463237, 0.5194411 , 0.90541559, 0.24565794, 0.98742564],\n",
       "        [0.57432836, 0.30977051, 0.31346565, 0.20307445, 0.19316639]]])"
      ]
     },
     "execution_count": 3,
     "metadata": {},
     "output_type": "execute_result"
    }
   ],
   "source": [
    "#3. Generate a 2x3x5 3-dimensional array with random values. Assign the array to variable \"a\"\n",
    "# Challenge: there are at least three easy ways that use numpy to generate random arrays. How many ways can you find?\n",
    "a=np.random.random((2,3,5))\n",
    "\n",
    "a"
   ]
  },
  {
   "cell_type": "code",
   "execution_count": 4,
   "id": "ec2ff9ba",
   "metadata": {},
   "outputs": [
    {
     "data": {
      "text/plain": [
       "array([[[0.6671661 , 0.30272348, 0.78491439, 0.63846204, 0.44761597],\n",
       "        [0.55273483, 0.63075345, 0.2767653 , 0.09104706, 0.24140134],\n",
       "        [0.70204151, 0.79283785, 0.65104864, 0.21503311, 0.76447068]],\n",
       "\n",
       "       [[0.32773849, 0.48471275, 0.65257186, 0.64936964, 0.75342442],\n",
       "        [0.42790583, 0.2388563 , 0.39432007, 0.01243007, 0.10492819],\n",
       "        [0.87328791, 0.73174253, 0.66931533, 0.76701811, 0.69213591]]])"
      ]
     },
     "execution_count": 4,
     "metadata": {},
     "output_type": "execute_result"
    }
   ],
   "source": [
    "shape = (2, 3, 5)\n",
    "a = np.empty(shape)\n",
    "\n",
    "for i in range(shape[0]):\n",
    "    for j in range(shape[1]):\n",
    "        for k in range(shape[2]):\n",
    "            a[i, j, k] = np.random.random()\n",
    "\n",
    "a"
   ]
  },
  {
   "cell_type": "code",
   "execution_count": 5,
   "id": "023c6afd",
   "metadata": {},
   "outputs": [
    {
     "name": "stdout",
     "output_type": "stream",
     "text": [
      "[[[0.6671661  0.30272348 0.78491439 0.63846204 0.44761597]\n",
      "  [0.55273483 0.63075345 0.2767653  0.09104706 0.24140134]\n",
      "  [0.70204151 0.79283785 0.65104864 0.21503311 0.76447068]]\n",
      "\n",
      " [[0.32773849 0.48471275 0.65257186 0.64936964 0.75342442]\n",
      "  [0.42790583 0.2388563  0.39432007 0.01243007 0.10492819]\n",
      "  [0.87328791 0.73174253 0.66931533 0.76701811 0.69213591]]]\n"
     ]
    }
   ],
   "source": [
    "#4. Print a.\n",
    "print(a)"
   ]
  },
  {
   "cell_type": "code",
   "execution_count": 6,
   "id": "43b9929f",
   "metadata": {},
   "outputs": [
    {
     "data": {
      "text/plain": [
       "array([[[1., 1., 1.],\n",
       "        [1., 1., 1.]],\n",
       "\n",
       "       [[1., 1., 1.],\n",
       "        [1., 1., 1.]],\n",
       "\n",
       "       [[1., 1., 1.],\n",
       "        [1., 1., 1.]],\n",
       "\n",
       "       [[1., 1., 1.],\n",
       "        [1., 1., 1.]],\n",
       "\n",
       "       [[1., 1., 1.],\n",
       "        [1., 1., 1.]]])"
      ]
     },
     "execution_count": 6,
     "metadata": {},
     "output_type": "execute_result"
    }
   ],
   "source": [
    "#5. Create a 5x2x3 3-dimensional array with all values equaling 1.\n",
    "#Assign the array to variable \"b\"\n",
    "b=np.ones((5,2,3))\n",
    "\n",
    "b"
   ]
  },
  {
   "cell_type": "code",
   "execution_count": 7,
   "id": "c190785d",
   "metadata": {},
   "outputs": [
    {
     "name": "stdout",
     "output_type": "stream",
     "text": [
      "[[[1. 1. 1.]\n",
      "  [1. 1. 1.]]\n",
      "\n",
      " [[1. 1. 1.]\n",
      "  [1. 1. 1.]]\n",
      "\n",
      " [[1. 1. 1.]\n",
      "  [1. 1. 1.]]\n",
      "\n",
      " [[1. 1. 1.]\n",
      "  [1. 1. 1.]]\n",
      "\n",
      " [[1. 1. 1.]\n",
      "  [1. 1. 1.]]]\n"
     ]
    }
   ],
   "source": [
    "#6. Print b.\n",
    "print(b)"
   ]
  },
  {
   "cell_type": "code",
   "execution_count": 8,
   "id": "4561f9ff",
   "metadata": {},
   "outputs": [
    {
     "data": {
      "text/plain": [
       "True"
      ]
     },
     "execution_count": 8,
     "metadata": {},
     "output_type": "execute_result"
    }
   ],
   "source": [
    "#7. Do a and b have the same size? How do you prove that in Python code?\n",
    "#Sí\n",
    "a.size==b.size"
   ]
  },
  {
   "cell_type": "code",
   "execution_count": 9,
   "id": "8a27ef4d",
   "metadata": {},
   "outputs": [
    {
     "data": {
      "text/plain": [
       "False"
      ]
     },
     "execution_count": 9,
     "metadata": {},
     "output_type": "execute_result"
    }
   ],
   "source": [
    "#8. Are you able to add a and b? Why or why not?\n",
    "#no, porque no tienen la misma forma.\n",
    "a.shape==b.shape"
   ]
  },
  {
   "cell_type": "code",
   "execution_count": 10,
   "id": "2d3f4c9a",
   "metadata": {},
   "outputs": [
    {
     "data": {
      "text/plain": [
       "array([[[1., 1., 1., 1., 1.],\n",
       "        [1., 1., 1., 1., 1.],\n",
       "        [1., 1., 1., 1., 1.]],\n",
       "\n",
       "       [[1., 1., 1., 1., 1.],\n",
       "        [1., 1., 1., 1., 1.],\n",
       "        [1., 1., 1., 1., 1.]]])"
      ]
     },
     "execution_count": 10,
     "metadata": {},
     "output_type": "execute_result"
    }
   ],
   "source": [
    "#9. Transpose b so that it has the same structure of a (i.e. become a 2x3x5 array). Assign the transposed array to varialbe \"c\".\n",
    "c=b.transpose((1,2,0))\n",
    "\n",
    "c"
   ]
  },
  {
   "cell_type": "code",
   "execution_count": 11,
   "id": "73211dc1",
   "metadata": {},
   "outputs": [
    {
     "data": {
      "text/plain": [
       "array([[[1.6671661 , 1.30272348, 1.78491439, 1.63846204, 1.44761597],\n",
       "        [1.55273483, 1.63075345, 1.2767653 , 1.09104706, 1.24140134],\n",
       "        [1.70204151, 1.79283785, 1.65104864, 1.21503311, 1.76447068]],\n",
       "\n",
       "       [[1.32773849, 1.48471275, 1.65257186, 1.64936964, 1.75342442],\n",
       "        [1.42790583, 1.2388563 , 1.39432007, 1.01243007, 1.10492819],\n",
       "        [1.87328791, 1.73174253, 1.66931533, 1.76701811, 1.69213591]]])"
      ]
     },
     "execution_count": 11,
     "metadata": {},
     "output_type": "execute_result"
    }
   ],
   "source": [
    "#10. Try to add a and c. Now it should work. Assign the sum to varialbe \"d\". But why does it work now?\n",
    "d=a+c\n",
    "\n",
    "d"
   ]
  },
  {
   "cell_type": "code",
   "execution_count": 12,
   "id": "160c92e4",
   "metadata": {},
   "outputs": [
    {
     "name": "stdout",
     "output_type": "stream",
     "text": [
      "[[[0.6671661  0.30272348 0.78491439 0.63846204 0.44761597]\n",
      "  [0.55273483 0.63075345 0.2767653  0.09104706 0.24140134]\n",
      "  [0.70204151 0.79283785 0.65104864 0.21503311 0.76447068]]\n",
      "\n",
      " [[0.32773849 0.48471275 0.65257186 0.64936964 0.75342442]\n",
      "  [0.42790583 0.2388563  0.39432007 0.01243007 0.10492819]\n",
      "  [0.87328791 0.73174253 0.66931533 0.76701811 0.69213591]]]\n",
      "[[[1.6671661  1.30272348 1.78491439 1.63846204 1.44761597]\n",
      "  [1.55273483 1.63075345 1.2767653  1.09104706 1.24140134]\n",
      "  [1.70204151 1.79283785 1.65104864 1.21503311 1.76447068]]\n",
      "\n",
      " [[1.32773849 1.48471275 1.65257186 1.64936964 1.75342442]\n",
      "  [1.42790583 1.2388563  1.39432007 1.01243007 1.10492819]\n",
      "  [1.87328791 1.73174253 1.66931533 1.76701811 1.69213591]]]\n"
     ]
    }
   ],
   "source": [
    "#11. Print a and d. Notice the difference and relation of the two array in terms of the values? Explain.\n",
    "print(a)\n",
    "print(d)\n",
    "#la diferencia es que a la amtriz d se le ha sumado 1 a cada elemento de la matriz"
   ]
  },
  {
   "cell_type": "code",
   "execution_count": 13,
   "id": "cba21cef",
   "metadata": {},
   "outputs": [
    {
     "data": {
      "text/plain": [
       "array([[[0.6671661 , 0.30272348, 0.78491439, 0.63846204, 0.44761597],\n",
       "        [0.55273483, 0.63075345, 0.2767653 , 0.09104706, 0.24140134],\n",
       "        [0.70204151, 0.79283785, 0.65104864, 0.21503311, 0.76447068]],\n",
       "\n",
       "       [[0.32773849, 0.48471275, 0.65257186, 0.64936964, 0.75342442],\n",
       "        [0.42790583, 0.2388563 , 0.39432007, 0.01243007, 0.10492819],\n",
       "        [0.87328791, 0.73174253, 0.66931533, 0.76701811, 0.69213591]]])"
      ]
     },
     "execution_count": 13,
     "metadata": {},
     "output_type": "execute_result"
    }
   ],
   "source": [
    "#12. Multiply a and c. Assign the result to e.\n",
    "e=a*c\n",
    "\n",
    "e"
   ]
  },
  {
   "cell_type": "code",
   "execution_count": 14,
   "id": "a02ea28d",
   "metadata": {},
   "outputs": [
    {
     "data": {
      "text/plain": [
       "array([[[ True,  True,  True,  True,  True],\n",
       "        [ True,  True,  True,  True,  True],\n",
       "        [ True,  True,  True,  True,  True]],\n",
       "\n",
       "       [[ True,  True,  True,  True,  True],\n",
       "        [ True,  True,  True,  True,  True],\n",
       "        [ True,  True,  True,  True,  True]]])"
      ]
     },
     "execution_count": 14,
     "metadata": {},
     "output_type": "execute_result"
    }
   ],
   "source": [
    "#13. Does e equal to a? Why or why not?\n",
    "e==a\n",
    "#Sí, porque al haber multiplicado todos los elementos por el mismo valor el determinante de la matriz sigue siendo el mismo."
   ]
  },
  {
   "cell_type": "code",
   "execution_count": 15,
   "id": "29b4d833",
   "metadata": {},
   "outputs": [
    {
     "name": "stdout",
     "output_type": "stream",
     "text": [
      "1.8732879065092893\n"
     ]
    }
   ],
   "source": [
    "#14. Identify the max, min, and mean values in d. Assign those values to variables \"d_max\", \"d_min\", and \"d_mean\"\n",
    "d_max=d.max()\n",
    "print(d_max)"
   ]
  },
  {
   "cell_type": "code",
   "execution_count": 16,
   "id": "4159a827",
   "metadata": {},
   "outputs": [
    {
     "name": "stdout",
     "output_type": "stream",
     "text": [
      "1.012430065391972\n"
     ]
    }
   ],
   "source": [
    "d_min=d.min()\n",
    "print(d_min)"
   ]
  },
  {
   "cell_type": "code",
   "execution_count": 17,
   "id": "3790e50d",
   "metadata": {},
   "outputs": [
    {
     "name": "stdout",
     "output_type": "stream",
     "text": [
      "1.5179591057193307\n"
     ]
    }
   ],
   "source": [
    "d_mean=d.mean()\n",
    "print(d_mean)"
   ]
  },
  {
   "cell_type": "code",
   "execution_count": 18,
   "id": "6069856b",
   "metadata": {},
   "outputs": [
    {
     "name": "stdout",
     "output_type": "stream",
     "text": [
      "[[[0.6671661  0.30272348 0.78491439 0.63846204 0.44761597]\n",
      "  [0.55273483 0.63075345 0.2767653  0.09104706 0.24140134]\n",
      "  [0.70204151 0.79283785 0.65104864 0.21503311 0.76447068]]\n",
      "\n",
      " [[0.32773849 0.48471275 0.65257186 0.64936964 0.75342442]\n",
      "  [0.42790583 0.2388563  0.39432007 0.01243007 0.10492819]\n",
      "  [0.87328791 0.73174253 0.66931533 0.76701811 0.69213591]]]\n"
     ]
    }
   ],
   "source": [
    "#15. Now we want to label the values in d. First create an empty array \"f\" with the same shape (i.e. 2x3x5) as d using `np.empty`.\n",
    "t=(2,3,5)\n",
    "f=np.empty(t)\n",
    "print(f)"
   ]
  },
  {
   "cell_type": "code",
   "execution_count": 19,
   "id": "68a740c7",
   "metadata": {},
   "outputs": [],
   "source": [
    "#16. Populate the values in f. For each value in d, if it's larger than d_min but smaller than d_mean, assign 25 to the corresponding value in f.\n",
    "#If a value in d is larger than d_mean but smaller than d_max, assign 75 to the corresponding value in f.\n",
    "#If a value equals to d_mean, assign 50 to the corresponding value in f.\n",
    "#Assign 0 to the corresponding value(s) in f for d_min in d.\n",
    "#Assign 100 to the corresponding value(s) in f for d_max in d.\n",
    "#In the end, f should have only the following values: 0, 25, 50, 75, and 100.\n",
    "#Note: you don't have to use Numpy in this question."
   ]
  },
  {
   "cell_type": "code",
   "execution_count": 20,
   "id": "5256f92d",
   "metadata": {},
   "outputs": [
    {
     "data": {
      "text/plain": [
       "array([[[ 75.,  25.,  75.,  75.,  25.],\n",
       "        [ 75.,  75.,  25.,  25.,  25.],\n",
       "        [ 75.,  75.,  75.,  25.,  75.]],\n",
       "\n",
       "       [[ 25.,  25.,  75.,  75.,  75.],\n",
       "        [ 25.,  25.,  25.,   0.,  25.],\n",
       "        [100.,  75.,  75.,  75.,  75.]]])"
      ]
     },
     "execution_count": 20,
     "metadata": {},
     "output_type": "execute_result"
    }
   ],
   "source": [
    "f = np.zeros_like(d)\n",
    "for i in range(d.shape[0]):\n",
    "    for j in range(d.shape[1]):\n",
    "        for k in range(d.shape[2]):\n",
    "            if d_min < d[i, j, k] < d_mean:\n",
    "                f[i, j, k] = 25\n",
    "            elif d_mean < d[i, j, k] < d_max:\n",
    "                f[i, j, k] = 75\n",
    "            elif d[i, j, k] == d_mean:\n",
    "                f[i, j, k] = 50\n",
    "            elif d[i, j, k] == d_min:\n",
    "                f[i, j, k] = 0\n",
    "            elif d[i, j, k] == d_max:\n",
    "                f[i, j, k] = 100\n",
    "f"
   ]
  },
  {
   "cell_type": "code",
   "execution_count": 24,
   "id": "05b5d9f2",
   "metadata": {},
   "outputs": [],
   "source": [
    "#17. Print d and f. Do you have your expected f?\n",
    "#For instance, if your d is:\n",
    "#array([[[1.85836099, 1.67064465, 1.62576044, 1.40243961, 1.88454931],\n",
    "#        [1.75354326, 1.69403643, 1.36729252, 1.61415071, 1.12104981],\n",
    "#        [1.72201435, 1.1862918 , 1.87078449, 1.7726778 , 1.88180042]],\n",
    "#\n",
    "#       [[1.44747908, 1.31673383, 1.02000951, 1.52218947, 1.97066381],\n",
    "#        [1.79129243, 1.74983003, 1.96028037, 1.85166831, 1.65450881],\n",
    "#        [1.18068344, 1.9587381 , 1.00656599, 1.93402165, 1.73514584]]])\n",
    "#\n",
    "#Your f should be:\n",
    "#array([[[ 75.,  75.,  75.,  25.,  75.],\n",
    "#        [ 75.,  75.,  25.,  25.,  25.],\n",
    "#        [ 75.,  25.,  75.,  75.,  75.]],\n",
    "#\n",
    "#       [[ 25.,  25.,  25.,  25., 100.],\n",
    "#        [ 75.,  75.,  75.,  75.,  75.],\n",
    "#        [ 25.,  75.,   0.,  75.,  75.]]])\n"
   ]
  },
  {
   "cell_type": "code",
   "execution_count": 25,
   "id": "ae42477f",
   "metadata": {},
   "outputs": [
    {
     "name": "stdout",
     "output_type": "stream",
     "text": [
      "[[[ 75.  25.  75.  75.  25.]\n",
      "  [ 75.  75.  25.  25.  25.]\n",
      "  [ 75.  75.  75.  25.  75.]]\n",
      "\n",
      " [[ 25.  25.  75.  75.  75.]\n",
      "  [ 25.  25.  25.   0.  25.]\n",
      "  [100.  75.  75.  75.  75.]]]\n",
      "[[[1.6671661  1.30272348 1.78491439 1.63846204 1.44761597]\n",
      "  [1.55273483 1.63075345 1.2767653  1.09104706 1.24140134]\n",
      "  [1.70204151 1.79283785 1.65104864 1.21503311 1.76447068]]\n",
      "\n",
      " [[1.32773849 1.48471275 1.65257186 1.64936964 1.75342442]\n",
      "  [1.42790583 1.2388563  1.39432007 1.01243007 1.10492819]\n",
      "  [1.87328791 1.73174253 1.66931533 1.76701811 1.69213591]]]\n"
     ]
    }
   ],
   "source": [
    "print(f)\n",
    "print(d)"
   ]
  },
  {
   "cell_type": "code",
   "execution_count": null,
   "id": "88b8053c",
   "metadata": {},
   "outputs": [],
   "source": []
  }
 ],
 "metadata": {
  "kernelspec": {
   "display_name": "Python 3 (ipykernel)",
   "language": "python",
   "name": "python3"
  },
  "language_info": {
   "codemirror_mode": {
    "name": "ipython",
    "version": 3
   },
   "file_extension": ".py",
   "mimetype": "text/x-python",
   "name": "python",
   "nbconvert_exporter": "python",
   "pygments_lexer": "ipython3",
   "version": "3.11.4"
  }
 },
 "nbformat": 4,
 "nbformat_minor": 5
}
