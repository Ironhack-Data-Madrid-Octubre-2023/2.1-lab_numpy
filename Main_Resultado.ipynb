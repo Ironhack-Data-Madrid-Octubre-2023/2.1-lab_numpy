{
 "cells": [
  {
   "cell_type": "markdown",
   "id": "585a48b2",
   "metadata": {},
   "source": [
    "#1. Import the NUMPY package under the name np."
   ]
  },
  {
   "cell_type": "code",
   "execution_count": 1,
   "id": "1ff314b8",
   "metadata": {},
   "outputs": [],
   "source": [
    "import numpy as np"
   ]
  },
  {
   "cell_type": "markdown",
   "id": "4726c4c9",
   "metadata": {},
   "source": [
    "#2. Print the NUMPY version and the configuration."
   ]
  },
  {
   "cell_type": "code",
   "execution_count": 2,
   "id": "de161e84",
   "metadata": {},
   "outputs": [
    {
     "name": "stdout",
     "output_type": "stream",
     "text": [
      "NumPy Version: 1.26.0\n"
     ]
    }
   ],
   "source": [
    "print(\"NumPy Version:\", np.__version__)"
   ]
  },
  {
   "cell_type": "markdown",
   "id": "bfc7364f",
   "metadata": {},
   "source": [
    "#3. Generate a 2x3x5 3-dimensional array with random values. Assign the array to variable \"a\" \n",
    "\n",
    "#Challenge: there are at least three easy ways that use numpy to generate random arrays. How many ways can you find?"
   ]
  },
  {
   "cell_type": "code",
   "execution_count": 24,
   "id": "81ccd6e4",
   "metadata": {},
   "outputs": [
    {
     "data": {
      "text/plain": [
       "array([[[0.33750931, 0.34016522, 0.00682647, 0.69744173, 0.11708707],\n",
       "        [0.4128969 , 0.46402655, 0.53682351, 0.5924265 , 0.75658951],\n",
       "        [0.77645337, 0.80668742, 0.5644531 , 0.32104205, 0.33450897]],\n",
       "\n",
       "       [[0.95753388, 0.54469622, 0.72087273, 0.36185722, 0.81057466],\n",
       "        [0.94251383, 0.08580039, 0.37329   , 0.5145727 , 0.62067528],\n",
       "        [0.45559819, 0.24445192, 0.15690615, 0.94994447, 0.3445699 ]]])"
      ]
     },
     "execution_count": 24,
     "metadata": {},
     "output_type": "execute_result"
    }
   ],
   "source": [
    "a = np.random.random((2, 3, 5))\n",
    "\n",
    "a"
   ]
  },
  {
   "cell_type": "code",
   "execution_count": 30,
   "id": "37642774",
   "metadata": {},
   "outputs": [
    {
     "data": {
      "text/plain": [
       "array([[[0.76547664, 0.3886131 , 0.61346401, 0.88690653, 0.57861852],\n",
       "        [0.81806279, 0.82475414, 0.12098625, 0.52583206, 0.60660074],\n",
       "        [0.73230638, 0.60468318, 0.09236257, 0.35786115, 0.92867499]],\n",
       "\n",
       "       [[0.54058822, 0.82095192, 0.9053879 , 0.52806248, 0.43913407],\n",
       "        [0.70259305, 0.32996783, 0.16182497, 0.18659107, 0.2092757 ],\n",
       "        [0.15148309, 0.94204456, 0.27506176, 0.07838521, 0.8508707 ]]])"
      ]
     },
     "execution_count": 30,
     "metadata": {},
     "output_type": "execute_result"
    }
   ],
   "source": [
    "\n",
    "shape = (2, 3, 5)\n",
    "\n",
    "a = np.empty(shape)\n",
    "\n",
    "for i in range(shape[0]):\n",
    "    for j in range(shape[1]):\n",
    "        for k in range(shape[2]):\n",
    "            a[i, j, k] = np.random.rand()\n",
    "\n",
    "a\n",
    "    "
   ]
  },
  {
   "cell_type": "markdown",
   "id": "73942941",
   "metadata": {},
   "source": [
    "#4. Print a."
   ]
  },
  {
   "cell_type": "code",
   "execution_count": 31,
   "id": "9fc16f1a",
   "metadata": {},
   "outputs": [
    {
     "name": "stdout",
     "output_type": "stream",
     "text": [
      "[[[0.76547664 0.3886131  0.61346401 0.88690653 0.57861852]\n",
      "  [0.81806279 0.82475414 0.12098625 0.52583206 0.60660074]\n",
      "  [0.73230638 0.60468318 0.09236257 0.35786115 0.92867499]]\n",
      "\n",
      " [[0.54058822 0.82095192 0.9053879  0.52806248 0.43913407]\n",
      "  [0.70259305 0.32996783 0.16182497 0.18659107 0.2092757 ]\n",
      "  [0.15148309 0.94204456 0.27506176 0.07838521 0.8508707 ]]]\n"
     ]
    }
   ],
   "source": [
    "print (a)"
   ]
  },
  {
   "cell_type": "markdown",
   "id": "9678bf59",
   "metadata": {},
   "source": [
    "#5. Create a 5x2x3 3-dimensional array with all values equaling 1.\n",
    "#Assign the array to variable \"b\""
   ]
  },
  {
   "cell_type": "code",
   "execution_count": 32,
   "id": "5a470373",
   "metadata": {},
   "outputs": [
    {
     "data": {
      "text/plain": [
       "array([[[1., 1., 1.],\n",
       "        [1., 1., 1.]],\n",
       "\n",
       "       [[1., 1., 1.],\n",
       "        [1., 1., 1.]],\n",
       "\n",
       "       [[1., 1., 1.],\n",
       "        [1., 1., 1.]],\n",
       "\n",
       "       [[1., 1., 1.],\n",
       "        [1., 1., 1.]],\n",
       "\n",
       "       [[1., 1., 1.],\n",
       "        [1., 1., 1.]]])"
      ]
     },
     "execution_count": 32,
     "metadata": {},
     "output_type": "execute_result"
    }
   ],
   "source": [
    "b = np.ones((5,2,3))\n",
    "\n",
    "b"
   ]
  },
  {
   "cell_type": "code",
   "execution_count": null,
   "id": "4f793d35",
   "metadata": {},
   "outputs": [],
   "source": []
  }
 ],
 "metadata": {
  "kernelspec": {
   "display_name": "clase",
   "language": "python",
   "name": "clase"
  },
  "language_info": {
   "codemirror_mode": {
    "name": "ipython",
    "version": 3
   },
   "file_extension": ".py",
   "mimetype": "text/x-python",
   "name": "python",
   "nbconvert_exporter": "python",
   "pygments_lexer": "ipython3",
   "version": "3.10.13"
  }
 },
 "nbformat": 4,
 "nbformat_minor": 5
}
