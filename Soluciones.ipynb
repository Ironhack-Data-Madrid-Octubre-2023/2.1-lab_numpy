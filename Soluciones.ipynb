{
 "cells": [
  {
   "cell_type": "markdown",
   "id": "ffa1ac2a",
   "metadata": {},
   "source": [
    "# 1. Import the NUMPY package under the name np."
   ]
  },
  {
   "cell_type": "code",
   "execution_count": 3,
   "id": "a7a0770e",
   "metadata": {},
   "outputs": [],
   "source": [
    "import numpy as np"
   ]
  },
  {
   "cell_type": "markdown",
   "id": "16067a68",
   "metadata": {},
   "source": [
    "# 2. Print the NUMPY version and the configuration."
   ]
  },
  {
   "cell_type": "code",
   "execution_count": 4,
   "id": "4e451d87",
   "metadata": {},
   "outputs": [
    {
     "name": "stdout",
     "output_type": "stream",
     "text": [
      "Numpy version: 1.24.3\n"
     ]
    }
   ],
   "source": [
    "print('Numpy version:', np.__version__)"
   ]
  },
  {
   "cell_type": "markdown",
   "id": "e5321a4a",
   "metadata": {},
   "source": [
    "# 3. Generate a 2x3x5 3-dimensional array with random values. Assign the array to variable \"a\"\n",
    "# Challenge: there are at least three easy ways that use numpy to generate random arrays. How many ways can you find?"
   ]
  },
  {
   "cell_type": "code",
   "execution_count": 5,
   "id": "d4bd9c77",
   "metadata": {},
   "outputs": [],
   "source": [
    "a = np.random.random((2, 3, 5)) "
   ]
  },
  {
   "cell_type": "code",
   "execution_count": 6,
   "id": "76a0e08b",
   "metadata": {},
   "outputs": [],
   "source": [
    "a= np.empty ((2,3,5))\n",
    "for i in range (2):\n",
    "    for x in range(3):\n",
    "        for y in range(5):\n",
    "            a[i, x, y] = np.random.rand()"
   ]
  },
  {
   "cell_type": "code",
   "execution_count": 7,
   "id": "923d64a8",
   "metadata": {},
   "outputs": [],
   "source": [
    "a= np.random.random (2*3*5).reshape(2,3,5)"
   ]
  },
  {
   "cell_type": "markdown",
   "id": "5d379127",
   "metadata": {},
   "source": [
    "# 4. Print a."
   ]
  },
  {
   "cell_type": "code",
   "execution_count": 8,
   "id": "865c58eb",
   "metadata": {},
   "outputs": [
    {
     "name": "stdout",
     "output_type": "stream",
     "text": [
      "[[[0.92834097 0.28293673 0.85169365 0.4175109  0.88626683]\n",
      "  [0.53762954 0.3776229  0.74432864 0.01608092 0.55251652]\n",
      "  [0.08118653 0.90060949 0.28627268 0.87561976 0.51346514]]\n",
      "\n",
      " [[0.82065775 0.55581512 0.71792449 0.0900168  0.41706534]\n",
      "  [0.61250775 0.95921788 0.01663627 0.55506213 0.03677809]\n",
      "  [0.5493316  0.30988592 0.60296111 0.57649675 0.93647513]]]\n"
     ]
    }
   ],
   "source": [
    "print (a)"
   ]
  },
  {
   "cell_type": "markdown",
   "id": "d268938e",
   "metadata": {},
   "source": [
    "# 5. Create a 5x2x3 3-dimensional array with all values equaling 1.\n",
    "#Assign the array to variable \"b\""
   ]
  },
  {
   "cell_type": "code",
   "execution_count": 9,
   "id": "9e76585f",
   "metadata": {},
   "outputs": [],
   "source": [
    "b = np.ones((5,2,3)) \n"
   ]
  },
  {
   "cell_type": "markdown",
   "id": "4518ae40",
   "metadata": {},
   "source": [
    "# 6. Print b."
   ]
  },
  {
   "cell_type": "code",
   "execution_count": 10,
   "id": "bc9a844e",
   "metadata": {},
   "outputs": [
    {
     "name": "stdout",
     "output_type": "stream",
     "text": [
      "[[[1. 1. 1.]\n",
      "  [1. 1. 1.]]\n",
      "\n",
      " [[1. 1. 1.]\n",
      "  [1. 1. 1.]]\n",
      "\n",
      " [[1. 1. 1.]\n",
      "  [1. 1. 1.]]\n",
      "\n",
      " [[1. 1. 1.]\n",
      "  [1. 1. 1.]]\n",
      "\n",
      " [[1. 1. 1.]\n",
      "  [1. 1. 1.]]]\n"
     ]
    }
   ],
   "source": [
    "print(b)"
   ]
  },
  {
   "cell_type": "markdown",
   "id": "d4075e55",
   "metadata": {},
   "source": [
    "# 7. Do a and b have the same size? How do you prove that in Python code?"
   ]
  },
  {
   "cell_type": "code",
   "execution_count": 11,
   "id": "927b75bb",
   "metadata": {},
   "outputs": [
    {
     "data": {
      "text/plain": [
       "True"
      ]
     },
     "execution_count": 11,
     "metadata": {},
     "output_type": "execute_result"
    }
   ],
   "source": [
    "a.size == b.size"
   ]
  },
  {
   "cell_type": "markdown",
   "id": "737f2a6f",
   "metadata": {},
   "source": [
    "# 8. Are you able to add a and b? Why or why not?"
   ]
  },
  {
   "cell_type": "markdown",
   "id": "dcf7bf04",
   "metadata": {},
   "source": [
    "It is not possible because of the shape. If we transpose it, then yes. "
   ]
  },
  {
   "cell_type": "markdown",
   "id": "96d01c7d",
   "metadata": {},
   "source": [
    "# 9. Transpose b so that it has the same structure of a (i.e. become a 2x3x5 array). Assign the transposed array to varialbe \"c\"."
   ]
  },
  {
   "cell_type": "code",
   "execution_count": 12,
   "id": "17c35a18",
   "metadata": {},
   "outputs": [
    {
     "data": {
      "text/plain": [
       "array([[[1., 1., 1., 1., 1.],\n",
       "        [1., 1., 1., 1., 1.],\n",
       "        [1., 1., 1., 1., 1.]],\n",
       "\n",
       "       [[1., 1., 1., 1., 1.],\n",
       "        [1., 1., 1., 1., 1.],\n",
       "        [1., 1., 1., 1., 1.]]])"
      ]
     },
     "execution_count": 12,
     "metadata": {},
     "output_type": "execute_result"
    }
   ],
   "source": [
    "c= b.transpose((1,2,0))\n",
    "c"
   ]
  },
  {
   "cell_type": "markdown",
   "id": "6a084867",
   "metadata": {},
   "source": [
    "# 10. Try to add a and c. Now it should work. Assign the sum to varialbe \"d\". But why does it work now?"
   ]
  },
  {
   "cell_type": "code",
   "execution_count": 13,
   "id": "ff6081dd",
   "metadata": {},
   "outputs": [
    {
     "data": {
      "text/plain": [
       "array([[[1.92834097, 1.28293673, 1.85169365, 1.4175109 , 1.88626683],\n",
       "        [1.53762954, 1.3776229 , 1.74432864, 1.01608092, 1.55251652],\n",
       "        [1.08118653, 1.90060949, 1.28627268, 1.87561976, 1.51346514]],\n",
       "\n",
       "       [[1.82065775, 1.55581512, 1.71792449, 1.0900168 , 1.41706534],\n",
       "        [1.61250775, 1.95921788, 1.01663627, 1.55506213, 1.03677809],\n",
       "        [1.5493316 , 1.30988592, 1.60296111, 1.57649675, 1.93647513]]])"
      ]
     },
     "execution_count": 13,
     "metadata": {},
     "output_type": "execute_result"
    }
   ],
   "source": [
    "d= a+c\n",
    "d"
   ]
  },
  {
   "cell_type": "markdown",
   "id": "281e9823",
   "metadata": {},
   "source": [
    "# 11. Print a and d. Notice the difference and relation of the two array in terms of the values? Explain."
   ]
  },
  {
   "cell_type": "code",
   "execution_count": 14,
   "id": "ed9fac11",
   "metadata": {},
   "outputs": [
    {
     "data": {
      "text/plain": [
       "array([[[0.92834097, 0.28293673, 0.85169365, 0.4175109 , 0.88626683],\n",
       "        [0.53762954, 0.3776229 , 0.74432864, 0.01608092, 0.55251652],\n",
       "        [0.08118653, 0.90060949, 0.28627268, 0.87561976, 0.51346514]],\n",
       "\n",
       "       [[0.82065775, 0.55581512, 0.71792449, 0.0900168 , 0.41706534],\n",
       "        [0.61250775, 0.95921788, 0.01663627, 0.55506213, 0.03677809],\n",
       "        [0.5493316 , 0.30988592, 0.60296111, 0.57649675, 0.93647513]]])"
      ]
     },
     "execution_count": 14,
     "metadata": {},
     "output_type": "execute_result"
    }
   ],
   "source": [
    "a"
   ]
  },
  {
   "cell_type": "code",
   "execution_count": 15,
   "id": "5de6e7b8",
   "metadata": {},
   "outputs": [
    {
     "data": {
      "text/plain": [
       "array([[[1.92834097, 1.28293673, 1.85169365, 1.4175109 , 1.88626683],\n",
       "        [1.53762954, 1.3776229 , 1.74432864, 1.01608092, 1.55251652],\n",
       "        [1.08118653, 1.90060949, 1.28627268, 1.87561976, 1.51346514]],\n",
       "\n",
       "       [[1.82065775, 1.55581512, 1.71792449, 1.0900168 , 1.41706534],\n",
       "        [1.61250775, 1.95921788, 1.01663627, 1.55506213, 1.03677809],\n",
       "        [1.5493316 , 1.30988592, 1.60296111, 1.57649675, 1.93647513]]])"
      ]
     },
     "execution_count": 15,
     "metadata": {},
     "output_type": "execute_result"
    }
   ],
   "source": [
    "d"
   ]
  },
  {
   "cell_type": "markdown",
   "id": "64215bb4",
   "metadata": {},
   "source": [
    "Podemos ver como en la matriz d se suma el valor 1 a la matriz a."
   ]
  },
  {
   "cell_type": "markdown",
   "id": "0c3762cf",
   "metadata": {},
   "source": [
    "# 12. Multiply a and c. Assign the result to e."
   ]
  },
  {
   "cell_type": "code",
   "execution_count": 16,
   "id": "cbcd31de",
   "metadata": {},
   "outputs": [
    {
     "data": {
      "text/plain": [
       "array([[[0.92834097, 0.28293673, 0.85169365, 0.4175109 , 0.88626683],\n",
       "        [0.53762954, 0.3776229 , 0.74432864, 0.01608092, 0.55251652],\n",
       "        [0.08118653, 0.90060949, 0.28627268, 0.87561976, 0.51346514]],\n",
       "\n",
       "       [[0.82065775, 0.55581512, 0.71792449, 0.0900168 , 0.41706534],\n",
       "        [0.61250775, 0.95921788, 0.01663627, 0.55506213, 0.03677809],\n",
       "        [0.5493316 , 0.30988592, 0.60296111, 0.57649675, 0.93647513]]])"
      ]
     },
     "execution_count": 16,
     "metadata": {},
     "output_type": "execute_result"
    }
   ],
   "source": [
    "e= a*c\n",
    "e"
   ]
  },
  {
   "cell_type": "markdown",
   "id": "28130b66",
   "metadata": {},
   "source": [
    "# 13. Does e equal to a? Why or why not?"
   ]
  },
  {
   "cell_type": "code",
   "execution_count": 17,
   "id": "65a9be5d",
   "metadata": {},
   "outputs": [
    {
     "data": {
      "text/plain": [
       "array([[[ True,  True,  True,  True,  True],\n",
       "        [ True,  True,  True,  True,  True],\n",
       "        [ True,  True,  True,  True,  True]],\n",
       "\n",
       "       [[ True,  True,  True,  True,  True],\n",
       "        [ True,  True,  True,  True,  True],\n",
       "        [ True,  True,  True,  True,  True]]])"
      ]
     },
     "execution_count": 17,
     "metadata": {},
     "output_type": "execute_result"
    }
   ],
   "source": [
    "e==a"
   ]
  },
  {
   "cell_type": "markdown",
   "id": "8d1f7071",
   "metadata": {},
   "source": [
    "Si, ya que lo hemos multiplicado por el mismo determinante que es 1 de la matriz. "
   ]
  },
  {
   "cell_type": "markdown",
   "id": "c52c96fd",
   "metadata": {},
   "source": [
    "# 14. Identify the max, min, and mean values in d. Assign those values to variables \"d_max\", \"d_min\", and \"d_mean\"\n"
   ]
  },
  {
   "cell_type": "code",
   "execution_count": 18,
   "id": "6c8607e4",
   "metadata": {},
   "outputs": [
    {
     "data": {
      "text/plain": [
       "1.9592178794014825"
      ]
     },
     "execution_count": 18,
     "metadata": {},
     "output_type": "execute_result"
    }
   ],
   "source": [
    "d_max=d.max()\n",
    "d_max"
   ]
  },
  {
   "cell_type": "code",
   "execution_count": 19,
   "id": "b8d3d5e9",
   "metadata": {},
   "outputs": [
    {
     "data": {
      "text/plain": [
       "1.0160809246100606"
      ]
     },
     "execution_count": 19,
     "metadata": {},
     "output_type": "execute_result"
    }
   ],
   "source": [
    "d_min=d.min()\n",
    "d_min"
   ]
  },
  {
   "cell_type": "code",
   "execution_count": 20,
   "id": "cfe1ba2a",
   "metadata": {},
   "outputs": [
    {
     "data": {
      "text/plain": [
       "1.5336304450681897"
      ]
     },
     "execution_count": 20,
     "metadata": {},
     "output_type": "execute_result"
    }
   ],
   "source": [
    "d_mean=d.mean()\n",
    "d_mean"
   ]
  },
  {
   "cell_type": "markdown",
   "id": "bfa8fa85",
   "metadata": {},
   "source": [
    "# 15. Now we want to label the values in d. First create an empty array \"f\" with the same shape (i.e. 2x3x5) as d using `np.empty`.\n"
   ]
  },
  {
   "cell_type": "code",
   "execution_count": 22,
   "id": "19334e41",
   "metadata": {},
   "outputs": [
    {
     "name": "stdout",
     "output_type": "stream",
     "text": [
      "[[[0.92834097 0.28293673 0.85169365 0.4175109  0.88626683]\n",
      "  [0.53762954 0.3776229  0.74432864 0.01608092 0.55251652]\n",
      "  [0.08118653 0.90060949 0.28627268 0.87561976 0.51346514]]\n",
      "\n",
      " [[0.82065775 0.55581512 0.71792449 0.0900168  0.41706534]\n",
      "  [0.61250775 0.95921788 0.01663627 0.55506213 0.03677809]\n",
      "  [0.5493316  0.30988592 0.60296111 0.57649675 0.93647513]]]\n"
     ]
    }
   ],
   "source": [
    "t=(2,3,5)\n",
    "f=np.empty(t)\n",
    "print(f)\n"
   ]
  },
  {
   "cell_type": "markdown",
   "id": "bcd82eab",
   "metadata": {},
   "source": [
    "# 16. Populate the values in f. For each value in d, if it's larger than d_min but smaller than d_mean, assign 25 to the corresponding value in f.\n",
    "If a value in d is larger than d_mean but smaller than d_max, assign 75 to the corresponding value in f.\n",
    "If a value equals to d_mean, assign 50 to the corresponding value in f.\n",
    "Assign 0 to the corresponding value(s) in f for d_min in d.\n",
    "Assign 100 to the corresponding value(s) in f for d_max in d.\n",
    "In the end, f should have only the following values: 0, 25, 50, 75, and 100.\n",
    "Note: you don't have to use Numpy in this question."
   ]
  },
  {
   "cell_type": "code",
   "execution_count": 32,
   "id": "ac9e1342",
   "metadata": {},
   "outputs": [
    {
     "data": {
      "text/plain": [
       "array([[[ 75.,  25.,  75.,  25.,  75.],\n",
       "        [ 75.,  25.,  75.,   0.,  75.],\n",
       "        [ 25.,  75.,  25.,  75.,  25.]],\n",
       "\n",
       "       [[ 75.,  75.,  75.,  25.,  25.],\n",
       "        [ 75., 100.,  25.,  75.,  25.],\n",
       "        [ 75.,  25.,  75.,  75.,  75.]]])"
      ]
     },
     "execution_count": 32,
     "metadata": {},
     "output_type": "execute_result"
    }
   ],
   "source": [
    "f = np.zeros_like(d)\n",
    "\n",
    "for i in range(d.shape[0]):\n",
    "    for j in range(d.shape[1]):\n",
    "        for k in range(d.shape[2]):\n",
    "            if d_min < d[i, j, k] < d_mean:\n",
    "                f[i, j, k] = 25\n",
    "            elif d_mean < d[i, j, k] < d_max:\n",
    "                f[i, j, k] = 75\n",
    "            elif d[i, j, k] == d_mean:\n",
    "                f[i, j, k] = 50\n",
    "            elif d[i, j, k] == d_min:\n",
    "                f[i, j, k] = 0\n",
    "            elif d[i, j, k] == d_max:\n",
    "                f[i, j, k] = 100\n",
    "f  "
   ]
  },
  {
   "cell_type": "markdown",
   "id": "b5e2578c",
   "metadata": {},
   "source": [
    "# 17. Print d and f. Do you have your expected f?\n",
    "For instance, if your d is:\n",
    "array([[[1.85836099, 1.67064465, 1.62576044, 1.40243961, 1.88454931],\n",
    "        [1.75354326, 1.69403643, 1.36729252, 1.61415071, 1.12104981],\n",
    "        [1.72201435, 1.1862918 , 1.87078449, 1.7726778 , 1.88180042]],\n",
    "\n",
    "       [[1.44747908, 1.31673383, 1.02000951, 1.52218947, 1.97066381],\n",
    "        [1.79129243, 1.74983003, 1.96028037, 1.85166831, 1.65450881],\n",
    "        [1.18068344, 1.9587381 , 1.00656599, 1.93402165, 1.73514584]]])\n",
    "\n",
    "Your f should be:\n",
    "array([[[ 75.,  75.,  75.,  25.,  75.],\n",
    "        [ 75.,  75.,  25.,  25.,  25.],\n",
    "        [ 75.,  25.,  75.,  75.,  75.]],\n",
    "\n",
    "       [[ 25.,  25.,  25.,  25., 100.],\n",
    "        [ 75.,  75.,  75.,  75.,  75.],\n",
    "        [ 25.,  75.,   0.,  75.,  75.]]])\n",
    "\"\"\""
   ]
  },
  {
   "cell_type": "code",
   "execution_count": 29,
   "id": "3e9a0076",
   "metadata": {},
   "outputs": [
    {
     "data": {
      "text/plain": [
       "array([[[1.92834097, 1.28293673, 1.85169365, 1.4175109 , 1.88626683],\n",
       "        [1.53762954, 1.3776229 , 1.74432864, 1.01608092, 1.55251652],\n",
       "        [1.08118653, 1.90060949, 1.28627268, 1.87561976, 1.51346514]],\n",
       "\n",
       "       [[1.82065775, 1.55581512, 1.71792449, 1.0900168 , 1.41706534],\n",
       "        [1.61250775, 1.95921788, 1.01663627, 1.55506213, 1.03677809],\n",
       "        [1.5493316 , 1.30988592, 1.60296111, 1.57649675, 1.93647513]]])"
      ]
     },
     "execution_count": 29,
     "metadata": {},
     "output_type": "execute_result"
    }
   ],
   "source": [
    "d"
   ]
  },
  {
   "cell_type": "code",
   "execution_count": 30,
   "id": "2724b726",
   "metadata": {},
   "outputs": [
    {
     "data": {
      "text/plain": [
       "array([[[ 75.,  25.,  75.,  25.,  75.],\n",
       "        [ 75.,  25.,  75.,   0.,  75.],\n",
       "        [ 25.,  75.,  25.,  75.,  25.]],\n",
       "\n",
       "       [[ 75.,  75.,  75.,  25.,  25.],\n",
       "        [ 75., 100.,  25.,  75.,  25.],\n",
       "        [ 75.,  25.,  75.,  75.,  75.]]])"
      ]
     },
     "execution_count": 30,
     "metadata": {},
     "output_type": "execute_result"
    }
   ],
   "source": [
    "f"
   ]
  },
  {
   "cell_type": "code",
   "execution_count": null,
   "id": "ddf4b8c5",
   "metadata": {},
   "outputs": [],
   "source": []
  }
 ],
 "metadata": {
  "kernelspec": {
   "display_name": "Python 3 (ipykernel)",
   "language": "python",
   "name": "python3"
  },
  "language_info": {
   "codemirror_mode": {
    "name": "ipython",
    "version": 3
   },
   "file_extension": ".py",
   "mimetype": "text/x-python",
   "name": "python",
   "nbconvert_exporter": "python",
   "pygments_lexer": "ipython3",
   "version": "3.11.4"
  }
 },
 "nbformat": 4,
 "nbformat_minor": 5
}
