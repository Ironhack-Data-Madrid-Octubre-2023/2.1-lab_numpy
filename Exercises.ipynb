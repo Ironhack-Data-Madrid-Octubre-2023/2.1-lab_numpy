{
 "cells": [
  {
   "cell_type": "markdown",
   "metadata": {},
   "source": [
    "#1. Import the NUMPY package under the name np."
   ]
  },
  {
   "cell_type": "code",
   "execution_count": 1,
   "metadata": {},
   "outputs": [],
   "source": [
    "import numpy as np"
   ]
  },
  {
   "cell_type": "markdown",
   "metadata": {},
   "source": [
    "#2. Print the NUMPY version and the configuration."
   ]
  },
  {
   "cell_type": "code",
   "execution_count": 2,
   "metadata": {},
   "outputs": [
    {
     "name": "stdout",
     "output_type": "stream",
     "text": [
      "1.23.5\n"
     ]
    }
   ],
   "source": [
    "print(np.__version__)"
   ]
  },
  {
   "cell_type": "markdown",
   "metadata": {},
   "source": [
    "#3. Generate a 2x3x5 3-dimensional array with random values. Assign the array to variable \"a\"\n",
    "# Challenge: there are at least three easy ways that use numpy to generate random arrays. How many ways can you find?"
   ]
  },
  {
   "cell_type": "code",
   "execution_count": 10,
   "metadata": {},
   "outputs": [],
   "source": [
    "a = np.random.random((2,3,5))"
   ]
  },
  {
   "cell_type": "markdown",
   "metadata": {},
   "source": [
    "#4. Print a."
   ]
  },
  {
   "cell_type": "code",
   "execution_count": 11,
   "metadata": {},
   "outputs": [
    {
     "name": "stdout",
     "output_type": "stream",
     "text": [
      "[[[0.785081   0.67322941 0.48116698 0.45737224 0.88631432]\n",
      "  [0.75618612 0.46562911 0.41331045 0.56182131 0.36852079]\n",
      "  [0.44160328 0.14299179 0.49452041 0.86984014 0.66327538]]\n",
      "\n",
      " [[0.00531809 0.94165451 0.75587629 0.50453286 0.1837936 ]\n",
      "  [0.63155165 0.61497274 0.8845921  0.29773609 0.37419096]\n",
      "  [0.07642514 0.57475793 0.86702006 0.08140408 0.98437368]]]\n"
     ]
    }
   ],
   "source": [
    "print(a)"
   ]
  },
  {
   "cell_type": "markdown",
   "metadata": {},
   "source": [
    "#5. Create a 5x2x3 3-dimensional array with all values equaling 1.\n",
    "#Assign the array to variable \"b\""
   ]
  },
  {
   "cell_type": "code",
   "execution_count": 12,
   "metadata": {},
   "outputs": [],
   "source": [
    "b = np.ones((5,2,3))"
   ]
  },
  {
   "cell_type": "markdown",
   "metadata": {},
   "source": [
    "#6. Print b."
   ]
  },
  {
   "cell_type": "code",
   "execution_count": 13,
   "metadata": {},
   "outputs": [
    {
     "name": "stdout",
     "output_type": "stream",
     "text": [
      "[[[1. 1. 1.]\n",
      "  [1. 1. 1.]]\n",
      "\n",
      " [[1. 1. 1.]\n",
      "  [1. 1. 1.]]\n",
      "\n",
      " [[1. 1. 1.]\n",
      "  [1. 1. 1.]]\n",
      "\n",
      " [[1. 1. 1.]\n",
      "  [1. 1. 1.]]\n",
      "\n",
      " [[1. 1. 1.]\n",
      "  [1. 1. 1.]]]\n"
     ]
    }
   ],
   "source": [
    "print(b)"
   ]
  },
  {
   "cell_type": "markdown",
   "metadata": {},
   "source": [
    "#7. Do a and b have the same size? How do you prove that in Python code?"
   ]
  },
  {
   "cell_type": "code",
   "execution_count": 14,
   "metadata": {},
   "outputs": [
    {
     "data": {
      "text/plain": [
       "True"
      ]
     },
     "execution_count": 14,
     "metadata": {},
     "output_type": "execute_result"
    }
   ],
   "source": [
    "a.size == b.size\n"
   ]
  },
  {
   "cell_type": "markdown",
   "metadata": {},
   "source": [
    "#8. Are you able to add a and b? Why or why not?"
   ]
  },
  {
   "cell_type": "code",
   "execution_count": 15,
   "metadata": {},
   "outputs": [
    {
     "ename": "ValueError",
     "evalue": "operands could not be broadcast together with shapes (2,3,5) (5,2,3) ",
     "output_type": "error",
     "traceback": [
      "\u001b[1;31m---------------------------------------------------------------------------\u001b[0m",
      "\u001b[1;31mValueError\u001b[0m                                Traceback (most recent call last)",
      "\u001b[1;32mc:\\Users\\luiso\\IRONHACK\\2.1-lab_numpy\\Exercises.ipynb Cell 16\u001b[0m line \u001b[0;36m1\n\u001b[1;32m----> <a href='vscode-notebook-cell:/c%3A/Users/luiso/IRONHACK/2.1-lab_numpy/Exercises.ipynb#X21sZmlsZQ%3D%3D?line=0'>1</a>\u001b[0m np\u001b[39m.\u001b[39;49madd(a,b)\n",
      "\u001b[1;31mValueError\u001b[0m: operands could not be broadcast together with shapes (2,3,5) (5,2,3) "
     ]
    }
   ],
   "source": [
    "np.add(a,b)\n",
    "\n",
    "# No puedo añadir una matriz a otra porque no tienen la misma forma"
   ]
  },
  {
   "cell_type": "markdown",
   "metadata": {},
   "source": [
    "#9. Transpose b so that it has the same structure of a (i.e. become a 2x3x5 array). Assign the transposed array to varialbe \"c\"."
   ]
  },
  {
   "cell_type": "code",
   "execution_count": 16,
   "metadata": {},
   "outputs": [
    {
     "name": "stdout",
     "output_type": "stream",
     "text": [
      "[[[1. 1. 1. 1. 1.]\n",
      "  [1. 1. 1. 1. 1.]\n",
      "  [1. 1. 1. 1. 1.]]\n",
      "\n",
      " [[1. 1. 1. 1. 1.]\n",
      "  [1. 1. 1. 1. 1.]\n",
      "  [1. 1. 1. 1. 1.]]]\n"
     ]
    }
   ],
   "source": [
    "c = b.transpose(1,2,0)\n",
    "print(c)"
   ]
  },
  {
   "cell_type": "markdown",
   "metadata": {},
   "source": [
    "#10. Try to add a and c. Now it should work. Assign the sum to varialbe \"d\". But why does it work now?"
   ]
  },
  {
   "cell_type": "code",
   "execution_count": 17,
   "metadata": {},
   "outputs": [
    {
     "name": "stdout",
     "output_type": "stream",
     "text": [
      "[[[1.785081   1.67322941 1.48116698 1.45737224 1.88631432]\n",
      "  [1.75618612 1.46562911 1.41331045 1.56182131 1.36852079]\n",
      "  [1.44160328 1.14299179 1.49452041 1.86984014 1.66327538]]\n",
      "\n",
      " [[1.00531809 1.94165451 1.75587629 1.50453286 1.1837936 ]\n",
      "  [1.63155165 1.61497274 1.8845921  1.29773609 1.37419096]\n",
      "  [1.07642514 1.57475793 1.86702006 1.08140408 1.98437368]]]\n"
     ]
    }
   ],
   "source": [
    "np.add(c,a)\n",
    "\n",
    "d = a + c\n",
    "print(d)"
   ]
  },
  {
   "cell_type": "markdown",
   "metadata": {},
   "source": [
    "#11. Print a and d. Notice the difference and relation of the two array in terms of the values? Explain."
   ]
  },
  {
   "cell_type": "code",
   "execution_count": 19,
   "metadata": {},
   "outputs": [
    {
     "name": "stdout",
     "output_type": "stream",
     "text": [
      "[[[0.785081   0.67322941 0.48116698 0.45737224 0.88631432]\n",
      "  [0.75618612 0.46562911 0.41331045 0.56182131 0.36852079]\n",
      "  [0.44160328 0.14299179 0.49452041 0.86984014 0.66327538]]\n",
      "\n",
      " [[0.00531809 0.94165451 0.75587629 0.50453286 0.1837936 ]\n",
      "  [0.63155165 0.61497274 0.8845921  0.29773609 0.37419096]\n",
      "  [0.07642514 0.57475793 0.86702006 0.08140408 0.98437368]]]\n",
      "[[[1.785081   1.67322941 1.48116698 1.45737224 1.88631432]\n",
      "  [1.75618612 1.46562911 1.41331045 1.56182131 1.36852079]\n",
      "  [1.44160328 1.14299179 1.49452041 1.86984014 1.66327538]]\n",
      "\n",
      " [[1.00531809 1.94165451 1.75587629 1.50453286 1.1837936 ]\n",
      "  [1.63155165 1.61497274 1.8845921  1.29773609 1.37419096]\n",
      "  [1.07642514 1.57475793 1.86702006 1.08140408 1.98437368]]]\n"
     ]
    }
   ],
   "source": [
    "print(a)\n",
    "\n",
    "print(d)"
   ]
  },
  {
   "cell_type": "markdown",
   "metadata": {},
   "source": [
    "#12. Multiply a and c. Assign the result to e."
   ]
  },
  {
   "cell_type": "code",
   "execution_count": 20,
   "metadata": {},
   "outputs": [
    {
     "name": "stdout",
     "output_type": "stream",
     "text": [
      "[[[0.785081   0.67322941 0.48116698 0.45737224 0.88631432]\n",
      "  [0.75618612 0.46562911 0.41331045 0.56182131 0.36852079]\n",
      "  [0.44160328 0.14299179 0.49452041 0.86984014 0.66327538]]\n",
      "\n",
      " [[0.00531809 0.94165451 0.75587629 0.50453286 0.1837936 ]\n",
      "  [0.63155165 0.61497274 0.8845921  0.29773609 0.37419096]\n",
      "  [0.07642514 0.57475793 0.86702006 0.08140408 0.98437368]]]\n"
     ]
    }
   ],
   "source": [
    "e = np.multiply(a, c)\n",
    "print(e)"
   ]
  },
  {
   "cell_type": "markdown",
   "metadata": {},
   "source": [
    "#13. Does e equal to a? Why or why not?"
   ]
  },
  {
   "cell_type": "code",
   "execution_count": 21,
   "metadata": {},
   "outputs": [
    {
     "data": {
      "text/plain": [
       "array([[[ True,  True,  True,  True,  True],\n",
       "        [ True,  True,  True,  True,  True],\n",
       "        [ True,  True,  True,  True,  True]],\n",
       "\n",
       "       [[ True,  True,  True,  True,  True],\n",
       "        [ True,  True,  True,  True,  True],\n",
       "        [ True,  True,  True,  True,  True]]])"
      ]
     },
     "execution_count": 21,
     "metadata": {},
     "output_type": "execute_result"
    }
   ],
   "source": [
    "e == a"
   ]
  },
  {
   "cell_type": "markdown",
   "metadata": {},
   "source": [
    "#14. Identify the max, min, and mean values in d. Assign those values to variables \"d_max\", \"d_min\", and \"d_mean\""
   ]
  },
  {
   "cell_type": "code",
   "execution_count": 22,
   "metadata": {},
   "outputs": [
    {
     "name": "stdout",
     "output_type": "stream",
     "text": [
      "1.9843736849570548\n",
      "1.0053180876168093\n",
      "1.5413020832212279\n"
     ]
    }
   ],
   "source": [
    "d_max = np.max(d)\n",
    "d_min = np.min(d)\n",
    "d_mean = np.mean(d)\n",
    "\n",
    "print(d_max)\n",
    "print(d_min)\n",
    "print(d_mean)"
   ]
  },
  {
   "cell_type": "markdown",
   "metadata": {},
   "source": [
    "#15. Now we want to label the values in d. First create an empty array \"f\" with the same shape (i.e. 2x3x5) as d using `np.empty`."
   ]
  },
  {
   "cell_type": "code",
   "execution_count": 24,
   "metadata": {},
   "outputs": [
    {
     "name": "stdout",
     "output_type": "stream",
     "text": [
      "[[[0.785081   0.67322941 0.48116698 0.45737224 0.88631432]\n",
      "  [0.75618612 0.46562911 0.41331045 0.56182131 0.36852079]\n",
      "  [0.44160328 0.14299179 0.49452041 0.86984014 0.66327538]]\n",
      "\n",
      " [[0.00531809 0.94165451 0.75587629 0.50453286 0.1837936 ]\n",
      "  [0.63155165 0.61497274 0.8845921  0.29773609 0.37419096]\n",
      "  [0.07642514 0.57475793 0.86702006 0.08140408 0.98437368]]]\n"
     ]
    }
   ],
   "source": [
    "f = np.empty((2,3,5))\n",
    "print(f)\n"
   ]
  },
  {
   "cell_type": "markdown",
   "metadata": {},
   "source": [
    "\n",
    "#16. Populate the values in f. For each value in d, if it's larger than d_min but smaller than d_mean, assign 25 to the corresponding value in f.\n",
    "If a value in d is larger than d_mean but smaller than d_max, assign 75 to the corresponding value in f.\n",
    "If a value equals to d_mean, assign 50 to the corresponding value in f.\n",
    "Assign 0 to the corresponding value(s) in f for d_min in d.\n",
    "Assign 100 to the corresponding value(s) in f for d_max in d.\n",
    "In the end, f should have only the following values: 0, 25, 50, 75, and 100.\n",
    "Note: you don't have to use Numpy in this question."
   ]
  },
  {
   "cell_type": "code",
   "execution_count": 31,
   "metadata": {},
   "outputs": [],
   "source": [
    "for i in range(d.shape[0]):\n",
    "    for j in range(d.shape[1]):\n",
    "        for k in range(d.shape[2]):\n",
    "            \n",
    "            if d[i,j,k] > d_min and d[i,j,k] < d_mean:\n",
    "                \n",
    "                f[i,j,k] = 25\n",
    "            \n",
    "            elif d[i,j,k] > d_mean and d[i,j,k] < d_max:\n",
    "                \n",
    "                f[i,j,k] = 75\n",
    "            \n",
    "            elif d[i,j,k] == d_mean:\n",
    "                \n",
    "                f[i,j,k] = 50\n",
    "            \n",
    "            elif d[i,j,k] == d_min:\n",
    "                \n",
    "                f[i,j,k] = 0\n",
    "            \n",
    "            elif d[i,j,k] == d_max:\n",
    "                \n",
    "                f[i,j,k] = 100\n",
    "   \n",
    "\n",
    "\n"
   ]
  },
  {
   "cell_type": "markdown",
   "metadata": {},
   "source": [
    "#17. Print d and f. Do you have your expected f?\n",
    "For instance, if your d is:\n",
    "array([[[1.85836099, 1.67064465, 1.62576044, 1.40243961, 1.88454931],\n",
    "        [1.75354326, 1.69403643, 1.36729252, 1.61415071, 1.12104981],\n",
    "        [1.72201435, 1.1862918 , 1.87078449, 1.7726778 , 1.88180042]],\n",
    "\n",
    "       [[1.44747908, 1.31673383, 1.02000951, 1.52218947, 1.97066381],\n",
    "        [1.79129243, 1.74983003, 1.96028037, 1.85166831, 1.65450881],\n",
    "        [1.18068344, 1.9587381 , 1.00656599, 1.93402165, 1.73514584]]])\n",
    "\n",
    "Your f should be:\n",
    "array([[[ 75.,  75.,  75.,  25.,  75.],\n",
    "        [ 75.,  75.,  25.,  25.,  25.],\n",
    "        [ 75.,  25.,  75.,  75.,  75.]],\n",
    "\n",
    "       [[ 25.,  25.,  25.,  25., 100.],\n",
    "        [ 75.,  75.,  75.,  75.,  75.],\n",
    "        [ 25.,  75.,   0.,  75.,  75.]]])"
   ]
  },
  {
   "cell_type": "code",
   "execution_count": 32,
   "metadata": {},
   "outputs": [
    {
     "name": "stdout",
     "output_type": "stream",
     "text": [
      "[[[1.785081   1.67322941 1.48116698 1.45737224 1.88631432]\n",
      "  [1.75618612 1.46562911 1.41331045 1.56182131 1.36852079]\n",
      "  [1.44160328 1.14299179 1.49452041 1.86984014 1.66327538]]\n",
      "\n",
      " [[1.00531809 1.94165451 1.75587629 1.50453286 1.1837936 ]\n",
      "  [1.63155165 1.61497274 1.8845921  1.29773609 1.37419096]\n",
      "  [1.07642514 1.57475793 1.86702006 1.08140408 1.98437368]]] [[[ 75.  75.  25.  25.  75.]\n",
      "  [ 75.  25.  25.  75.  25.]\n",
      "  [ 25.  25.  25.  75.  75.]]\n",
      "\n",
      " [[  0.  75.  75.  25.  25.]\n",
      "  [ 75.  75.  75.  25.  25.]\n",
      "  [ 25.  75.  75.  25. 100.]]]\n"
     ]
    }
   ],
   "source": [
    "print(d,f)"
   ]
  },
  {
   "cell_type": "markdown",
   "metadata": {},
   "source": [
    "#18. Bonus question: instead of using numbers (i.e. 0, 25, 50, 75, and 100), how to use string values \n",
    "(\"A\", \"B\", \"C\", \"D\", and \"E\") to label the array elements? You are expecting the result to be:\n",
    "array([[[ 'D',  'D',  'D',  'B',  'D'],\n",
    "        [ 'D',  'D',  'B',  'B',  'B'],\n",
    "        [ 'D',  'B',  'D',  'D',  'D']],\n",
    "\n",
    "       [[ 'B',  'B',  'B',  'B',  'E'],\n",
    "        [ 'D',  'D',  'D',  'D',  'D'],\n",
    "        [ 'B',  'D',   'A',  'D', 'D']]])\n",
    "Again, you don't need Numpy in this question."
   ]
  },
  {
   "cell_type": "code",
   "execution_count": 36,
   "metadata": {},
   "outputs": [
    {
     "name": "stdout",
     "output_type": "stream",
     "text": [
      "[[['B' 'B' 'A' 'A' 'B']\n",
      "  ['B' 'A' 'A' 'B' 'A']\n",
      "  ['A' 'A' 'A' 'B' 'B']]\n",
      "\n",
      " [['D' 'B' 'B' 'A' 'A']\n",
      "  ['B' 'B' 'B' 'A' 'A']\n",
      "  ['A' 'B' 'B' 'A' 'E']]]\n"
     ]
    }
   ],
   "source": [
    "f = f.astype(str)\n",
    "\n",
    "for i in range(d.shape[0]):\n",
    "    for j in range(d.shape[1]):\n",
    "        for k in range(d.shape[2]):\n",
    "            \n",
    "            if d[i,j,k] > d_min and d[i,j,k] < d_mean:\n",
    "                \n",
    "                f[i,j,k] = \"A\"\n",
    "            \n",
    "            elif d[i,j,k] > d_mean and d[i,j,k] < d_max:\n",
    "                \n",
    "                f[i,j,k] = \"B\"\n",
    "            \n",
    "            elif d[i,j,k] == d_mean:\n",
    "                \n",
    "                f[i,j,k] = \"C\"\n",
    "            \n",
    "            elif d[i,j,k] == d_min:\n",
    "                \n",
    "                f[i,j,k] = \"D\"\n",
    "            \n",
    "            elif d[i,j,k] == d_max:\n",
    "                \n",
    "                f[i,j,k] = \"E\"\n",
    "\n",
    "print(f)"
   ]
  }
 ],
 "metadata": {
  "kernelspec": {
   "display_name": "base",
   "language": "python",
   "name": "python3"
  },
  "language_info": {
   "codemirror_mode": {
    "name": "ipython",
    "version": 3
   },
   "file_extension": ".py",
   "mimetype": "text/x-python",
   "name": "python",
   "nbconvert_exporter": "python",
   "pygments_lexer": "ipython3",
   "version": "3.10.9"
  }
 },
 "nbformat": 4,
 "nbformat_minor": 2
}
