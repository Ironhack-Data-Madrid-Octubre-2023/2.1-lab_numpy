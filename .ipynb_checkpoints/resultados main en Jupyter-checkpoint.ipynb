{
 "cells": [
  {
   "cell_type": "markdown",
   "id": "7e683a83",
   "metadata": {},
   "source": [
    "# 1. Import the NUMPY package under the name np."
   ]
  },
  {
   "cell_type": "code",
   "execution_count": 1,
   "id": "4b86a14a",
   "metadata": {},
   "outputs": [],
   "source": [
    "import numpy as np"
   ]
  },
  {
   "cell_type": "markdown",
   "id": "fecec569",
   "metadata": {},
   "source": [
    "# 2. Print the NUMPY version and the configuration."
   ]
  },
  {
   "cell_type": "code",
   "execution_count": 12,
   "id": "f0cfc0ec",
   "metadata": {},
   "outputs": [
    {
     "name": "stdout",
     "output_type": "stream",
     "text": [
      "NumPy Version:  1.24.3\n",
      "blas_armpl_info:\n",
      "  NOT AVAILABLE\n",
      "blas_mkl_info:\n",
      "  NOT AVAILABLE\n",
      "blis_info:\n",
      "  NOT AVAILABLE\n",
      "openblas_info:\n",
      "    libraries = ['openblas', 'openblas']\n",
      "    library_dirs = ['/Users/karmelealonsoaia/anaconda3/lib']\n",
      "    language = c\n",
      "    define_macros = [('HAVE_CBLAS', None)]\n",
      "blas_opt_info:\n",
      "    libraries = ['openblas', 'openblas']\n",
      "    library_dirs = ['/Users/karmelealonsoaia/anaconda3/lib']\n",
      "    language = c\n",
      "    define_macros = [('HAVE_CBLAS', None)]\n",
      "lapack_armpl_info:\n",
      "  NOT AVAILABLE\n",
      "lapack_mkl_info:\n",
      "  NOT AVAILABLE\n",
      "openblas_lapack_info:\n",
      "    libraries = ['openblas', 'openblas']\n",
      "    library_dirs = ['/Users/karmelealonsoaia/anaconda3/lib']\n",
      "    language = c\n",
      "    define_macros = [('HAVE_CBLAS', None)]\n",
      "lapack_opt_info:\n",
      "    libraries = ['openblas', 'openblas']\n",
      "    library_dirs = ['/Users/karmelealonsoaia/anaconda3/lib']\n",
      "    language = c\n",
      "    define_macros = [('HAVE_CBLAS', None)]\n",
      "Supported SIMD extensions in this NumPy install:\n",
      "    baseline = NEON,NEON_FP16,NEON_VFPV4,ASIMD\n",
      "    found = ASIMDHP,ASIMDDP\n",
      "    not found = ASIMDFHM\n",
      "NumPy Configuration:  None\n"
     ]
    }
   ],
   "source": [
    "print(\"NumPy Version: \", np.__version__)\n",
    "print(\"NumPy Configuration: \", np.show_config())"
   ]
  },
  {
   "cell_type": "markdown",
   "id": "b84395ea",
   "metadata": {},
   "source": [
    "# 3. Generate a 2x3x5 3-dimensional array with random values. Assign the array to variable \"a\"\n"
   ]
  },
  {
   "cell_type": "markdown",
   "id": "690a5c7c",
   "metadata": {},
   "source": [
    "Challenge: there are at least three easy ways that use numpy to generate random arrays. How many ways can you find?"
   ]
  },
  {
   "cell_type": "code",
   "execution_count": 27,
   "id": "5d0e64a5",
   "metadata": {},
   "outputs": [],
   "source": [
    "a = np.random.random((2,3,5))"
   ]
  },
  {
   "cell_type": "markdown",
   "id": "9a16d9f7",
   "metadata": {},
   "source": [
    "# 4. Print a."
   ]
  },
  {
   "cell_type": "code",
   "execution_count": 4,
   "id": "0e8253c6",
   "metadata": {},
   "outputs": [
    {
     "name": "stdout",
     "output_type": "stream",
     "text": [
      "[[[0.74216815 0.40243936 0.79309064 0.50373372 0.88056833]\n",
      "  [0.51475232 0.96160445 0.24185226 0.76681931 0.15656199]\n",
      "  [0.86930326 0.60680277 0.32151075 0.88576009 0.74990692]]\n",
      "\n",
      " [[0.5124461  0.04075827 0.63842665 0.9474502  0.73034595]\n",
      "  [0.30770814 0.55531836 0.84452302 0.73322349 0.04319571]\n",
      "  [0.74324735 0.50692751 0.29828595 0.86092734 0.22843481]]]\n"
     ]
    }
   ],
   "source": [
    "print (a)"
   ]
  },
  {
   "cell_type": "markdown",
   "id": "c6ab2d0a",
   "metadata": {},
   "source": [
    "# 5. Create a 5x2x3 3-dimensional array with all values equaling 1.\n",
    "Assign the array to variable \"b\""
   ]
  },
  {
   "cell_type": "code",
   "execution_count": 5,
   "id": "69a86ab3",
   "metadata": {},
   "outputs": [],
   "source": [
    "b = np.ones((5,2,3))"
   ]
  },
  {
   "cell_type": "markdown",
   "id": "bf5f7108",
   "metadata": {},
   "source": [
    "# 6. Print b."
   ]
  },
  {
   "cell_type": "code",
   "execution_count": 6,
   "id": "c340eafc",
   "metadata": {},
   "outputs": [
    {
     "name": "stdout",
     "output_type": "stream",
     "text": [
      "[[[1. 1. 1.]\n",
      "  [1. 1. 1.]]\n",
      "\n",
      " [[1. 1. 1.]\n",
      "  [1. 1. 1.]]\n",
      "\n",
      " [[1. 1. 1.]\n",
      "  [1. 1. 1.]]\n",
      "\n",
      " [[1. 1. 1.]\n",
      "  [1. 1. 1.]]\n",
      "\n",
      " [[1. 1. 1.]\n",
      "  [1. 1. 1.]]]\n"
     ]
    }
   ],
   "source": [
    "print(b)"
   ]
  },
  {
   "cell_type": "markdown",
   "id": "5347a145",
   "metadata": {},
   "source": [
    "# 7. Do a and b have the same size? How do you prove that in Python code?"
   ]
  },
  {
   "cell_type": "code",
   "execution_count": 15,
   "id": "d6a36d4f",
   "metadata": {},
   "outputs": [
    {
     "name": "stdout",
     "output_type": "stream",
     "text": [
      "True both have same size\n"
     ]
    }
   ],
   "source": [
    "a = np.random.random((2, 3, 5))\n",
    "\n",
    "b = np.ones((5, 2, 3))\n",
    "\n",
    "if a.size == b.size:\n",
    "    print(True, \"both have same size\")\n",
    "else:\n",
    "    print(False)"
   ]
  },
  {
   "cell_type": "code",
   "execution_count": 9,
   "id": "cdbe364c",
   "metadata": {},
   "outputs": [
    {
     "name": "stdout",
     "output_type": "stream",
     "text": [
      "30 30\n"
     ]
    }
   ],
   "source": [
    "print(a.size, b.size)"
   ]
  },
  {
   "cell_type": "markdown",
   "id": "6932ca3c",
   "metadata": {},
   "source": [
    "# 8. Are you able to add a and b? Why or why not?"
   ]
  },
  {
   "cell_type": "code",
   "execution_count": 28,
   "id": "c865f2d6",
   "metadata": {},
   "outputs": [
    {
     "ename": "ValueError",
     "evalue": "operands could not be broadcast together with shapes (2,3,5) (5,2,3) ",
     "output_type": "error",
     "traceback": [
      "\u001b[0;31m---------------------------------------------------------------------------\u001b[0m",
      "\u001b[0;31mValueError\u001b[0m                                Traceback (most recent call last)",
      "Cell \u001b[0;32mIn[28], line 1\u001b[0m\n\u001b[0;32m----> 1\u001b[0m c \u001b[38;5;241m=\u001b[39m a \u001b[38;5;241m+\u001b[39m b\n",
      "\u001b[0;31mValueError\u001b[0m: operands could not be broadcast together with shapes (2,3,5) (5,2,3) "
     ]
    }
   ],
   "source": [
    "c = a + b"
   ]
  },
  {
   "cell_type": "code",
   "execution_count": 29,
   "id": "3185e6de",
   "metadata": {},
   "outputs": [],
   "source": [
    "#No, no pueden sumarse porque no tienen la misma forma."
   ]
  },
  {
   "cell_type": "markdown",
   "id": "6d2b5d6a",
   "metadata": {},
   "source": [
    "# 9. Transpose b so that it has the same structure of a (i.e. become a 2x3x5 array). Assign the transposed array to varialbe \"c\"."
   ]
  },
  {
   "cell_type": "code",
   "execution_count": 16,
   "id": "49460e3b",
   "metadata": {},
   "outputs": [
    {
     "name": "stdout",
     "output_type": "stream",
     "text": [
      "[[[1. 1. 1. 1. 1.]\n",
      "  [1. 1. 1. 1. 1.]\n",
      "  [1. 1. 1. 1. 1.]]\n",
      "\n",
      " [[1. 1. 1. 1. 1.]\n",
      "  [1. 1. 1. 1. 1.]\n",
      "  [1. 1. 1. 1. 1.]]]\n"
     ]
    }
   ],
   "source": [
    "c = b.transpose(1,2,0)\n",
    "print(c)"
   ]
  },
  {
   "cell_type": "markdown",
   "id": "04ec3aac",
   "metadata": {},
   "source": [
    "# 10. Try to add a and c. Now it should work. Assign the sum to varialbe \"d\". But why does it work now?"
   ]
  },
  {
   "cell_type": "code",
   "execution_count": 17,
   "id": "afe55f9f",
   "metadata": {},
   "outputs": [
    {
     "name": "stdout",
     "output_type": "stream",
     "text": [
      "[[[1.46124435 1.97563917 1.06628477 1.94550241 1.22572705]\n",
      "  [1.88006838 1.31598654 1.39028159 1.95216639 1.06821068]\n",
      "  [1.34972004 1.07868578 1.22694354 1.72752562 1.94508593]]\n",
      "\n",
      " [[1.41540232 1.74000078 1.30354429 1.41080149 1.19782209]\n",
      "  [1.03267962 1.56380698 1.61413356 1.5049311  1.87543218]\n",
      "  [1.05239155 1.11414056 1.49111513 1.9864179  1.73528944]]]\n"
     ]
    }
   ],
   "source": [
    "d = a + c\n",
    "print(d)"
   ]
  },
  {
   "cell_type": "code",
   "execution_count": null,
   "id": "d18e5267",
   "metadata": {},
   "outputs": [],
   "source": [
    "#también se puede hacer así:"
   ]
  },
  {
   "cell_type": "code",
   "execution_count": 20,
   "id": "57e600a2",
   "metadata": {},
   "outputs": [
    {
     "name": "stdout",
     "output_type": "stream",
     "text": [
      "[[[1.46124435 1.97563917 1.06628477 1.94550241 1.22572705]\n",
      "  [1.88006838 1.31598654 1.39028159 1.95216639 1.06821068]\n",
      "  [1.34972004 1.07868578 1.22694354 1.72752562 1.94508593]]\n",
      "\n",
      " [[1.41540232 1.74000078 1.30354429 1.41080149 1.19782209]\n",
      "  [1.03267962 1.56380698 1.61413356 1.5049311  1.87543218]\n",
      "  [1.05239155 1.11414056 1.49111513 1.9864179  1.73528944]]]\n"
     ]
    }
   ],
   "source": [
    "d = np.add(c,a)\n",
    "print(d)"
   ]
  },
  {
   "cell_type": "markdown",
   "id": "8e1c9cf0",
   "metadata": {},
   "source": [
    "# 11. Print a and d. Notice the difference and relation of the two array in terms of the values? Explain."
   ]
  },
  {
   "cell_type": "code",
   "execution_count": 30,
   "id": "1c3331f6",
   "metadata": {},
   "outputs": [
    {
     "name": "stdout",
     "output_type": "stream",
     "text": [
      "[[[0.14365708 0.89089889 0.70937945 0.28771962 0.12343359]\n",
      "  [0.02040781 0.03355978 0.27369402 0.20076699 0.91820606]\n",
      "  [0.63346727 0.56941191 0.12724091 0.40867296 0.04309956]]\n",
      "\n",
      " [[0.05961153 0.50260839 0.96950021 0.69392102 0.04760617]\n",
      "  [0.05605814 0.9641053  0.64049615 0.6652595  0.38392567]\n",
      "  [0.62091756 0.35070213 0.9722786  0.9173242  0.55996338]]]\n"
     ]
    }
   ],
   "source": [
    "print(a)"
   ]
  },
  {
   "cell_type": "code",
   "execution_count": 31,
   "id": "a3212da9",
   "metadata": {},
   "outputs": [
    {
     "name": "stdout",
     "output_type": "stream",
     "text": [
      "[[[1.46124435 1.97563917 1.06628477 1.94550241 1.22572705]\n",
      "  [1.88006838 1.31598654 1.39028159 1.95216639 1.06821068]\n",
      "  [1.34972004 1.07868578 1.22694354 1.72752562 1.94508593]]\n",
      "\n",
      " [[1.41540232 1.74000078 1.30354429 1.41080149 1.19782209]\n",
      "  [1.03267962 1.56380698 1.61413356 1.5049311  1.87543218]\n",
      "  [1.05239155 1.11414056 1.49111513 1.9864179  1.73528944]]]\n"
     ]
    }
   ],
   "source": [
    "print(d)"
   ]
  },
  {
   "cell_type": "markdown",
   "id": "45eedc41",
   "metadata": {},
   "source": [
    "# 12. Multiply a and c. Assign the result to e."
   ]
  },
  {
   "cell_type": "code",
   "execution_count": 21,
   "id": "ed4d218d",
   "metadata": {},
   "outputs": [
    {
     "name": "stdout",
     "output_type": "stream",
     "text": [
      "[[[0.46124435 0.97563917 0.06628477 0.94550241 0.22572705]\n",
      "  [0.88006838 0.31598654 0.39028159 0.95216639 0.06821068]\n",
      "  [0.34972004 0.07868578 0.22694354 0.72752562 0.94508593]]\n",
      "\n",
      " [[0.41540232 0.74000078 0.30354429 0.41080149 0.19782209]\n",
      "  [0.03267962 0.56380698 0.61413356 0.5049311  0.87543218]\n",
      "  [0.05239155 0.11414056 0.49111513 0.9864179  0.73528944]]]\n"
     ]
    }
   ],
   "source": [
    "e = a * c\n",
    "print(e)"
   ]
  },
  {
   "cell_type": "markdown",
   "id": "ebbd5341",
   "metadata": {},
   "source": [
    "# 13. Does e equal to a? Why or why not?\n"
   ]
  },
  {
   "cell_type": "code",
   "execution_count": 33,
   "id": "92af8f32",
   "metadata": {},
   "outputs": [
    {
     "name": "stdout",
     "output_type": "stream",
     "text": [
      "True both have same size\n"
     ]
    }
   ],
   "source": [
    "if a.size == e.size:\n",
    "    print(True, \"both have same size\")\n",
    "else:\n",
    "    print(False)"
   ]
  },
  {
   "cell_type": "markdown",
   "id": "e149b8ca",
   "metadata": {},
   "source": [
    "# 14. Identify the max, min, and mean values in d. Assign those values to variables \"d_max\", \"d_min\", and \"d_mean\""
   ]
  },
  {
   "cell_type": "code",
   "execution_count": 34,
   "id": "033fc47d",
   "metadata": {},
   "outputs": [
    {
     "name": "stdout",
     "output_type": "stream",
     "text": [
      "1.9864179034866218 1.0326796218099648 1.48823270839573\n"
     ]
    }
   ],
   "source": [
    "d_max = d.max()\n",
    "d_min = d.min()\n",
    "d_mean = d.mean()\n",
    "print(d_max, d_min, d_mean)"
   ]
  },
  {
   "cell_type": "markdown",
   "id": "63c90d00",
   "metadata": {},
   "source": [
    "# 15. Now we want to label the values in d. First create an empty array \"f\" with the same shape (i.e. 2x3x5) as d using `np.empty`."
   ]
  },
  {
   "cell_type": "code",
   "execution_count": 38,
   "id": "283601d0",
   "metadata": {},
   "outputs": [
    {
     "name": "stdout",
     "output_type": "stream",
     "text": [
      "[[[1.46124435 1.97563917 1.06628477 1.94550241 1.22572705]\n",
      "  [1.88006838 1.31598654 1.39028159 1.95216639 1.06821068]\n",
      "  [1.34972004 1.07868578 1.22694354 1.72752562 1.94508593]]\n",
      "\n",
      " [[1.41540232 1.74000078 1.30354429 1.41080149 1.19782209]\n",
      "  [1.03267962 1.56380698 1.61413356 1.5049311  1.87543218]\n",
      "  [1.05239155 1.11414056 1.49111513 1.9864179  1.73528944]]] (2, 3, 5)\n"
     ]
    }
   ],
   "source": [
    "f = np.empty([2, 3, 5])\n",
    "print(f, f.shape)"
   ]
  },
  {
   "cell_type": "markdown",
   "id": "ed7cd988",
   "metadata": {},
   "source": [
    "# 16. Populate the values in f. "
   ]
  },
  {
   "cell_type": "markdown",
   "id": "fb32e02f",
   "metadata": {},
   "source": [
    "For each value in d, if it's larger than d_min but smaller than d_mean, assign 25 to the corresponding value in f.\n",
    "If a value in d is larger than d_mean but smaller than d_max, assign 75 to the corresponding value in f.\n",
    "If a value equals to d_mean, assign 50 to the corresponding value in f.\n",
    "Assign 0 to the corresponding value(s) in f for d_min in d.\n",
    "Assign 100 to the corresponding value(s) in f for d_max in d.\n",
    "In the end, f should have only the following values: 0, 25, 50, 75, and 100.\n",
    "Note: you don't have to use Numpy in this question."
   ]
  },
  {
   "cell_type": "code",
   "execution_count": 39,
   "id": "a7fb5fbb",
   "metadata": {},
   "outputs": [
    {
     "name": "stdout",
     "output_type": "stream",
     "text": [
      "[[[ 25.  75.  25.  75.  25.]\n",
      "  [ 75.  25.  25.  75.  25.]\n",
      "  [ 25.  25.  25.  75.  75.]]\n",
      "\n",
      " [[ 25.  75.  25.  25.  25.]\n",
      "  [  0.  75.  75.  75.  75.]\n",
      "  [ 25.  25.  75. 100.  75.]]]\n"
     ]
    }
   ],
   "source": [
    "for i in range(d.shape[0]):\n",
    "    for j in range(d.shape[1]):\n",
    "        for k in range(d.shape[2]):\n",
    "            \n",
    "            valor_f = d[i, j, k]\n",
    "            \n",
    "            if d_min < d [i, j, k] < d_mean:\n",
    "                f[i, j, k] = 25\n",
    "            elif d_mean < d [i, j, k] < d_max:\n",
    "                f[i, j, k] = 75\n",
    "            elif valor_f == d_mean:\n",
    "                f[i, j, k] = 50\n",
    "            elif d [i, j, k] == d_min:\n",
    "                f[i, j, k] = 0\n",
    "            elif d [i, j, k] == d_max:\n",
    "                f[i, j, k] = 100\n",
    "                \n",
    "print(f)"
   ]
  },
  {
   "cell_type": "markdown",
   "id": "142a8c70",
   "metadata": {},
   "source": [
    "# 17. Print d and f. Do you have your expected f?"
   ]
  },
  {
   "cell_type": "code",
   "execution_count": 42,
   "id": "94dbd526",
   "metadata": {},
   "outputs": [
    {
     "data": {
      "text/plain": [
       "'\\nFor instance, if your d is:\\narray([[[1.85836099, 1.67064465, 1.62576044, 1.40243961, 1.88454931],\\n        [1.75354326, 1.69403643, 1.36729252, 1.61415071, 1.12104981],\\n        [1.72201435, 1.1862918 , 1.87078449, 1.7726778 , 1.88180042]],\\n\\n       [[1.44747908, 1.31673383, 1.02000951, 1.52218947, 1.97066381],\\n        [1.79129243, 1.74983003, 1.96028037, 1.85166831, 1.65450881],\\n        [1.18068344, 1.9587381 , 1.00656599, 1.93402165, 1.73514584]]])\\n\\nYour f should be:\\narray([[[ 75.,  75.,  75.,  25.,  75.],\\n        [ 75.,  75.,  25.,  25.,  25.],\\n        [ 75.,  25.,  75.,  75.,  75.]],\\n\\n       [[ 25.,  25.,  25.,  25., 100.],\\n        [ 75.,  75.,  75.,  75.,  75.],\\n        [ 25.,  75.,   0.,  75.,  75.]]])\\n'"
      ]
     },
     "execution_count": 42,
     "metadata": {},
     "output_type": "execute_result"
    }
   ],
   "source": [
    "'''\n",
    "For instance, if your d is:\n",
    "array([[[1.85836099, 1.67064465, 1.62576044, 1.40243961, 1.88454931],\n",
    "        [1.75354326, 1.69403643, 1.36729252, 1.61415071, 1.12104981],\n",
    "        [1.72201435, 1.1862918 , 1.87078449, 1.7726778 , 1.88180042]],\n",
    "\n",
    "       [[1.44747908, 1.31673383, 1.02000951, 1.52218947, 1.97066381],\n",
    "        [1.79129243, 1.74983003, 1.96028037, 1.85166831, 1.65450881],\n",
    "        [1.18068344, 1.9587381 , 1.00656599, 1.93402165, 1.73514584]]])\n",
    "\n",
    "Your f should be:\n",
    "array([[[ 75.,  75.,  75.,  25.,  75.],\n",
    "        [ 75.,  75.,  25.,  25.,  25.],\n",
    "        [ 75.,  25.,  75.,  75.,  75.]],\n",
    "\n",
    "       [[ 25.,  25.,  25.,  25., 100.],\n",
    "        [ 75.,  75.,  75.,  75.,  75.],\n",
    "        [ 25.,  75.,   0.,  75.,  75.]]])\n",
    "'''"
   ]
  },
  {
   "cell_type": "code",
   "execution_count": 43,
   "id": "9ac08049",
   "metadata": {},
   "outputs": [
    {
     "name": "stdout",
     "output_type": "stream",
     "text": [
      "[[[1.46124435 1.97563917 1.06628477 1.94550241 1.22572705]\n",
      "  [1.88006838 1.31598654 1.39028159 1.95216639 1.06821068]\n",
      "  [1.34972004 1.07868578 1.22694354 1.72752562 1.94508593]]\n",
      "\n",
      " [[1.41540232 1.74000078 1.30354429 1.41080149 1.19782209]\n",
      "  [1.03267962 1.56380698 1.61413356 1.5049311  1.87543218]\n",
      "  [1.05239155 1.11414056 1.49111513 1.9864179  1.73528944]]]\n",
      "[[[ 25.  75.  25.  75.  25.]\n",
      "  [ 75.  25.  25.  75.  25.]\n",
      "  [ 25.  25.  25.  75.  75.]]\n",
      "\n",
      " [[ 25.  75.  25.  25.  25.]\n",
      "  [  0.  75.  75.  75.  75.]\n",
      "  [ 25.  25.  75. 100.  75.]]]\n"
     ]
    }
   ],
   "source": [
    "print(d)\n",
    "print(f)"
   ]
  }
 ],
 "metadata": {
  "kernelspec": {
   "display_name": "Python 3 (ipykernel)",
   "language": "python",
   "name": "python3"
  },
  "language_info": {
   "codemirror_mode": {
    "name": "ipython",
    "version": 3
   },
   "file_extension": ".py",
   "mimetype": "text/x-python",
   "name": "python",
   "nbconvert_exporter": "python",
   "pygments_lexer": "ipython3",
   "version": "3.11.4"
  }
 },
 "nbformat": 4,
 "nbformat_minor": 5
}
