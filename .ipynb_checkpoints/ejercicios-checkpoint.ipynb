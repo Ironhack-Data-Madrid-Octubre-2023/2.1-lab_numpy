{
 "cells": [
  {
   "cell_type": "code",
   "execution_count": 3,
   "metadata": {},
   "outputs": [
    {
     "name": "stdout",
     "output_type": "stream",
     "text": [
      "Requirement already satisfied: numpy in /Users/criscarneiro/anaconda3/envs/clase/lib/python3.10/site-packages (1.26.1)\n",
      "Note: you may need to restart the kernel to use updated packages.\n"
     ]
    }
   ],
   "source": [
    "%pip install numpy"
   ]
  },
  {
   "cell_type": "code",
   "execution_count": null,
   "metadata": {},
   "outputs": [],
   "source": [
    "#1. Import the NUMPY package under the name np."
   ]
  },
  {
   "cell_type": "code",
   "execution_count": 7,
   "metadata": {},
   "outputs": [],
   "source": [
    "import numpy as np"
   ]
  },
  {
   "cell_type": "code",
   "execution_count": null,
   "metadata": {},
   "outputs": [],
   "source": [
    "#2. Print the NUMPY version and the configuration."
   ]
  },
  {
   "cell_type": "code",
   "execution_count": 8,
   "metadata": {},
   "outputs": [
    {
     "name": "stdout",
     "output_type": "stream",
     "text": [
      "1.26.1\n"
     ]
    }
   ],
   "source": [
    "print(np.__version__)"
   ]
  },
  {
   "cell_type": "code",
   "execution_count": null,
   "metadata": {},
   "outputs": [],
   "source": [
    "#3. Generate a 2x3x5 3-dimensional array with random values. Assign the array to variable \"a\"\n",
    "# Challenge: there are at least three easy ways that use numpy to generate random arrays. How many ways can you find?"
   ]
  },
  {
   "cell_type": "code",
   "execution_count": 18,
   "metadata": {},
   "outputs": [
    {
     "data": {
      "text/plain": [
       "array([[[0.26202108, 0.51333242, 0.35043848, 0.57512045, 0.17677901],\n",
       "        [0.59211795, 0.76687989, 0.89038244, 0.50997096, 0.4536786 ],\n",
       "        [0.67154241, 0.10492427, 0.18018276, 0.9074021 , 0.4504193 ]],\n",
       "\n",
       "       [[0.48828904, 0.65988071, 0.65940621, 0.72422453, 0.37983761],\n",
       "        [0.72511214, 0.33770777, 0.41319429, 0.23194726, 0.61372475],\n",
       "        [0.140858  , 0.85920221, 0.97934657, 0.51016935, 0.08518013]]])"
      ]
     },
     "execution_count": 18,
     "metadata": {},
     "output_type": "execute_result"
    }
   ],
   "source": [
    "#first way \n",
    "a = np.random.random((2,3,5))\n",
    "a"
   ]
  },
  {
   "cell_type": "code",
   "execution_count": 16,
   "metadata": {},
   "outputs": [
    {
     "data": {
      "text/plain": [
       "array([[[ 6,  7,  3,  9,  7],\n",
       "        [ 7,  1, 10,  2, 10],\n",
       "        [ 4,  2,  2,  6,  2]],\n",
       "\n",
       "       [[ 9,  5,  1,  9,  9],\n",
       "        [ 5,  6,  7,  5, 10],\n",
       "        [ 3,  8,  8,  3,  2]]])"
      ]
     },
     "execution_count": 16,
     "metadata": {},
     "output_type": "execute_result"
    }
   ],
   "source": [
    "#second way, e.g., int numbers between 0 and 1\n",
    "a1 = np.random.randint(0,11,size=(2,3,5))\n",
    "a1"
   ]
  },
  {
   "cell_type": "code",
   "execution_count": 17,
   "metadata": {},
   "outputs": [
    {
     "data": {
      "text/plain": [
       "array([[[0.41667377, 0.98127658, 0.63058856, 0.41333263, 0.74276289],\n",
       "        [0.52324815, 0.77604752, 0.26762872, 0.63745878, 0.66892191],\n",
       "        [0.48359978, 0.25804244, 0.19295075, 0.17883283, 0.31293255]],\n",
       "\n",
       "       [[0.65152098, 0.10655691, 0.02681026, 0.81700675, 0.24536144],\n",
       "        [0.06575121, 0.74189741, 0.94361131, 0.5246722 , 0.33381532],\n",
       "        [0.11721415, 0.74070346, 0.90346781, 0.11979769, 0.03348695]]])"
      ]
     },
     "execution_count": 17,
     "metadata": {},
     "output_type": "execute_result"
    }
   ],
   "source": [
    "#third way \n",
    "a2 = np.random.random_sample((2,3,5))\n",
    "a2"
   ]
  },
  {
   "cell_type": "code",
   "execution_count": 10,
   "metadata": {},
   "outputs": [],
   "source": [
    "#4. Print a."
   ]
  },
  {
   "cell_type": "code",
   "execution_count": 20,
   "metadata": {},
   "outputs": [
    {
     "name": "stdout",
     "output_type": "stream",
     "text": [
      "[[[0.26202108 0.51333242 0.35043848 0.57512045 0.17677901]\n",
      "  [0.59211795 0.76687989 0.89038244 0.50997096 0.4536786 ]\n",
      "  [0.67154241 0.10492427 0.18018276 0.9074021  0.4504193 ]]\n",
      "\n",
      " [[0.48828904 0.65988071 0.65940621 0.72422453 0.37983761]\n",
      "  [0.72511214 0.33770777 0.41319429 0.23194726 0.61372475]\n",
      "  [0.140858   0.85920221 0.97934657 0.51016935 0.08518013]]]\n"
     ]
    }
   ],
   "source": [
    "print(a)"
   ]
  },
  {
   "cell_type": "code",
   "execution_count": 21,
   "metadata": {},
   "outputs": [],
   "source": [
    "#5. Create a 5x2x3 3-dimensional array with all values equaling 1.\n",
    "#Assign the array to variable \"b\""
   ]
  },
  {
   "cell_type": "code",
   "execution_count": 69,
   "metadata": {},
   "outputs": [],
   "source": [
    "b = np.ones((5,2,3))"
   ]
  },
  {
   "cell_type": "code",
   "execution_count": 70,
   "metadata": {},
   "outputs": [],
   "source": [
    "#6. Print b."
   ]
  },
  {
   "cell_type": "code",
   "execution_count": 71,
   "metadata": {},
   "outputs": [
    {
     "name": "stdout",
     "output_type": "stream",
     "text": [
      "[[[1. 1. 1.]\n",
      "  [1. 1. 1.]]\n",
      "\n",
      " [[1. 1. 1.]\n",
      "  [1. 1. 1.]]\n",
      "\n",
      " [[1. 1. 1.]\n",
      "  [1. 1. 1.]]\n",
      "\n",
      " [[1. 1. 1.]\n",
      "  [1. 1. 1.]]\n",
      "\n",
      " [[1. 1. 1.]\n",
      "  [1. 1. 1.]]]\n"
     ]
    }
   ],
   "source": [
    "print(b)"
   ]
  },
  {
   "cell_type": "code",
   "execution_count": 72,
   "metadata": {},
   "outputs": [],
   "source": [
    "#7. Do a and b have the same size? How do you prove that in Python code?"
   ]
  },
  {
   "cell_type": "code",
   "execution_count": 73,
   "metadata": {},
   "outputs": [
    {
     "data": {
      "text/plain": [
       "True"
      ]
     },
     "execution_count": 73,
     "metadata": {},
     "output_type": "execute_result"
    }
   ],
   "source": [
    "#yes, both have a size of 40\n",
    "a.size == b.size"
   ]
  },
  {
   "cell_type": "code",
   "execution_count": 74,
   "metadata": {},
   "outputs": [],
   "source": [
    "#8. Are you able to add a and b? Why or why not?"
   ]
  },
  {
   "cell_type": "code",
   "execution_count": 75,
   "metadata": {},
   "outputs": [
    {
     "data": {
      "text/plain": [
       "False"
      ]
     },
     "execution_count": 75,
     "metadata": {},
     "output_type": "execute_result"
    }
   ],
   "source": [
    "#no, porque para sumar las dimensiones tendrían que ser las mismas. Se generaria el error abajo.  \n",
    "\n",
    "a.shape == b.shape"
   ]
  },
  {
   "cell_type": "code",
   "execution_count": 76,
   "metadata": {},
   "outputs": [
    {
     "ename": "ValueError",
     "evalue": "operands could not be broadcast together with shapes (2,3,5) (5,2,3) ",
     "output_type": "error",
     "traceback": [
      "\u001b[0;31m---------------------------------------------------------------------------\u001b[0m",
      "\u001b[0;31mValueError\u001b[0m                                Traceback (most recent call last)",
      "\u001b[1;32m/Users/criscarneiro/Desktop/IronHack/2_Labs/2.1-lab_numpy/ejercicios.ipynb Cell 20\u001b[0m line \u001b[0;36m1\n\u001b[0;32m----> <a href='vscode-notebook-cell:/Users/criscarneiro/Desktop/IronHack/2_Labs/2.1-lab_numpy/ejercicios.ipynb#X32sZmlsZQ%3D%3D?line=0'>1</a>\u001b[0m sumadeab \u001b[39m=\u001b[39m a \u001b[39m+\u001b[39;49m b\n",
      "\u001b[0;31mValueError\u001b[0m: operands could not be broadcast together with shapes (2,3,5) (5,2,3) "
     ]
    }
   ],
   "source": [
    "sumadeab = a + b"
   ]
  },
  {
   "cell_type": "code",
   "execution_count": 77,
   "metadata": {},
   "outputs": [],
   "source": [
    "# 9. Transpose b so that it has the same structure of a (i.e. become a 2x3x5 array). Assign the transposed array to varialbe \"c\"."
   ]
  },
  {
   "cell_type": "code",
   "execution_count": 93,
   "metadata": {},
   "outputs": [
    {
     "data": {
      "text/plain": [
       "(2, 3, 5)"
      ]
     },
     "execution_count": 93,
     "metadata": {},
     "output_type": "execute_result"
    }
   ],
   "source": [
    "c = b.transpose((1,2,0))\n",
    "\n",
    "c.shape"
   ]
  },
  {
   "cell_type": "code",
   "execution_count": 94,
   "metadata": {},
   "outputs": [],
   "source": [
    "#10. Try to add a and c. Now it should work. Assign the sum to varialbe \"d\". But why does it work now?"
   ]
  },
  {
   "cell_type": "code",
   "execution_count": 95,
   "metadata": {},
   "outputs": [
    {
     "data": {
      "text/plain": [
       "array([[[1.26202108, 1.51333242, 1.35043848, 1.57512045, 1.17677901],\n",
       "        [1.59211795, 1.76687989, 1.89038244, 1.50997096, 1.4536786 ],\n",
       "        [1.67154241, 1.10492427, 1.18018276, 1.9074021 , 1.4504193 ]],\n",
       "\n",
       "       [[1.48828904, 1.65988071, 1.65940621, 1.72422453, 1.37983761],\n",
       "        [1.72511214, 1.33770777, 1.41319429, 1.23194726, 1.61372475],\n",
       "        [1.140858  , 1.85920221, 1.97934657, 1.51016935, 1.08518013]]])"
      ]
     },
     "execution_count": 95,
     "metadata": {},
     "output_type": "execute_result"
    }
   ],
   "source": [
    "d = a + c\n",
    "d"
   ]
  },
  {
   "cell_type": "code",
   "execution_count": 96,
   "metadata": {},
   "outputs": [
    {
     "data": {
      "text/plain": [
       "True"
      ]
     },
     "execution_count": 96,
     "metadata": {},
     "output_type": "execute_result"
    }
   ],
   "source": [
    "#it works because they have the same dimensions \n",
    "\n",
    "a.shape == d.shape"
   ]
  },
  {
   "cell_type": "code",
   "execution_count": 97,
   "metadata": {},
   "outputs": [],
   "source": [
    "#11. Print a and d. Notice the difference and relation of the two array in terms of the values? Explain."
   ]
  },
  {
   "cell_type": "code",
   "execution_count": 98,
   "metadata": {},
   "outputs": [
    {
     "name": "stdout",
     "output_type": "stream",
     "text": [
      "[[[0.26202108 0.51333242 0.35043848 0.57512045 0.17677901]\n",
      "  [0.59211795 0.76687989 0.89038244 0.50997096 0.4536786 ]\n",
      "  [0.67154241 0.10492427 0.18018276 0.9074021  0.4504193 ]]\n",
      "\n",
      " [[0.48828904 0.65988071 0.65940621 0.72422453 0.37983761]\n",
      "  [0.72511214 0.33770777 0.41319429 0.23194726 0.61372475]\n",
      "  [0.140858   0.85920221 0.97934657 0.51016935 0.08518013]]]\n"
     ]
    }
   ],
   "source": [
    "print(a)"
   ]
  },
  {
   "cell_type": "code",
   "execution_count": 99,
   "metadata": {},
   "outputs": [
    {
     "name": "stdout",
     "output_type": "stream",
     "text": [
      "[[[1.26202108 1.51333242 1.35043848 1.57512045 1.17677901]\n",
      "  [1.59211795 1.76687989 1.89038244 1.50997096 1.4536786 ]\n",
      "  [1.67154241 1.10492427 1.18018276 1.9074021  1.4504193 ]]\n",
      "\n",
      " [[1.48828904 1.65988071 1.65940621 1.72422453 1.37983761]\n",
      "  [1.72511214 1.33770777 1.41319429 1.23194726 1.61372475]\n",
      "  [1.140858   1.85920221 1.97934657 1.51016935 1.08518013]]]\n"
     ]
    }
   ],
   "source": [
    "print(d)"
   ]
  },
  {
   "cell_type": "code",
   "execution_count": 100,
   "metadata": {},
   "outputs": [],
   "source": [
    "#para cada valor i,j de A hemos sumado 1 "
   ]
  },
  {
   "cell_type": "code",
   "execution_count": 101,
   "metadata": {},
   "outputs": [],
   "source": [
    "#12. Multiply a and c. Assign the result to e."
   ]
  },
  {
   "cell_type": "code",
   "execution_count": 102,
   "metadata": {},
   "outputs": [
    {
     "data": {
      "text/plain": [
       "(2, 3, 5)"
      ]
     },
     "execution_count": 102,
     "metadata": {},
     "output_type": "execute_result"
    }
   ],
   "source": [
    "a.shape "
   ]
  },
  {
   "cell_type": "code",
   "execution_count": 103,
   "metadata": {},
   "outputs": [
    {
     "data": {
      "text/plain": [
       "(2, 3, 5)"
      ]
     },
     "execution_count": 103,
     "metadata": {},
     "output_type": "execute_result"
    }
   ],
   "source": [
    "c.shape"
   ]
  },
  {
   "cell_type": "code",
   "execution_count": 104,
   "metadata": {},
   "outputs": [
    {
     "data": {
      "text/plain": [
       "array([[[0.26202108, 0.51333242, 0.35043848, 0.57512045, 0.17677901],\n",
       "        [0.59211795, 0.76687989, 0.89038244, 0.50997096, 0.4536786 ],\n",
       "        [0.67154241, 0.10492427, 0.18018276, 0.9074021 , 0.4504193 ]],\n",
       "\n",
       "       [[0.48828904, 0.65988071, 0.65940621, 0.72422453, 0.37983761],\n",
       "        [0.72511214, 0.33770777, 0.41319429, 0.23194726, 0.61372475],\n",
       "        [0.140858  , 0.85920221, 0.97934657, 0.51016935, 0.08518013]]])"
      ]
     },
     "execution_count": 104,
     "metadata": {},
     "output_type": "execute_result"
    }
   ],
   "source": [
    "###check this \n",
    "#producto elemento a elemento (elemento wise)\n",
    "e = np.multiply(a,c)\n",
    "e"
   ]
  },
  {
   "cell_type": "code",
   "execution_count": null,
   "metadata": {},
   "outputs": [],
   "source": [
    "#13. Does e equal to a? Why or why not?"
   ]
  },
  {
   "cell_type": "code",
   "execution_count": 90,
   "metadata": {},
   "outputs": [
    {
     "name": "stdout",
     "output_type": "stream",
     "text": [
      "[[[0.26202108 0.51333242 0.35043848 0.57512045 0.17677901]\n",
      "  [0.59211795 0.76687989 0.89038244 0.50997096 0.4536786 ]\n",
      "  [0.67154241 0.10492427 0.18018276 0.9074021  0.4504193 ]]\n",
      "\n",
      " [[0.48828904 0.65988071 0.65940621 0.72422453 0.37983761]\n",
      "  [0.72511214 0.33770777 0.41319429 0.23194726 0.61372475]\n",
      "  [0.140858   0.85920221 0.97934657 0.51016935 0.08518013]]]\n"
     ]
    }
   ],
   "source": [
    "print(a)"
   ]
  },
  {
   "cell_type": "code",
   "execution_count": 105,
   "metadata": {},
   "outputs": [
    {
     "name": "stdout",
     "output_type": "stream",
     "text": [
      "[[[0.26202108 0.51333242 0.35043848 0.57512045 0.17677901]\n",
      "  [0.59211795 0.76687989 0.89038244 0.50997096 0.4536786 ]\n",
      "  [0.67154241 0.10492427 0.18018276 0.9074021  0.4504193 ]]\n",
      "\n",
      " [[0.48828904 0.65988071 0.65940621 0.72422453 0.37983761]\n",
      "  [0.72511214 0.33770777 0.41319429 0.23194726 0.61372475]\n",
      "  [0.140858   0.85920221 0.97934657 0.51016935 0.08518013]]]\n"
     ]
    }
   ],
   "source": [
    "print(e)"
   ]
  },
  {
   "cell_type": "code",
   "execution_count": 108,
   "metadata": {},
   "outputs": [
    {
     "data": {
      "text/plain": [
       "True"
      ]
     },
     "execution_count": 108,
     "metadata": {},
     "output_type": "execute_result"
    }
   ],
   "source": [
    "###check this \n",
    "#yes, they have the same shape and the same elements \n",
    "\n",
    "result = np.array_equal(a,e)\n",
    "result"
   ]
  },
  {
   "cell_type": "code",
   "execution_count": 109,
   "metadata": {},
   "outputs": [],
   "source": [
    "#14. Identify the max, min, and mean values in d. Assign those values to variables \"d_max\", \"d_min\", and \"d_mean\""
   ]
  },
  {
   "cell_type": "code",
   "execution_count": 114,
   "metadata": {},
   "outputs": [
    {
     "data": {
      "text/plain": [
       "1.9793465710538176"
      ]
     },
     "execution_count": 114,
     "metadata": {},
     "output_type": "execute_result"
    }
   ],
   "source": [
    "d_max = d.max()\n",
    "d_max"
   ]
  },
  {
   "cell_type": "code",
   "execution_count": 116,
   "metadata": {},
   "outputs": [
    {
     "data": {
      "text/plain": [
       "1.0851801336808102"
      ]
     },
     "execution_count": 116,
     "metadata": {},
     "output_type": "execute_result"
    }
   ],
   "source": [
    "d_min = d.min()\n",
    "d_min"
   ]
  },
  {
   "cell_type": "code",
   "execution_count": 117,
   "metadata": {},
   "outputs": [
    {
     "data": {
      "text/plain": [
       "1.50710909000244"
      ]
     },
     "execution_count": 117,
     "metadata": {},
     "output_type": "execute_result"
    }
   ],
   "source": [
    "d_mean = d.mean()\n",
    "d_mean"
   ]
  },
  {
   "cell_type": "code",
   "execution_count": null,
   "metadata": {},
   "outputs": [],
   "source": [
    "#15. Now we want to label the values in d. First create an empty array \"f\" with the same shape (i.e. 2x3x5) as d using `np.empty`."
   ]
  },
  {
   "cell_type": "code",
   "execution_count": 121,
   "metadata": {},
   "outputs": [
    {
     "data": {
      "text/plain": [
       "(2, 3, 5)"
      ]
     },
     "execution_count": 121,
     "metadata": {},
     "output_type": "execute_result"
    }
   ],
   "source": [
    "#help(np.empty)\n",
    "d.shape"
   ]
  },
  {
   "cell_type": "code",
   "execution_count": 123,
   "metadata": {},
   "outputs": [
    {
     "data": {
      "text/plain": [
       "array([[[0.26202108, 0.51333242, 0.35043848, 0.57512045, 0.17677901],\n",
       "        [0.59211795, 0.76687989, 0.89038244, 0.50997096, 0.4536786 ],\n",
       "        [0.67154241, 0.10492427, 0.18018276, 0.9074021 , 0.4504193 ]],\n",
       "\n",
       "       [[0.48828904, 0.65988071, 0.65940621, 0.72422453, 0.37983761],\n",
       "        [0.72511214, 0.33770777, 0.41319429, 0.23194726, 0.61372475],\n",
       "        [0.140858  , 0.85920221, 0.97934657, 0.51016935, 0.08518013]]])"
      ]
     },
     "execution_count": 123,
     "metadata": {},
     "output_type": "execute_result"
    }
   ],
   "source": [
    "f = np.empty((2,3,5))\n",
    "f"
   ]
  },
  {
   "cell_type": "code",
   "execution_count": null,
   "metadata": {},
   "outputs": [],
   "source": [
    "\"\"\"\n",
    "#16. Populate the values in f. For each value in d, if it's larger than d_min but smaller than d_mean, assign 25 to the corresponding value in f.\n",
    "If a value in d is larger than d_mean but smaller than d_max, assign 75 to the corresponding value in f.\n",
    "If a value equals to d_mean, assign 50 to the corresponding value in f.\n",
    "Assign 0 to the corresponding value(s) in f for d_min in d.\n",
    "Assign 100 to the corresponding value(s) in f for d_max in d.\n",
    "In the end, f should have only the following values: 0, 25, 50, 75, and 100.\n",
    "Note: you don't have to use Numpy in this question.\n",
    "\"\"\""
   ]
  },
  {
   "cell_type": "code",
   "execution_count": 130,
   "metadata": {},
   "outputs": [
    {
     "name": "stdout",
     "output_type": "stream",
     "text": [
      "[[[1.26202108 1.51333242 1.35043848 1.57512045 1.17677901]\n",
      "  [1.59211795 1.76687989 1.89038244 1.50997096 1.4536786 ]\n",
      "  [1.67154241 1.10492427 1.18018276 1.9074021  1.4504193 ]]\n",
      "\n",
      " [[1.48828904 1.65988071 1.65940621 1.72422453 1.37983761]\n",
      "  [1.72511214 1.33770777 1.41319429 1.23194726 1.61372475]\n",
      "  [1.140858   1.85920221 1.97934657 1.51016935 1.08518013]]]\n"
     ]
    }
   ],
   "source": [
    "print(d)"
   ]
  },
  {
   "cell_type": "code",
   "execution_count": 131,
   "metadata": {},
   "outputs": [
    {
     "data": {
      "text/plain": [
       "range(0, 2)"
      ]
     },
     "execution_count": 131,
     "metadata": {},
     "output_type": "execute_result"
    }
   ],
   "source": [
    "range(len(d))"
   ]
  },
  {
   "cell_type": "code",
   "execution_count": 132,
   "metadata": {},
   "outputs": [
    {
     "data": {
      "text/plain": [
       "range(0, 3)"
      ]
     },
     "execution_count": 132,
     "metadata": {},
     "output_type": "execute_result"
    }
   ],
   "source": [
    "range(len(d[0]))"
   ]
  },
  {
   "cell_type": "code",
   "execution_count": 133,
   "metadata": {},
   "outputs": [
    {
     "data": {
      "text/plain": [
       "range(0, 5)"
      ]
     },
     "execution_count": 133,
     "metadata": {},
     "output_type": "execute_result"
    }
   ],
   "source": [
    "range(len(d[0][0]))"
   ]
  },
  {
   "cell_type": "code",
   "execution_count": 129,
   "metadata": {},
   "outputs": [
    {
     "data": {
      "text/plain": [
       "array([[[25., 75., 25., 75., 25.],\n",
       "        [75., 75., 75., 75., 25.],\n",
       "        [75., 25., 25., 75., 25.]],\n",
       "\n",
       "       [[25., 75., 75., 75., 25.],\n",
       "        [75., 25., 25., 25., 75.],\n",
       "        [25., 75., 75., 75.,  0.]]])"
      ]
     },
     "execution_count": 129,
     "metadata": {},
     "output_type": "execute_result"
    }
   ],
   "source": [
    "for capa in range(len(d)):\n",
    "    for fila in range(len(d[0])):\n",
    "        for columna in range(len(d[0][0])):\n",
    "            if d[capa,fila,columna] == d_min: \n",
    "                f[capa,fila,columna] = 0\n",
    "            elif d[capa,fila,columna] == d_mean:\n",
    "                f[capa,fila,columna] = 50\n",
    "            elif d[capa,fila,columna] == d_max:\n",
    "                f[capa,fila,columna] = 75\n",
    "            elif d[capa,fila,columna] > d_min and d[capa,fila,columna] < d_mean:\n",
    "                f[capa,fila,columna] = 25\n",
    "            elif d[capa,fila,columna] > d_mean and d[capa,fila,columna] < d_max:\n",
    "                f[capa,fila,columna] = 75\n",
    "            else:\n",
    "                pass \n",
    "\n",
    "f     "
   ]
  },
  {
   "cell_type": "code",
   "execution_count": 126,
   "metadata": {},
   "outputs": [
    {
     "data": {
      "text/plain": [
       "1.2620210761663357"
      ]
     },
     "execution_count": 126,
     "metadata": {},
     "output_type": "execute_result"
    }
   ],
   "source": [
    "d[0,0,0]"
   ]
  },
  {
   "cell_type": "code",
   "execution_count": null,
   "metadata": {},
   "outputs": [],
   "source": [
    "\"\"\"\n",
    "#17. Print d and f. Do you have your expected f?\n",
    "For instance, if your d is:\n",
    "array([[[1.85836099, 1.67064465, 1.62576044, 1.40243961, 1.88454931],\n",
    "        [1.75354326, 1.69403643, 1.36729252, 1.61415071, 1.12104981],\n",
    "        [1.72201435, 1.1862918 , 1.87078449, 1.7726778 , 1.88180042]],\n",
    "\n",
    "       [[1.44747908, 1.31673383, 1.02000951, 1.52218947, 1.97066381],\n",
    "        [1.79129243, 1.74983003, 1.96028037, 1.85166831, 1.65450881],\n",
    "        [1.18068344, 1.9587381 , 1.00656599, 1.93402165, 1.73514584]]])\n",
    "\n",
    "Your f should be:\n",
    "array([[[ 75.,  75.,  75.,  25.,  75.],\n",
    "        [ 75.,  75.,  25.,  25.,  25.],\n",
    "        [ 75.,  25.,  75.,  75.,  75.]],\n",
    "\n",
    "       [[ 25.,  25.,  25.,  25., 100.],\n",
    "        [ 75.,  75.,  75.,  75.,  75.],\n",
    "        [ 25.,  75.,   0.,  75.,  75.]]])\n",
    "\"\"\""
   ]
  },
  {
   "cell_type": "code",
   "execution_count": 134,
   "metadata": {},
   "outputs": [
    {
     "name": "stdout",
     "output_type": "stream",
     "text": [
      "[[[1.26202108 1.51333242 1.35043848 1.57512045 1.17677901]\n",
      "  [1.59211795 1.76687989 1.89038244 1.50997096 1.4536786 ]\n",
      "  [1.67154241 1.10492427 1.18018276 1.9074021  1.4504193 ]]\n",
      "\n",
      " [[1.48828904 1.65988071 1.65940621 1.72422453 1.37983761]\n",
      "  [1.72511214 1.33770777 1.41319429 1.23194726 1.61372475]\n",
      "  [1.140858   1.85920221 1.97934657 1.51016935 1.08518013]]]\n"
     ]
    }
   ],
   "source": [
    "print(d)"
   ]
  },
  {
   "cell_type": "code",
   "execution_count": 136,
   "metadata": {},
   "outputs": [
    {
     "name": "stdout",
     "output_type": "stream",
     "text": [
      "[[[25. 75. 25. 75. 25.]\n",
      "  [75. 75. 75. 75. 25.]\n",
      "  [75. 25. 25. 75. 25.]]\n",
      "\n",
      " [[25. 75. 75. 75. 25.]\n",
      "  [75. 25. 25. 25. 75.]\n",
      "  [25. 75. 75. 75.  0.]]]\n"
     ]
    }
   ],
   "source": [
    "print(f)"
   ]
  },
  {
   "cell_type": "code",
   "execution_count": 138,
   "metadata": {},
   "outputs": [
    {
     "data": {
      "text/plain": [
       "'\\n#18. Bonus question: instead of using numbers (i.e. 0, 25, 50, 75, and 100), how to use string values \\n(\"A\", \"B\", \"C\", \"D\", and \"E\") to label the array elements? You are expecting the result to be:\\narray([[[ \\'D\\',  \\'D\\',  \\'D\\',  \\'B\\',  \\'D\\'],\\n        [ \\'D\\',  \\'D\\',  \\'B\\',  \\'B\\',  \\'B\\'],\\n        [ \\'D\\',  \\'B\\',  \\'D\\',  \\'D\\',  \\'D\\']],\\n\\n       [[ \\'B\\',  \\'B\\',  \\'B\\',  \\'B\\',  \\'E\\'],\\n        [ \\'D\\',  \\'D\\',  \\'D\\',  \\'D\\',  \\'D\\'],\\n        [ \\'B\\',  \\'D\\',   \\'A\\',  \\'D\\', \\'D\\']]])\\nAgain, you don\\'t need Numpy in this question.\\n'"
      ]
     },
     "execution_count": 138,
     "metadata": {},
     "output_type": "execute_result"
    }
   ],
   "source": [
    "\"\"\"\n",
    "#18. Bonus question: instead of using numbers (i.e. 0, 25, 50, 75, and 100), how to use string values \n",
    "(\"A\", \"B\", \"C\", \"D\", and \"E\") to label the array elements? You are expecting the result to be:\n",
    "array([[[ 'D',  'D',  'D',  'B',  'D'],\n",
    "        [ 'D',  'D',  'B',  'B',  'B'],\n",
    "        [ 'D',  'B',  'D',  'D',  'D']],\n",
    "\n",
    "       [[ 'B',  'B',  'B',  'B',  'E'],\n",
    "        [ 'D',  'D',  'D',  'D',  'D'],\n",
    "        [ 'B',  'D',   'A',  'D', 'D']]])\n",
    "Again, you don't need Numpy in this question.\n",
    "\"\"\""
   ]
  },
  {
   "cell_type": "code",
   "execution_count": null,
   "metadata": {},
   "outputs": [],
   "source": [
    "#if extra time "
   ]
  },
  {
   "cell_type": "code",
   "execution_count": null,
   "metadata": {},
   "outputs": [],
   "source": []
  },
  {
   "cell_type": "code",
   "execution_count": null,
   "metadata": {},
   "outputs": [],
   "source": []
  }
 ],
 "metadata": {
  "kernelspec": {
   "display_name": "Python 3 (ipykernel)",
   "language": "python",
   "name": "python3"
  },
  "language_info": {
   "codemirror_mode": {
    "name": "ipython",
    "version": 3
   },
   "file_extension": ".py",
   "mimetype": "text/x-python",
   "name": "python",
   "nbconvert_exporter": "python",
   "pygments_lexer": "ipython3",
   "version": "3.11.4"
  }
 },
 "nbformat": 4,
 "nbformat_minor": 2
}
