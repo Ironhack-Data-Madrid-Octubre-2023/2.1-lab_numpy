{
 "cells": [
  {
   "cell_type": "markdown",
   "id": "d6e9b499",
   "metadata": {},
   "source": [
    "#1. Import the NUMPY package under the name np."
   ]
  },
  {
   "cell_type": "code",
   "execution_count": 1,
   "id": "51dbba6d",
   "metadata": {},
   "outputs": [],
   "source": [
    "import numpy as np"
   ]
  },
  {
   "cell_type": "markdown",
   "id": "6f5012dd",
   "metadata": {},
   "source": [
    "#2. Print the NUMPY version and the configuration."
   ]
  },
  {
   "cell_type": "code",
   "execution_count": 2,
   "id": "70bacbd7",
   "metadata": {},
   "outputs": [
    {
     "name": "stdout",
     "output_type": "stream",
     "text": [
      "1.24.3\n"
     ]
    }
   ],
   "source": [
    "print(np.__version__)"
   ]
  },
  {
   "cell_type": "code",
   "execution_count": 3,
   "id": "5e6daf02",
   "metadata": {},
   "outputs": [
    {
     "name": "stdout",
     "output_type": "stream",
     "text": [
      "blas_armpl_info:\n",
      "  NOT AVAILABLE\n",
      "blas_mkl_info:\n",
      "    libraries = ['mkl_rt']\n",
      "    library_dirs = ['C:/Users/ccior/anaconda3\\\\Library\\\\lib']\n",
      "    define_macros = [('SCIPY_MKL_H', None), ('HAVE_CBLAS', None)]\n",
      "    include_dirs = ['C:/Users/ccior/anaconda3\\\\Library\\\\include']\n",
      "blas_opt_info:\n",
      "    libraries = ['mkl_rt']\n",
      "    library_dirs = ['C:/Users/ccior/anaconda3\\\\Library\\\\lib']\n",
      "    define_macros = [('SCIPY_MKL_H', None), ('HAVE_CBLAS', None)]\n",
      "    include_dirs = ['C:/Users/ccior/anaconda3\\\\Library\\\\include']\n",
      "lapack_armpl_info:\n",
      "  NOT AVAILABLE\n",
      "lapack_mkl_info:\n",
      "    libraries = ['mkl_rt']\n",
      "    library_dirs = ['C:/Users/ccior/anaconda3\\\\Library\\\\lib']\n",
      "    define_macros = [('SCIPY_MKL_H', None), ('HAVE_CBLAS', None)]\n",
      "    include_dirs = ['C:/Users/ccior/anaconda3\\\\Library\\\\include']\n",
      "lapack_opt_info:\n",
      "    libraries = ['mkl_rt']\n",
      "    library_dirs = ['C:/Users/ccior/anaconda3\\\\Library\\\\lib']\n",
      "    define_macros = [('SCIPY_MKL_H', None), ('HAVE_CBLAS', None)]\n",
      "    include_dirs = ['C:/Users/ccior/anaconda3\\\\Library\\\\include']\n",
      "Supported SIMD extensions in this NumPy install:\n",
      "    baseline = SSE,SSE2,SSE3\n",
      "    found = SSSE3,SSE41,POPCNT,SSE42,AVX,F16C,FMA3,AVX2\n",
      "    not found = AVX512F,AVX512CD,AVX512_SKX,AVX512_CLX,AVX512_CNL,AVX512_ICL\n",
      "None\n"
     ]
    }
   ],
   "source": [
    "print(np.show_config())"
   ]
  },
  {
   "cell_type": "code",
   "execution_count": 4,
   "id": "e0414c4c",
   "metadata": {},
   "outputs": [],
   "source": [
    "#3. Generate a 2x3x5 3-dimensional array with random values. Assign the array to variable \"a\"\n",
    "# Challenge: there are at least three easy ways that use numpy to generate random arrays. How many ways can you find?"
   ]
  },
  {
   "cell_type": "code",
   "execution_count": 5,
   "id": "68b99d06",
   "metadata": {},
   "outputs": [
    {
     "data": {
      "text/plain": [
       "array([[[0.41544828, 0.90882336, 0.84294781, 0.12565439, 0.95329379],\n",
       "        [0.82347037, 0.12463845, 0.81492178, 0.45369349, 0.62770048],\n",
       "        [0.39370667, 0.80442774, 0.78657717, 0.46966898, 0.39583959]],\n",
       "\n",
       "       [[0.24744778, 0.29967457, 0.54212891, 0.95743644, 0.91579212],\n",
       "        [0.40178677, 0.75030727, 0.00126251, 0.31483582, 0.07234888],\n",
       "        [0.16592991, 0.36788234, 0.75316316, 0.27270528, 0.18728539]]])"
      ]
     },
     "execution_count": 5,
     "metadata": {},
     "output_type": "execute_result"
    }
   ],
   "source": [
    "a = np.random.random((2, 3, 5))   # 10 filas, 4 columnas\n",
    "\n",
    "a"
   ]
  },
  {
   "cell_type": "markdown",
   "id": "65a24107",
   "metadata": {},
   "source": [
    "#4. Print a."
   ]
  },
  {
   "cell_type": "code",
   "execution_count": 6,
   "id": "b89bf76e",
   "metadata": {},
   "outputs": [
    {
     "name": "stdout",
     "output_type": "stream",
     "text": [
      "[[[0.41544828 0.90882336 0.84294781 0.12565439 0.95329379]\n",
      "  [0.82347037 0.12463845 0.81492178 0.45369349 0.62770048]\n",
      "  [0.39370667 0.80442774 0.78657717 0.46966898 0.39583959]]\n",
      "\n",
      " [[0.24744778 0.29967457 0.54212891 0.95743644 0.91579212]\n",
      "  [0.40178677 0.75030727 0.00126251 0.31483582 0.07234888]\n",
      "  [0.16592991 0.36788234 0.75316316 0.27270528 0.18728539]]]\n"
     ]
    }
   ],
   "source": [
    "print(a)"
   ]
  },
  {
   "cell_type": "markdown",
   "id": "73bbce16",
   "metadata": {},
   "source": [
    "#5. Create a 5x2x3 3-dimensional array with all values equaling 1.\n",
    "#Assign the array to variable \"b\""
   ]
  },
  {
   "cell_type": "code",
   "execution_count": 7,
   "id": "f4701616",
   "metadata": {},
   "outputs": [
    {
     "data": {
      "text/plain": [
       "array([[[0.25127728, 0.02432848, 0.7835425 ],\n",
       "        [0.05353644, 0.95747567, 0.78608743]],\n",
       "\n",
       "       [[0.54244471, 0.24386179, 0.90087486],\n",
       "        [0.61690017, 0.35889265, 0.91021196]],\n",
       "\n",
       "       [[0.8105616 , 0.85787038, 0.75677222],\n",
       "        [0.41754265, 0.21105828, 0.9405565 ]],\n",
       "\n",
       "       [[0.39444712, 0.10499986, 0.09587366],\n",
       "        [0.2323715 , 0.09188882, 0.04013125]],\n",
       "\n",
       "       [[0.53842892, 0.43092237, 0.63618114],\n",
       "        [0.60574168, 0.1665205 , 0.95896981]]])"
      ]
     },
     "execution_count": 7,
     "metadata": {},
     "output_type": "execute_result"
    }
   ],
   "source": [
    "b = np.random.random((5,2,3))\n",
    "\n",
    "b"
   ]
  },
  {
   "cell_type": "markdown",
   "id": "a040c61e",
   "metadata": {},
   "source": [
    "#6. Print b."
   ]
  },
  {
   "cell_type": "code",
   "execution_count": 8,
   "id": "a0fa46e8",
   "metadata": {},
   "outputs": [
    {
     "name": "stdout",
     "output_type": "stream",
     "text": [
      "[[[0.25127728 0.02432848 0.7835425 ]\n",
      "  [0.05353644 0.95747567 0.78608743]]\n",
      "\n",
      " [[0.54244471 0.24386179 0.90087486]\n",
      "  [0.61690017 0.35889265 0.91021196]]\n",
      "\n",
      " [[0.8105616  0.85787038 0.75677222]\n",
      "  [0.41754265 0.21105828 0.9405565 ]]\n",
      "\n",
      " [[0.39444712 0.10499986 0.09587366]\n",
      "  [0.2323715  0.09188882 0.04013125]]\n",
      "\n",
      " [[0.53842892 0.43092237 0.63618114]\n",
      "  [0.60574168 0.1665205  0.95896981]]]\n"
     ]
    }
   ],
   "source": [
    "print(b)"
   ]
  },
  {
   "cell_type": "markdown",
   "id": "146ad363",
   "metadata": {},
   "source": [
    "#7. Do a and b have the same size? How do you prove that in Python code?"
   ]
  },
  {
   "cell_type": "code",
   "execution_count": 9,
   "id": "b80a8981",
   "metadata": {},
   "outputs": [],
   "source": [
    "def shape_of_you(a,b):\n",
    "    \n",
    "    if a.shape == b.shape:\n",
    "        return True\n",
    "    else:\n",
    "        return False"
   ]
  },
  {
   "cell_type": "code",
   "execution_count": 10,
   "id": "9b78cc4a",
   "metadata": {},
   "outputs": [
    {
     "data": {
      "text/plain": [
       "False"
      ]
     },
     "execution_count": 10,
     "metadata": {},
     "output_type": "execute_result"
    }
   ],
   "source": [
    "shape_of_you(a,b)"
   ]
  },
  {
   "cell_type": "markdown",
   "id": "6dfd4bc9",
   "metadata": {},
   "source": [
    "#8. Are you able to add a and b? Why or why not?"
   ]
  },
  {
   "cell_type": "code",
   "execution_count": 12,
   "id": "edc7ef5c",
   "metadata": {},
   "outputs": [
    {
     "ename": "ValueError",
     "evalue": "operands could not be broadcast together with shapes (2,3,5) (5,2,3) ",
     "output_type": "error",
     "traceback": [
      "\u001b[1;31m---------------------------------------------------------------------------\u001b[0m",
      "\u001b[1;31mValueError\u001b[0m                                Traceback (most recent call last)",
      "Cell \u001b[1;32mIn[12], line 1\u001b[0m\n\u001b[1;32m----> 1\u001b[0m c \u001b[38;5;241m=\u001b[39m a \u001b[38;5;241m+\u001b[39m b\n\u001b[0;32m      3\u001b[0m c\n",
      "\u001b[1;31mValueError\u001b[0m: operands could not be broadcast together with shapes (2,3,5) (5,2,3) "
     ]
    }
   ],
   "source": [
    "c = a + b\n",
    "\n",
    "c"
   ]
  },
  {
   "cell_type": "code",
   "execution_count": 13,
   "id": "d5d9026b",
   "metadata": {},
   "outputs": [],
   "source": [
    "#both arrays need to have the same shape"
   ]
  },
  {
   "cell_type": "markdown",
   "id": "4d76527f",
   "metadata": {},
   "source": [
    "#9. Transpose b so that it has the same structure of a (i.e. become a 2x3x5 array). Assign the transposed array to varialbe \"c\"."
   ]
  },
  {
   "cell_type": "code",
   "execution_count": 14,
   "id": "5fe96ed6",
   "metadata": {},
   "outputs": [
    {
     "name": "stdout",
     "output_type": "stream",
     "text": [
      "[[[0.66672555 1.45126808 1.65350941 0.52010152 1.49172271]\n",
      "  [0.84779885 0.36850024 1.67279216 0.55869334 1.05862285]\n",
      "  [1.17724917 1.7053026  1.54334939 0.56554264 1.03202074]]\n",
      "\n",
      " [[0.30098422 0.91657475 0.95967156 1.18980794 1.5215338 ]\n",
      "  [1.35926244 1.10919992 0.21232079 0.40672465 0.23886938]\n",
      "  [0.95201734 1.2780943  1.69371966 0.31283654 1.1462552 ]]]\n"
     ]
    }
   ],
   "source": [
    "c = a + b.transpose((1,2,0))\n",
    "\n",
    "print(c)"
   ]
  },
  {
   "cell_type": "code",
   "execution_count": 15,
   "id": "ec2e305a",
   "metadata": {},
   "outputs": [],
   "source": [
    "#10. Try to add a and c. Now it should work. Assign the sum to varialbe \"d\". But why does it work now?"
   ]
  },
  {
   "cell_type": "code",
   "execution_count": 16,
   "id": "6c87dc73",
   "metadata": {},
   "outputs": [
    {
     "name": "stdout",
     "output_type": "stream",
     "text": [
      "[[[1.08217383 2.36009144 2.49645722 0.64575591 2.44501649]\n",
      "  [1.67126922 0.49313869 2.48771394 1.01238683 1.68632332]\n",
      "  [1.57095584 2.50973034 2.32992656 1.03521161 1.42786033]]\n",
      "\n",
      " [[0.54843201 1.21624932 1.50180047 2.14724438 2.43732592]\n",
      "  [1.76104922 1.85950719 0.2135833  0.72156047 0.31121826]\n",
      "  [1.11794725 1.64597664 2.44688282 0.58554182 1.33354059]]]\n"
     ]
    }
   ],
   "source": [
    "d = a + c\n",
    "\n",
    "print(d)"
   ]
  },
  {
   "cell_type": "code",
   "execution_count": 17,
   "id": "3a0520b5",
   "metadata": {},
   "outputs": [],
   "source": [
    "#it works because a and c have the same shape"
   ]
  },
  {
   "cell_type": "markdown",
   "id": "867d8770",
   "metadata": {},
   "source": [
    "#12. Multiply a and c. Assign the result to e."
   ]
  },
  {
   "cell_type": "code",
   "execution_count": 18,
   "id": "c4b17051",
   "metadata": {},
   "outputs": [
    {
     "name": "stdout",
     "output_type": "stream",
     "text": [
      "[[[2.76989982e-01 1.31894633e+00 1.39382214e+00 6.53530405e-02\n",
      "   1.42204999e+00]\n",
      "  [6.98137236e-01 4.59292994e-02 1.36319477e+00 2.53475531e-01\n",
      "   6.64498065e-01]\n",
      "  [4.63490847e-01 1.37179272e+00 1.21396340e+00 2.65617832e-01\n",
      "   4.08514668e-01]]\n",
      "\n",
      " [[7.44778792e-02 2.74674147e-01 5.20265698e-01 1.13916548e+00\n",
      "   1.39340866e+00]\n",
      "  [5.46133668e-01 8.32240762e-01 2.68056963e-04 1.28051488e-01\n",
      "   1.72819324e-02]\n",
      "  [1.57968154e-01 4.70188323e-01 1.27564725e+00 8.53121751e-02\n",
      "   2.14676848e-01]]]\n"
     ]
    }
   ],
   "source": [
    "e = a * c\n",
    "print(e)"
   ]
  },
  {
   "cell_type": "markdown",
   "id": "f01c019f",
   "metadata": {},
   "source": [
    "#13. Does e equal to a? Why or why not?"
   ]
  },
  {
   "cell_type": "code",
   "execution_count": 19,
   "id": "bb260d0c",
   "metadata": {
    "scrolled": true
   },
   "outputs": [
    {
     "data": {
      "text/plain": [
       "array([[[False, False, False, False, False],\n",
       "        [False, False, False, False, False],\n",
       "        [False, False, False, False, False]],\n",
       "\n",
       "       [[False, False, False, False, False],\n",
       "        [False, False, False, False, False],\n",
       "        [False, False, False, False, False]]])"
      ]
     },
     "execution_count": 19,
     "metadata": {},
     "output_type": "execute_result"
    }
   ],
   "source": [
    "e == a"
   ]
  },
  {
   "cell_type": "markdown",
   "id": "3ef7c93d",
   "metadata": {},
   "source": [
    "#14. Identify the max, min, and mean values in d. Assign those values to variables \"d_max\", \"d_min\", and \"d_mean\""
   ]
  },
  {
   "cell_type": "code",
   "execution_count": 20,
   "id": "05dca29e",
   "metadata": {},
   "outputs": [],
   "source": [
    "d_max = d.max()\n",
    "d_min = d.min()\n",
    "d_mean = d.mean()"
   ]
  },
  {
   "cell_type": "markdown",
   "id": "c277a139",
   "metadata": {},
   "source": [
    "#15. Now we want to label the values in d. First create an empty array \"f\" with the same shape (i.e. 2x3x5) as d using `np.empty`.import numpy as np"
   ]
  },
  {
   "cell_type": "code",
   "execution_count": 21,
   "id": "92689db8",
   "metadata": {},
   "outputs": [
    {
     "name": "stdout",
     "output_type": "stream",
     "text": [
      "[[[2.76989982e-01 1.31894633e+00 1.39382214e+00 6.53530405e-02\n",
      "   1.42204999e+00]\n",
      "  [6.98137236e-01 4.59292994e-02 1.36319477e+00 2.53475531e-01\n",
      "   6.64498065e-01]\n",
      "  [4.63490847e-01 1.37179272e+00 1.21396340e+00 2.65617832e-01\n",
      "   4.08514668e-01]]\n",
      "\n",
      " [[7.44778792e-02 2.74674147e-01 5.20265698e-01 1.13916548e+00\n",
      "   1.39340866e+00]\n",
      "  [5.46133668e-01 8.32240762e-01 2.68056963e-04 1.28051488e-01\n",
      "   1.72819324e-02]\n",
      "  [1.57968154e-01 4.70188323e-01 1.27564725e+00 8.53121751e-02\n",
      "   2.14676848e-01]]]\n"
     ]
    }
   ],
   "source": [
    "import numpy as np\n",
    "\n",
    "f = np.empty((2, 3, 5))\n",
    "print(f)"
   ]
  },
  {
   "cell_type": "markdown",
   "id": "34aa1abc",
   "metadata": {},
   "source": [
    "#16. Populate the values in f. For each value in d, if it's larger than d_min but smaller than d_mean, assign 25 to the corresponding value in f.\n",
    "\n",
    "If a value in d is larger than d_mean but smaller than d_max, assign 75 to the corresponding value in f.\n",
    "\n",
    "If a value equals to d_mean, assign 50 to the corresponding value in f.\n",
    "\n",
    "Assign 0 to the corresponding value(s) in f for d_min in d.\n",
    "\n",
    "Assign 100 to the corresponding value(s) in f for d_max in d.\n",
    "\n",
    "In the end, f should have only the following values: 0, 25, 50, 75, and 100.\n",
    "    \n",
    "Note: you don't have to use Numpy in this question."
   ]
  },
  {
   "cell_type": "code",
   "execution_count": 22,
   "id": "93d4a219",
   "metadata": {
    "scrolled": true
   },
   "outputs": [
    {
     "name": "stdout",
     "output_type": "stream",
     "text": [
      "[[[2.76989982e-01 1.31894633e+00 1.39382214e+00 6.53530405e-02\n",
      "   1.42204999e+00]\n",
      "  [6.98137236e-01 4.59292994e-02 1.36319477e+00 2.53475531e-01\n",
      "   6.64498065e-01]\n",
      "  [4.63490847e-01 1.37179272e+00 1.21396340e+00 2.65617832e-01\n",
      "   4.08514668e-01]]\n",
      "\n",
      " [[7.44778792e-02 2.74674147e-01 5.20265698e-01 1.13916548e+00\n",
      "   1.39340866e+00]\n",
      "  [5.46133668e-01 8.32240762e-01 2.68056963e-04 1.28051488e-01\n",
      "   1.72819324e-02]\n",
      "  [1.57968154e-01 4.70188323e-01 1.27564725e+00 8.53121751e-02\n",
      "   2.14676848e-01]]]\n"
     ]
    }
   ],
   "source": [
    "print(f)"
   ]
  },
  {
   "cell_type": "code",
   "execution_count": 23,
   "id": "118bce46",
   "metadata": {
    "scrolled": false
   },
   "outputs": [
    {
     "name": "stdout",
     "output_type": "stream",
     "text": [
      "[[[2.50000000e+01 1.31894633e+00 1.39382214e+00 2.50000000e+01\n",
      "   1.42204999e+00]\n",
      "  [6.98137236e-01 2.50000000e+01 1.36319477e+00 2.50000000e+01\n",
      "   6.64498065e-01]\n",
      "  [4.63490847e-01 1.37179272e+00 1.21396340e+00 2.50000000e+01\n",
      "   2.50000000e+01]]\n",
      "\n",
      " [[2.50000000e+01 2.50000000e+01 2.50000000e+01 1.13916548e+00\n",
      "   1.39340866e+00]\n",
      "  [5.46133668e-01 8.32240762e-01 2.68056963e-04 2.50000000e+01\n",
      "   2.50000000e+01]\n",
      "  [2.50000000e+01 4.70188323e-01 1.27564725e+00 2.50000000e+01\n",
      "   2.50000000e+01]]]\n"
     ]
    }
   ],
   "source": [
    "#For each value in d, if it's larger than d_min but smaller than d_mean, assign 25 to the corresponding value in f.\n",
    "\n",
    "f = np.where((d > d_min) & (d < d_mean), 25, f)\n",
    "print(f)"
   ]
  },
  {
   "cell_type": "code",
   "execution_count": 24,
   "id": "32765682",
   "metadata": {},
   "outputs": [
    {
     "name": "stdout",
     "output_type": "stream",
     "text": [
      "[[[2.50000000e+01 7.50000000e+01 7.50000000e+01 2.50000000e+01\n",
      "   7.50000000e+01]\n",
      "  [7.50000000e+01 2.50000000e+01 7.50000000e+01 2.50000000e+01\n",
      "   7.50000000e+01]\n",
      "  [7.50000000e+01 1.37179272e+00 7.50000000e+01 2.50000000e+01\n",
      "   2.50000000e+01]]\n",
      "\n",
      " [[2.50000000e+01 2.50000000e+01 2.50000000e+01 7.50000000e+01\n",
      "   7.50000000e+01]\n",
      "  [7.50000000e+01 7.50000000e+01 2.68056963e-04 2.50000000e+01\n",
      "   2.50000000e+01]\n",
      "  [2.50000000e+01 7.50000000e+01 7.50000000e+01 2.50000000e+01\n",
      "   2.50000000e+01]]]\n"
     ]
    }
   ],
   "source": [
    "#If a value in d is larger than d_mean but smaller than d_max, assign 75 to the corresponding value in f\n",
    "\n",
    "f = np.where((d > d_mean) & (d < d_max), 75, f)\n",
    "print(f)"
   ]
  },
  {
   "cell_type": "code",
   "execution_count": 25,
   "id": "f9ae81b4",
   "metadata": {
    "scrolled": true
   },
   "outputs": [
    {
     "name": "stdout",
     "output_type": "stream",
     "text": [
      "[[[2.50000000e+01 7.50000000e+01 7.50000000e+01 2.50000000e+01\n",
      "   7.50000000e+01]\n",
      "  [7.50000000e+01 2.50000000e+01 7.50000000e+01 2.50000000e+01\n",
      "   7.50000000e+01]\n",
      "  [7.50000000e+01 1.37179272e+00 7.50000000e+01 2.50000000e+01\n",
      "   2.50000000e+01]]\n",
      "\n",
      " [[2.50000000e+01 2.50000000e+01 2.50000000e+01 7.50000000e+01\n",
      "   7.50000000e+01]\n",
      "  [7.50000000e+01 7.50000000e+01 2.68056963e-04 2.50000000e+01\n",
      "   2.50000000e+01]\n",
      "  [2.50000000e+01 7.50000000e+01 7.50000000e+01 2.50000000e+01\n",
      "   2.50000000e+01]]]\n"
     ]
    }
   ],
   "source": [
    "#If a value equals to d_mean, assign 50 to the corresponding value in f.\n",
    "\n",
    "f = np.where(d == d_mean, 50, f)\n",
    "print(f)"
   ]
  },
  {
   "cell_type": "code",
   "execution_count": 26,
   "id": "52311366",
   "metadata": {},
   "outputs": [
    {
     "name": "stdout",
     "output_type": "stream",
     "text": [
      "[[[25.         75.         75.         25.         75.        ]\n",
      "  [75.         25.         75.         25.         75.        ]\n",
      "  [75.          1.37179272 75.         25.         25.        ]]\n",
      "\n",
      " [[25.         25.         25.         75.         75.        ]\n",
      "  [75.         75.          0.         25.         25.        ]\n",
      "  [25.         75.         75.         25.         25.        ]]]\n"
     ]
    }
   ],
   "source": [
    "#Assign 0 to the corresponding value(s) in f for d_min in d\n",
    "\n",
    "f = np.where(d == d_min, 0, f)\n",
    "print(f)"
   ]
  },
  {
   "cell_type": "code",
   "execution_count": 27,
   "id": "a400d6ea",
   "metadata": {},
   "outputs": [
    {
     "name": "stdout",
     "output_type": "stream",
     "text": [
      "[[[ 25.  75.  75.  25.  75.]\n",
      "  [ 75.  25.  75.  25.  75.]\n",
      "  [ 75. 100.  75.  25.  25.]]\n",
      "\n",
      " [[ 25.  25.  25.  75.  75.]\n",
      "  [ 75.  75.   0.  25.  25.]\n",
      "  [ 25.  75.  75.  25.  25.]]]\n"
     ]
    }
   ],
   "source": [
    "#Assign 100 to the corresponding value(s) in f for d_max in d.\n",
    "\n",
    "f = np.where(d == d_max, 100, f)\n",
    "print(f)"
   ]
  },
  {
   "cell_type": "code",
   "execution_count": null,
   "id": "57bf67d0",
   "metadata": {},
   "outputs": [],
   "source": [
    "#17. Print d and f. Do you have your expected f?\n",
    "\n",
    "For instance, if your d is:\n",
    "array([[[1.85836099, 1.67064465, 1.62576044, 1.40243961, 1.88454931],\n",
    "        [1.75354326, 1.69403643, 1.36729252, 1.61415071, 1.12104981],\n",
    "        [1.72201435, 1.1862918 , 1.87078449, 1.7726778 , 1.88180042]],\n",
    "\n",
    "       [[1.44747908, 1.31673383, 1.02000951, 1.52218947, 1.97066381],\n",
    "        [1.79129243, 1.74983003, 1.96028037, 1.85166831, 1.65450881],\n",
    "        [1.18068344, 1.9587381 , 1.00656599, 1.93402165, 1.73514584]]])\n",
    "\n",
    "Your f should be:\n",
    "array([[[ 75.,  75.,  75.,  25.,  75.],\n",
    "        [ 75.,  75.,  25.,  25.,  25.],\n",
    "        [ 75.,  25.,  75.,  75.,  75.]],\n",
    "\n",
    "       [[ 25.,  25.,  25.,  25., 100.],\n",
    "        [ 75.,  75.,  75.,  75.,  75.],\n",
    "        [ 25.,  75.,   0.,  75.,  75.]]])"
   ]
  },
  {
   "cell_type": "code",
   "execution_count": 28,
   "id": "3a9029c3",
   "metadata": {},
   "outputs": [
    {
     "name": "stdout",
     "output_type": "stream",
     "text": [
      "[[[1.08217383 2.36009144 2.49645722 0.64575591 2.44501649]\n",
      "  [1.67126922 0.49313869 2.48771394 1.01238683 1.68632332]\n",
      "  [1.57095584 2.50973034 2.32992656 1.03521161 1.42786033]]\n",
      "\n",
      " [[0.54843201 1.21624932 1.50180047 2.14724438 2.43732592]\n",
      "  [1.76104922 1.85950719 0.2135833  0.72156047 0.31121826]\n",
      "  [1.11794725 1.64597664 2.44688282 0.58554182 1.33354059]]]\n"
     ]
    }
   ],
   "source": [
    "print(d)"
   ]
  },
  {
   "cell_type": "code",
   "execution_count": 29,
   "id": "39fe6732",
   "metadata": {},
   "outputs": [
    {
     "name": "stdout",
     "output_type": "stream",
     "text": [
      "[[[ 25.  75.  75.  25.  75.]\n",
      "  [ 75.  25.  75.  25.  75.]\n",
      "  [ 75. 100.  75.  25.  25.]]\n",
      "\n",
      " [[ 25.  25.  25.  75.  75.]\n",
      "  [ 75.  75.   0.  25.  25.]\n",
      "  [ 25.  75.  75.  25.  25.]]]\n"
     ]
    }
   ],
   "source": [
    "print(f)"
   ]
  },
  {
   "cell_type": "markdown",
   "id": "b6208575",
   "metadata": {},
   "source": [
    "#18. Bonus question: instead of using numbers (i.e. 0, 25, 50, 75, and 100), how to use string values \n",
    "(\"A\", \"B\", \"C\", \"D\", and \"E\") to label the array elements? You are expecting the result to be:\n",
    "array([[[ 'D',  'D',  'D',  'B',  'D'],\n",
    "        [ 'D',  'D',  'B',  'B',  'B'],\n",
    "        [ 'D',  'B',  'D',  'D',  'D']],\n",
    "\n",
    "       [[ 'B',  'B',  'B',  'B',  'E'],\n",
    "        [ 'D',  'D',  'D',  'D',  'D'],\n",
    "        [ 'B',  'D',   'A',  'D', 'D']]])\n",
    "Again, you don't need Numpy in this question."
   ]
  },
  {
   "cell_type": "code",
   "execution_count": null,
   "id": "09034773",
   "metadata": {},
   "outputs": [],
   "source": []
  }
 ],
 "metadata": {
  "kernelspec": {
   "display_name": "Python 3 (ipykernel)",
   "language": "python",
   "name": "python3"
  },
  "language_info": {
   "codemirror_mode": {
    "name": "ipython",
    "version": 3
   },
   "file_extension": ".py",
   "mimetype": "text/x-python",
   "name": "python",
   "nbconvert_exporter": "python",
   "pygments_lexer": "ipython3",
   "version": "3.11.4"
  }
 },
 "nbformat": 4,
 "nbformat_minor": 5
}
