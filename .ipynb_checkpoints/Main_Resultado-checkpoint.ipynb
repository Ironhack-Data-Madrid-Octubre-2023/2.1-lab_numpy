{
 "cells": [
  {
   "cell_type": "markdown",
   "id": "dfcf5f6c",
   "metadata": {},
   "source": [
    "#1. Import the NUMPY package under the name np."
   ]
  },
  {
   "cell_type": "code",
   "execution_count": 105,
   "id": "217d1858",
   "metadata": {},
   "outputs": [],
   "source": [
    "import numpy as np"
   ]
  },
  {
   "cell_type": "markdown",
   "id": "e78d7955",
   "metadata": {},
   "source": [
    "#2. Print the NUMPY version and the configuration."
   ]
  },
  {
   "cell_type": "code",
   "execution_count": 106,
   "id": "4677d77a",
   "metadata": {},
   "outputs": [
    {
     "name": "stdout",
     "output_type": "stream",
     "text": [
      "NumPy Version: 1.26.0\n"
     ]
    }
   ],
   "source": [
    "print(\"NumPy Version:\", np.__version__)"
   ]
  },
  {
   "cell_type": "markdown",
   "id": "d01297cf",
   "metadata": {},
   "source": [
    "#3. Generate a 2x3x5 3-dimensional array with random values. Assign the array to variable \"a\" \n",
    "\n",
    "#Challenge: there are at least three easy ways that use numpy to generate random arrays. How many ways can you find?"
   ]
  },
  {
   "cell_type": "code",
   "execution_count": 107,
   "id": "e3a09351",
   "metadata": {},
   "outputs": [
    {
     "data": {
      "text/plain": [
       "array([[[5.79618918e-01, 7.24202712e-01, 2.13365839e-01, 2.59379005e-01,\n",
       "         1.54503620e-01],\n",
       "        [4.46199668e-01, 7.37717823e-01, 2.18994112e-01, 7.56013044e-01,\n",
       "         6.31952849e-01],\n",
       "        [7.24095656e-01, 2.22476762e-01, 4.42510400e-01, 8.76364667e-01,\n",
       "         1.90013987e-01]],\n",
       "\n",
       "       [[9.67161757e-01, 9.49326898e-01, 9.64298388e-01, 4.89230913e-01,\n",
       "         9.25563395e-01],\n",
       "        [5.82107908e-01, 9.02968948e-01, 6.85205450e-01, 5.84698912e-01,\n",
       "         3.23637821e-01],\n",
       "        [7.05360571e-01, 2.08732526e-04, 4.80901925e-01, 3.46303112e-01,\n",
       "         5.67545115e-01]]])"
      ]
     },
     "execution_count": 107,
     "metadata": {},
     "output_type": "execute_result"
    }
   ],
   "source": [
    "a = np.random.random((2, 3, 5))\n",
    "\n",
    "a"
   ]
  },
  {
   "cell_type": "code",
   "execution_count": 108,
   "id": "4b4ac9fd",
   "metadata": {},
   "outputs": [
    {
     "data": {
      "text/plain": [
       "array([[[0.26727447, 0.38505958, 0.69800222, 0.49638528, 0.1392777 ],\n",
       "        [0.97841362, 0.36944353, 0.26915608, 0.0255116 , 0.02835993],\n",
       "        [0.69948507, 0.58401733, 0.16990603, 0.75645409, 0.38969399]],\n",
       "\n",
       "       [[0.14602543, 0.09875691, 0.27001988, 0.95211146, 0.95838537],\n",
       "        [0.36198715, 0.2659687 , 0.88452459, 0.13955331, 0.27718488],\n",
       "        [0.09700158, 0.10031466, 0.93383485, 0.8424265 , 0.20742193]]])"
      ]
     },
     "execution_count": 108,
     "metadata": {},
     "output_type": "execute_result"
    }
   ],
   "source": [
    "\n",
    "shape = (2, 3, 5)\n",
    "\n",
    "a = np.empty(shape)\n",
    "\n",
    "for i in range(shape[0]):\n",
    "    for j in range(shape[1]):\n",
    "        for k in range(shape[2]):\n",
    "            a[i, j, k] = np.random.rand()\n",
    "\n",
    "a\n",
    "    "
   ]
  },
  {
   "cell_type": "markdown",
   "id": "d822a1d1",
   "metadata": {},
   "source": [
    "#4. Print a."
   ]
  },
  {
   "cell_type": "code",
   "execution_count": 109,
   "id": "3006b478",
   "metadata": {},
   "outputs": [
    {
     "name": "stdout",
     "output_type": "stream",
     "text": [
      "[[[0.26727447 0.38505958 0.69800222 0.49638528 0.1392777 ]\n",
      "  [0.97841362 0.36944353 0.26915608 0.0255116  0.02835993]\n",
      "  [0.69948507 0.58401733 0.16990603 0.75645409 0.38969399]]\n",
      "\n",
      " [[0.14602543 0.09875691 0.27001988 0.95211146 0.95838537]\n",
      "  [0.36198715 0.2659687  0.88452459 0.13955331 0.27718488]\n",
      "  [0.09700158 0.10031466 0.93383485 0.8424265  0.20742193]]]\n"
     ]
    }
   ],
   "source": [
    "print (a)"
   ]
  },
  {
   "cell_type": "markdown",
   "id": "7b978d85",
   "metadata": {},
   "source": [
    "#5. Create a 5x2x3 3-dimensional array with all values equaling 1.\n",
    "#Assign the array to variable \"b\""
   ]
  },
  {
   "cell_type": "code",
   "execution_count": 110,
   "id": "cfb2e23f",
   "metadata": {},
   "outputs": [
    {
     "data": {
      "text/plain": [
       "array([[[1., 1., 1.],\n",
       "        [1., 1., 1.]],\n",
       "\n",
       "       [[1., 1., 1.],\n",
       "        [1., 1., 1.]],\n",
       "\n",
       "       [[1., 1., 1.],\n",
       "        [1., 1., 1.]],\n",
       "\n",
       "       [[1., 1., 1.],\n",
       "        [1., 1., 1.]],\n",
       "\n",
       "       [[1., 1., 1.],\n",
       "        [1., 1., 1.]]])"
      ]
     },
     "execution_count": 110,
     "metadata": {},
     "output_type": "execute_result"
    }
   ],
   "source": [
    "b = np.ones((5, 2, 3))\n",
    "\n",
    "b"
   ]
  },
  {
   "cell_type": "markdown",
   "id": "881cc379",
   "metadata": {},
   "source": [
    "#6. Print b."
   ]
  },
  {
   "cell_type": "code",
   "execution_count": 111,
   "id": "17481eb1",
   "metadata": {},
   "outputs": [
    {
     "name": "stdout",
     "output_type": "stream",
     "text": [
      "[[[1. 1. 1.]\n",
      "  [1. 1. 1.]]\n",
      "\n",
      " [[1. 1. 1.]\n",
      "  [1. 1. 1.]]\n",
      "\n",
      " [[1. 1. 1.]\n",
      "  [1. 1. 1.]]\n",
      "\n",
      " [[1. 1. 1.]\n",
      "  [1. 1. 1.]]\n",
      "\n",
      " [[1. 1. 1.]\n",
      "  [1. 1. 1.]]]\n"
     ]
    }
   ],
   "source": [
    "print (b)"
   ]
  },
  {
   "cell_type": "markdown",
   "id": "3e3c3ead",
   "metadata": {},
   "source": [
    "#7. Do a and b have the same size? How do you prove that in Python code?"
   ]
  },
  {
   "cell_type": "code",
   "execution_count": 112,
   "id": "ec4a0a58",
   "metadata": {},
   "outputs": [
    {
     "name": "stdout",
     "output_type": "stream",
     "text": [
      "Arrays 'a' and 'b' have the same size.\n"
     ]
    }
   ],
   "source": [
    "\n",
    "a = np.random.random((2, 3, 5))\n",
    "\n",
    "b = np.ones((5, 2, 3))\n",
    "\n",
    "if a.size == b.size:\n",
    "    print(\"Arrays 'a' and 'b' have the same size.\")\n",
    "else:\n",
    "    print(\"Arrays 'a' and 'b' do not have the same size.\")"
   ]
  },
  {
   "cell_type": "code",
   "execution_count": 113,
   "id": "775de3e1",
   "metadata": {},
   "outputs": [
    {
     "name": "stdout",
     "output_type": "stream",
     "text": [
      "Arrays 'a' and 'b' do not have the same size.\n"
     ]
    }
   ],
   "source": [
    "\n",
    "a = np.random.random((2, 3, 5))\n",
    "\n",
    "b = np.ones((5, 2, 3))\n",
    "\n",
    "if a.shape == b.shape:\n",
    "    print(\"Arrays 'a' and 'b' have the same size.\")\n",
    "else:\n",
    "    print(\"Arrays 'a' and 'b' do not have the same size.\")"
   ]
  },
  {
   "cell_type": "markdown",
   "id": "819fa9c7",
   "metadata": {},
   "source": [
    "#8. Are you able to add a and b? Why or why not?"
   ]
  },
  {
   "cell_type": "raw",
   "id": "e46c7cb4",
   "metadata": {},
   "source": [
    "# En NumPy, solo se pueden realizar operaciones elemento a elemento (como suma, resta, multiplicación, etc.) en matrices. \n",
    "#Las matrices \"a\" y \"b\" son diferentes:\"a\" es una matriz tridimensional con forma (2, 3, 5), y \"b\" es una matriz tridimensional con forma (5, 2, 3). No son compatibles para operaciones elemento a elemento, no se pueden sumar directamente."
   ]
  },
  {
   "cell_type": "markdown",
   "id": "3b0dbb2c",
   "metadata": {},
   "source": [
    "#9. Transpose b so that it has the same structure of a (i.e. become a 2x3x5 array). Assign the transposed array to varialbe \"c\"."
   ]
  },
  {
   "cell_type": "code",
   "execution_count": 114,
   "id": "9ce6293b",
   "metadata": {},
   "outputs": [
    {
     "name": "stdout",
     "output_type": "stream",
     "text": [
      "[[[1. 1. 1. 1. 1.]\n",
      "  [1. 1. 1. 1. 1.]\n",
      "  [1. 1. 1. 1. 1.]]\n",
      "\n",
      " [[1. 1. 1. 1. 1.]\n",
      "  [1. 1. 1. 1. 1.]\n",
      "  [1. 1. 1. 1. 1.]]]\n"
     ]
    }
   ],
   "source": [
    "c = np.transpose(b,(1,2,0))\n",
    "print(c)"
   ]
  },
  {
   "cell_type": "markdown",
   "id": "a03ceb04",
   "metadata": {},
   "source": [
    "#10. Try to add a and c. Now it should work. Assign the sum to varialbe \"d\". But why does it work now?"
   ]
  },
  {
   "cell_type": "code",
   "execution_count": 115,
   "id": "035d9514",
   "metadata": {},
   "outputs": [
    {
     "data": {
      "text/plain": [
       "array([[[1.11020846, 1.47331585, 1.76997304, 1.03925686, 1.2131871 ],\n",
       "        [1.03224292, 1.11676302, 1.10623307, 1.98137287, 1.67601116],\n",
       "        [1.01701779, 1.73777258, 1.90392873, 1.80898349, 1.11141536]],\n",
       "\n",
       "       [[1.59211324, 1.97018936, 1.12910177, 1.29515052, 1.71266714],\n",
       "        [1.75119378, 1.80203319, 1.58854164, 1.70369114, 1.61085821],\n",
       "        [1.92919861, 1.01558343, 1.11564075, 1.33505908, 1.70180552]]])"
      ]
     },
     "execution_count": 115,
     "metadata": {},
     "output_type": "execute_result"
    }
   ],
   "source": [
    "d = a + c\n",
    "\n",
    "d"
   ]
  },
  {
   "cell_type": "markdown",
   "id": "dcee233c",
   "metadata": {},
   "source": [
    "#11. Print a and d. Notice the difference and relation of the two array in terms of the values? Explain."
   ]
  },
  {
   "cell_type": "code",
   "execution_count": 116,
   "id": "36a2f59c",
   "metadata": {},
   "outputs": [
    {
     "name": "stdout",
     "output_type": "stream",
     "text": [
      "[[[0.11020846 0.47331585 0.76997304 0.03925686 0.2131871 ]\n",
      "  [0.03224292 0.11676302 0.10623307 0.98137287 0.67601116]\n",
      "  [0.01701779 0.73777258 0.90392873 0.80898349 0.11141536]]\n",
      "\n",
      " [[0.59211324 0.97018936 0.12910177 0.29515052 0.71266714]\n",
      "  [0.75119378 0.80203319 0.58854164 0.70369114 0.61085821]\n",
      "  [0.92919861 0.01558343 0.11564075 0.33505908 0.70180552]]]\n",
      "[[[1.11020846 1.47331585 1.76997304 1.03925686 1.2131871 ]\n",
      "  [1.03224292 1.11676302 1.10623307 1.98137287 1.67601116]\n",
      "  [1.01701779 1.73777258 1.90392873 1.80898349 1.11141536]]\n",
      "\n",
      " [[1.59211324 1.97018936 1.12910177 1.29515052 1.71266714]\n",
      "  [1.75119378 1.80203319 1.58854164 1.70369114 1.61085821]\n",
      "  [1.92919861 1.01558343 1.11564075 1.33505908 1.70180552]]]\n"
     ]
    }
   ],
   "source": [
    "print(a)\n",
    "\n",
    "print(d)"
   ]
  },
  {
   "cell_type": "raw",
   "id": "d101b491",
   "metadata": {},
   "source": [
    "# La relación entre \"a\" y \"d\" es que \"d\" es el resultado de sumar los valores de \"a\" y \"c\". Los valores en \"d\" serán los valores de \"a\" (aleatorios entre 0 y 1), y a los que se les suma 1."
   ]
  },
  {
   "cell_type": "markdown",
   "id": "757c6e01",
   "metadata": {},
   "source": [
    "#12. Multiply a and c. Assign the result to e."
   ]
  },
  {
   "cell_type": "code",
   "execution_count": 117,
   "id": "d8939cdf",
   "metadata": {},
   "outputs": [
    {
     "data": {
      "text/plain": [
       "array([[[0.11020846, 0.47331585, 0.76997304, 0.03925686, 0.2131871 ],\n",
       "        [0.03224292, 0.11676302, 0.10623307, 0.98137287, 0.67601116],\n",
       "        [0.01701779, 0.73777258, 0.90392873, 0.80898349, 0.11141536]],\n",
       "\n",
       "       [[0.59211324, 0.97018936, 0.12910177, 0.29515052, 0.71266714],\n",
       "        [0.75119378, 0.80203319, 0.58854164, 0.70369114, 0.61085821],\n",
       "        [0.92919861, 0.01558343, 0.11564075, 0.33505908, 0.70180552]]])"
      ]
     },
     "execution_count": 117,
     "metadata": {},
     "output_type": "execute_result"
    }
   ],
   "source": [
    "e = a * c\n",
    "\n",
    "e"
   ]
  },
  {
   "cell_type": "markdown",
   "id": "aee7cf67",
   "metadata": {},
   "source": [
    "#13. Does e equal to a? Why or why not?"
   ]
  },
  {
   "cell_type": "raw",
   "id": "eeb47f1a",
   "metadata": {},
   "source": [
    "# si es igual, ya que 1 es el elemento neutro de la multiplicacion. Todo lo multiplicado por 1 es igual a sí mismo. "
   ]
  },
  {
   "cell_type": "markdown",
   "id": "ff9574e8",
   "metadata": {},
   "source": [
    "#14. Identify the max, min, and mean values in d. Assign those values to variables \"d_max\",\"d_min\", and \"d_mean\""
   ]
  },
  {
   "cell_type": "code",
   "execution_count": 118,
   "id": "1d2ebe71",
   "metadata": {},
   "outputs": [],
   "source": [
    "d_max = d.max()\n",
    "\n",
    "d_min = d.min()\n",
    "\n",
    "d_mean = d.mean()"
   ]
  },
  {
   "cell_type": "markdown",
   "id": "029d6f7f",
   "metadata": {},
   "source": [
    "#15. Now we want to label the values in d. First create an empty array \"f\" with the same shape (i.e. 2x3x5) as d using `np.empty`.\n"
   ]
  },
  {
   "cell_type": "code",
   "execution_count": 119,
   "id": "03447885",
   "metadata": {},
   "outputs": [
    {
     "data": {
      "text/plain": [
       "(2, 3, 5)"
      ]
     },
     "execution_count": 119,
     "metadata": {},
     "output_type": "execute_result"
    }
   ],
   "source": [
    "d.shape"
   ]
  },
  {
   "cell_type": "code",
   "execution_count": 120,
   "id": "bd42caed",
   "metadata": {},
   "outputs": [],
   "source": [
    "f = np.empty([2, 3, 5])"
   ]
  },
  {
   "cell_type": "code",
   "execution_count": 121,
   "id": "6eb42425",
   "metadata": {},
   "outputs": [
    {
     "data": {
      "text/plain": [
       "(2, 3, 5)"
      ]
     },
     "execution_count": 121,
     "metadata": {},
     "output_type": "execute_result"
    }
   ],
   "source": [
    "f = np.empty(d.shape)\n",
    "f.shape"
   ]
  },
  {
   "cell_type": "markdown",
   "id": "40ed9fd0",
   "metadata": {},
   "source": [
    "#16. Populate the values in f. \n",
    "For each value in d, if it's larger than d_min but smaller than d_mean, assign 25 to the corresponding value in f.\n",
    "\n",
    "If a value in d is larger than d_mean but smaller than d_max, assign 75 to the corresponding value in f.\n",
    "\n",
    "If a value equals to d_mean, assign 50 to the corresponding value in f.\n",
    "Assign 0 to the corresponding value(s) in f for d_min in d.\n",
    "\n",
    "Assign 100 to the corresponding value(s) in f for d_max in d.\n",
    "\n",
    "In the end, f should have only the following values: 0, 25, 50, 75, and 100.\n",
    "\n",
    "Note: you don't have to use Numpy in this question."
   ]
  },
  {
   "cell_type": "code",
   "execution_count": 123,
   "id": "dd5bc254",
   "metadata": {},
   "outputs": [
    {
     "data": {
      "text/plain": [
       "array([[[ 25.,  25.,  75.,  25.,  25.],\n",
       "        [ 25.,  25.,  25., 100.,  75.],\n",
       "        [ 25.,  75.,  75.,  75.,  25.]],\n",
       "\n",
       "       [[ 75.,  75.,  25.,  25.,  75.],\n",
       "        [ 75.,  75.,  75.,  75.,  75.],\n",
       "        [ 75.,   0.,  25.,  25.,  75.]]])"
      ]
     },
     "execution_count": 123,
     "metadata": {},
     "output_type": "execute_result"
    }
   ],
   "source": [
    "for i in range(d.shape[0]):\n",
    "    for j in range(d.shape[1]):\n",
    "        for k in range(d.shape[2]):\n",
    "            \n",
    "            valor_f = d[i, j, k]\n",
    "            \n",
    "            if d_min < d [i, j, k] < d_mean:\n",
    "                f[i, j, k] = 25\n",
    "            elif d_mean < d [i, j, k] < d_max:\n",
    "                f[i, j, k] = 75\n",
    "            elif valor_f == d_mean:\n",
    "                f[i, j, k] = 50\n",
    "            elif d [i, j, k] == d_min:\n",
    "                f[i, j, k] = 0\n",
    "            elif d [i, j, k] == d_max:\n",
    "                f[i, j, k] = 100\n",
    "\n",
    "f"
   ]
  },
  {
   "cell_type": "code",
   "execution_count": 124,
   "id": "c4cdb410",
   "metadata": {},
   "outputs": [
    {
     "name": "stdout",
     "output_type": "stream",
     "text": [
      "[[[1.11020846 1.47331585 1.76997304 1.03925686 1.2131871 ]\n",
      "  [1.03224292 1.11676302 1.10623307 1.98137287 1.67601116]\n",
      "  [1.01701779 1.73777258 1.90392873 1.80898349 1.11141536]]\n",
      "\n",
      " [[1.59211324 1.97018936 1.12910177 1.29515052 1.71266714]\n",
      "  [1.75119378 1.80203319 1.58854164 1.70369114 1.61085821]\n",
      "  [1.92919861 1.01558343 1.11564075 1.33505908 1.70180552]]]\n"
     ]
    }
   ],
   "source": [
    "print (d)"
   ]
  },
  {
   "cell_type": "code",
   "execution_count": 125,
   "id": "ef3be2e4",
   "metadata": {},
   "outputs": [
    {
     "name": "stdout",
     "output_type": "stream",
     "text": [
      "[[[ 25.  25.  75.  25.  25.]\n",
      "  [ 25.  25.  25. 100.  75.]\n",
      "  [ 25.  75.  75.  75.  25.]]\n",
      "\n",
      " [[ 75.  75.  25.  25.  75.]\n",
      "  [ 75.  75.  75.  75.  75.]\n",
      "  [ 75.   0.  25.  25.  75.]]]\n"
     ]
    }
   ],
   "source": [
    "print(f)"
   ]
  },
  {
   "cell_type": "code",
   "execution_count": null,
   "id": "b3069f0a",
   "metadata": {},
   "outputs": [],
   "source": []
  }
 ],
 "metadata": {
  "kernelspec": {
   "display_name": "clase",
   "language": "python",
   "name": "clase"
  },
  "language_info": {
   "codemirror_mode": {
    "name": "ipython",
    "version": 3
   },
   "file_extension": ".py",
   "mimetype": "text/x-python",
   "name": "python",
   "nbconvert_exporter": "python",
   "pygments_lexer": "ipython3",
   "version": "3.10.13"
  }
 },
 "nbformat": 4,
 "nbformat_minor": 5
}
