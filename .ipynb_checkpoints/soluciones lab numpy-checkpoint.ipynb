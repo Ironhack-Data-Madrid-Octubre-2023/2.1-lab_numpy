{
 "cells": [
  {
   "cell_type": "code",
   "execution_count": 1,
   "id": "200f61a3",
   "metadata": {},
   "outputs": [],
   "source": [
    "#1. Import the NUMPY package under the name np.\n",
    "import numpy as np"
   ]
  },
  {
   "cell_type": "code",
   "execution_count": 2,
   "id": "807971b8",
   "metadata": {},
   "outputs": [
    {
     "name": "stdout",
     "output_type": "stream",
     "text": [
      "NumPy Version: 1.24.3\n"
     ]
    }
   ],
   "source": [
    "#2. Print the NUMPY version and the configuration.\n",
    "print(\"NumPy Version:\", np.__version__)"
   ]
  },
  {
   "cell_type": "code",
   "execution_count": 4,
   "id": "62f157e4",
   "metadata": {},
   "outputs": [
    {
     "name": "stdout",
     "output_type": "stream",
     "text": [
      "NumPy Configuration:\n",
      "blas_armpl_info:\n",
      "  NOT AVAILABLE\n",
      "blas_mkl_info:\n",
      "  NOT AVAILABLE\n",
      "blis_info:\n",
      "  NOT AVAILABLE\n",
      "openblas_info:\n",
      "    libraries = ['openblas', 'openblas']\n",
      "    library_dirs = ['/Users/yaninafontana/anaconda3/lib']\n",
      "    language = c\n",
      "    define_macros = [('HAVE_CBLAS', None)]\n",
      "blas_opt_info:\n",
      "    libraries = ['openblas', 'openblas']\n",
      "    library_dirs = ['/Users/yaninafontana/anaconda3/lib']\n",
      "    language = c\n",
      "    define_macros = [('HAVE_CBLAS', None)]\n",
      "lapack_armpl_info:\n",
      "  NOT AVAILABLE\n",
      "lapack_mkl_info:\n",
      "  NOT AVAILABLE\n",
      "openblas_lapack_info:\n",
      "    libraries = ['openblas', 'openblas']\n",
      "    library_dirs = ['/Users/yaninafontana/anaconda3/lib']\n",
      "    language = c\n",
      "    define_macros = [('HAVE_CBLAS', None)]\n",
      "lapack_opt_info:\n",
      "    libraries = ['openblas', 'openblas']\n",
      "    library_dirs = ['/Users/yaninafontana/anaconda3/lib']\n",
      "    language = c\n",
      "    define_macros = [('HAVE_CBLAS', None)]\n",
      "Supported SIMD extensions in this NumPy install:\n",
      "    baseline = NEON,NEON_FP16,NEON_VFPV4,ASIMD\n",
      "    found = ASIMDHP,ASIMDDP\n",
      "    not found = ASIMDFHM\n",
      "None\n"
     ]
    }
   ],
   "source": [
    "print(\"NumPy Configuration:\")\n",
    "print(np.show_config())"
   ]
  },
  {
   "cell_type": "code",
   "execution_count": 57,
   "id": "8fa0a573",
   "metadata": {},
   "outputs": [],
   "source": [
    "#3. Generate a 2x3x5 3-dimensional array with random values. Assign the array to variable \"a\"\n",
    "# Challenge: there are at least three easy ways that use numpy to generate random arrays. How many ways can you find?\n",
    "a = np.random.random((2, 3, 5))"
   ]
  },
  {
   "cell_type": "code",
   "execution_count": 58,
   "id": "bfe0a889",
   "metadata": {},
   "outputs": [
    {
     "data": {
      "text/plain": [
       "array([[[0.38762927, 0.08082118, 0.67026023, 0.53695278, 0.60695801],\n",
       "        [0.5024475 , 0.26538667, 0.28275931, 0.17678929, 0.07636075],\n",
       "        [0.55228169, 0.46914096, 0.05308446, 0.16980104, 0.442888  ]],\n",
       "\n",
       "       [[0.20077823, 0.76413664, 0.22832975, 0.03879249, 0.74896712],\n",
       "        [0.04516452, 0.05401988, 0.79616755, 0.1598367 , 0.63887974],\n",
       "        [0.22273537, 0.05686438, 0.38877344, 0.15708252, 0.69878296]]])"
      ]
     },
     "execution_count": 58,
     "metadata": {},
     "output_type": "execute_result"
    }
   ],
   "source": [
    "#4. Print a.\n",
    "a"
   ]
  },
  {
   "cell_type": "code",
   "execution_count": 59,
   "id": "c6144d31",
   "metadata": {},
   "outputs": [],
   "source": [
    "#5. Create a 5x2x3 3-dimensional array with all values equaling 1.\n",
    "#Assign the array to variable \"b\"\n",
    "b = np.ones((5, 2, 3))"
   ]
  },
  {
   "cell_type": "code",
   "execution_count": 60,
   "id": "ec5cfe34",
   "metadata": {},
   "outputs": [
    {
     "data": {
      "text/plain": [
       "array([[[1., 1., 1.],\n",
       "        [1., 1., 1.]],\n",
       "\n",
       "       [[1., 1., 1.],\n",
       "        [1., 1., 1.]],\n",
       "\n",
       "       [[1., 1., 1.],\n",
       "        [1., 1., 1.]],\n",
       "\n",
       "       [[1., 1., 1.],\n",
       "        [1., 1., 1.]],\n",
       "\n",
       "       [[1., 1., 1.],\n",
       "        [1., 1., 1.]]])"
      ]
     },
     "execution_count": 60,
     "metadata": {},
     "output_type": "execute_result"
    }
   ],
   "source": [
    "#6. Print b.\n",
    "b"
   ]
  },
  {
   "cell_type": "code",
   "execution_count": 61,
   "id": "d98fbb46",
   "metadata": {},
   "outputs": [
    {
     "data": {
      "text/plain": [
       "True"
      ]
     },
     "execution_count": 61,
     "metadata": {},
     "output_type": "execute_result"
    }
   ],
   "source": [
    "#7. Do a and b have the same size? How do you prove that in Python code? si\n",
    "a.size == b.size"
   ]
  },
  {
   "cell_type": "code",
   "execution_count": 62,
   "id": "0a65b7cb",
   "metadata": {},
   "outputs": [
    {
     "ename": "ValueError",
     "evalue": "operands could not be broadcast together with shapes (2,3,5) (5,2,3) ",
     "output_type": "error",
     "traceback": [
      "\u001b[0;31m---------------------------------------------------------------------------\u001b[0m",
      "\u001b[0;31mValueError\u001b[0m                                Traceback (most recent call last)",
      "Cell \u001b[0;32mIn[62], line 4\u001b[0m\n\u001b[1;32m      1\u001b[0m \u001b[38;5;66;03m#8. Are you able to add a and b? Why or why not?, \u001b[39;00m\n\u001b[1;32m      2\u001b[0m \u001b[38;5;66;03m#no, porque para sumar deben tener dimensiones iguales ya que se suma elemento a elemento\u001b[39;00m\n\u001b[0;32m----> 4\u001b[0m a \u001b[38;5;241m+\u001b[39m b\n",
      "\u001b[0;31mValueError\u001b[0m: operands could not be broadcast together with shapes (2,3,5) (5,2,3) "
     ]
    }
   ],
   "source": [
    "#8. Are you able to add a and b? Why or why not?, \n",
    "#no, porque para sumar deben tener dimensiones iguales ya que se suma elemento a elemento\n",
    "\n",
    "a + b"
   ]
  },
  {
   "cell_type": "code",
   "execution_count": 63,
   "id": "c1867636",
   "metadata": {},
   "outputs": [],
   "source": [
    "#9. Transpose b so that it has the same structure of a (i.e. become a 2x3x5 array). \n",
    "#Assign the transposed array to varialbe \"c\".\n",
    "c = b.transpose(1, 2, 0)"
   ]
  },
  {
   "cell_type": "code",
   "execution_count": 64,
   "id": "42c6020b",
   "metadata": {},
   "outputs": [
    {
     "data": {
      "text/plain": [
       "array([[[1., 1., 1., 1., 1.],\n",
       "        [1., 1., 1., 1., 1.],\n",
       "        [1., 1., 1., 1., 1.]],\n",
       "\n",
       "       [[1., 1., 1., 1., 1.],\n",
       "        [1., 1., 1., 1., 1.],\n",
       "        [1., 1., 1., 1., 1.]]])"
      ]
     },
     "execution_count": 64,
     "metadata": {},
     "output_type": "execute_result"
    }
   ],
   "source": [
    "c"
   ]
  },
  {
   "cell_type": "code",
   "execution_count": 65,
   "id": "54cddc18",
   "metadata": {},
   "outputs": [
    {
     "data": {
      "text/plain": [
       "True"
      ]
     },
     "execution_count": 65,
     "metadata": {},
     "output_type": "execute_result"
    }
   ],
   "source": [
    "a.shape == c.shape"
   ]
  },
  {
   "cell_type": "code",
   "execution_count": 66,
   "id": "9a31d29c",
   "metadata": {},
   "outputs": [],
   "source": [
    "#10. Try to add a and c. Now it should work. Assign the sum to varialbe \"d\". But why does it work now?\n",
    "#Ahora si, porque tienen las mismas dimensiones\n",
    "d = a + c"
   ]
  },
  {
   "cell_type": "code",
   "execution_count": 67,
   "id": "59672b33",
   "metadata": {},
   "outputs": [
    {
     "data": {
      "text/plain": [
       "array([[[1.38762927, 1.08082118, 1.67026023, 1.53695278, 1.60695801],\n",
       "        [1.5024475 , 1.26538667, 1.28275931, 1.17678929, 1.07636075],\n",
       "        [1.55228169, 1.46914096, 1.05308446, 1.16980104, 1.442888  ]],\n",
       "\n",
       "       [[1.20077823, 1.76413664, 1.22832975, 1.03879249, 1.74896712],\n",
       "        [1.04516452, 1.05401988, 1.79616755, 1.1598367 , 1.63887974],\n",
       "        [1.22273537, 1.05686438, 1.38877344, 1.15708252, 1.69878296]]])"
      ]
     },
     "execution_count": 67,
     "metadata": {},
     "output_type": "execute_result"
    }
   ],
   "source": [
    "#11. Print a and d. Notice the difference and relation of the two array in terms of the values? Explain. \n",
    "# A cada valor de a se le sumó 1, que eran los valores de c, es decir de b.T\n",
    "d"
   ]
  },
  {
   "cell_type": "code",
   "execution_count": 68,
   "id": "e503aeb1",
   "metadata": {},
   "outputs": [],
   "source": [
    "#12. Multiply a and c. Assign the result to e.\n",
    "e = a * c"
   ]
  },
  {
   "cell_type": "code",
   "execution_count": 69,
   "id": "2118efa9",
   "metadata": {},
   "outputs": [
    {
     "data": {
      "text/plain": [
       "array([[[0.38762927, 0.08082118, 0.67026023, 0.53695278, 0.60695801],\n",
       "        [0.5024475 , 0.26538667, 0.28275931, 0.17678929, 0.07636075],\n",
       "        [0.55228169, 0.46914096, 0.05308446, 0.16980104, 0.442888  ]],\n",
       "\n",
       "       [[0.20077823, 0.76413664, 0.22832975, 0.03879249, 0.74896712],\n",
       "        [0.04516452, 0.05401988, 0.79616755, 0.1598367 , 0.63887974],\n",
       "        [0.22273537, 0.05686438, 0.38877344, 0.15708252, 0.69878296]]])"
      ]
     },
     "execution_count": 69,
     "metadata": {},
     "output_type": "execute_result"
    }
   ],
   "source": [
    "e"
   ]
  },
  {
   "cell_type": "code",
   "execution_count": 70,
   "id": "aef854ed",
   "metadata": {},
   "outputs": [
    {
     "data": {
      "text/plain": [
       "array([[[ True,  True,  True,  True,  True],\n",
       "        [ True,  True,  True,  True,  True],\n",
       "        [ True,  True,  True,  True,  True]],\n",
       "\n",
       "       [[ True,  True,  True,  True,  True],\n",
       "        [ True,  True,  True,  True,  True],\n",
       "        [ True,  True,  True,  True,  True]]])"
      ]
     },
     "execution_count": 70,
     "metadata": {},
     "output_type": "execute_result"
    }
   ],
   "source": [
    "#13. Does e equal to a? Why or why not? si, porque 1 es el valor neutro en la multiplicación. \n",
    "#multiplicar un nro por 1, es igual a ese mismo número.\n",
    "a == e"
   ]
  },
  {
   "cell_type": "code",
   "execution_count": 71,
   "id": "eede1273",
   "metadata": {},
   "outputs": [
    {
     "data": {
      "text/plain": [
       "1.7961675477970274"
      ]
     },
     "execution_count": 71,
     "metadata": {},
     "output_type": "execute_result"
    }
   ],
   "source": [
    "#14. Identify the max, min, and mean values in d. Assign those values to variables \"d_max\", \"d_min\", and \"d_mean\"\n",
    "d_max = np.max(d)\n",
    "d_max"
   ]
  },
  {
   "cell_type": "code",
   "execution_count": 72,
   "id": "1a9d52e5",
   "metadata": {},
   "outputs": [
    {
     "data": {
      "text/plain": [
       "1.0387924927150944"
      ]
     },
     "execution_count": 72,
     "metadata": {},
     "output_type": "execute_result"
    }
   ],
   "source": [
    "d_min = np.min(d)\n",
    "d_min"
   ]
  },
  {
   "cell_type": "code",
   "execution_count": 73,
   "id": "9bb464b4",
   "metadata": {},
   "outputs": [
    {
     "data": {
      "text/plain": [
       "1.349095746679343"
      ]
     },
     "execution_count": 73,
     "metadata": {},
     "output_type": "execute_result"
    }
   ],
   "source": [
    "d_mean = np.mean(d)\n",
    "d_mean"
   ]
  },
  {
   "cell_type": "code",
   "execution_count": 74,
   "id": "36b441bf",
   "metadata": {},
   "outputs": [],
   "source": [
    "#15. Now we want to label the values in d. \n",
    "#First create an empty array \"f\" with the same shape (i.e. 2x3x5) as d using `np.empty`.\n",
    "f = np.empty"
   ]
  },
  {
   "cell_type": "code",
   "execution_count": 75,
   "id": "ea86a8b0",
   "metadata": {},
   "outputs": [
    {
     "data": {
      "text/plain": [
       "<function numpy.empty>"
      ]
     },
     "execution_count": 75,
     "metadata": {},
     "output_type": "execute_result"
    }
   ],
   "source": [
    "f"
   ]
  },
  {
   "cell_type": "code",
   "execution_count": 85,
   "id": "4d54dda3",
   "metadata": {},
   "outputs": [],
   "source": [
    "#16. Populate the values in f. \n",
    "#For each value in d, if it's larger than d_min but smaller than d_mean, assign 25 to the corresponding value in f.\n",
    "#If a value in d is larger than d_mean but smaller than d_max, assign 75 to the corresponding value in f.\n",
    "#If a value equals to d_mean, assign 50 to the corresponding value in f.\n",
    "#Assign 0 to the corresponding value(s) in f for d_min in d.\n",
    "#Assign 100 to the corresponding value(s) in f for d_max in d.\n",
    "#In the end, f should have only the following values: 0, 25, 50, 75, and 100.\n",
    "#Note: you don't have to use Numpy in this question.\n",
    "#Valores de f\n",
    "# Si element = d_min ==> 0\n",
    "# Si d_min < element < d_mean ==> 25\n",
    "# si element = d_mean ==> 50\n",
    "# Si d_mean < element < d_max ==> 75\n",
    "# Si element = d_max ==> 100\n",
    "\n",
    "f = np.empty\n",
    "f = np.where((d > d_min) & (d < d_mean), 25, \n",
    "             np.where((d > d_mean) & (d < d_max), 75, \n",
    "                      np.where(d == d_min, 0, \n",
    "                               np.where(d == d_mean, 50, \n",
    "                                        100))))\n"
   ]
  },
  {
   "cell_type": "code",
   "execution_count": 86,
   "id": "2f0974be",
   "metadata": {},
   "outputs": [],
   "source": [
    "#17. Print d and f. Do you have your expected f?"
   ]
  },
  {
   "cell_type": "code",
   "execution_count": 87,
   "id": "a6ec4287",
   "metadata": {},
   "outputs": [
    {
     "data": {
      "text/plain": [
       "array([[[1.38762927, 1.08082118, 1.67026023, 1.53695278, 1.60695801],\n",
       "        [1.5024475 , 1.26538667, 1.28275931, 1.17678929, 1.07636075],\n",
       "        [1.55228169, 1.46914096, 1.05308446, 1.16980104, 1.442888  ]],\n",
       "\n",
       "       [[1.20077823, 1.76413664, 1.22832975, 1.03879249, 1.74896712],\n",
       "        [1.04516452, 1.05401988, 1.79616755, 1.1598367 , 1.63887974],\n",
       "        [1.22273537, 1.05686438, 1.38877344, 1.15708252, 1.69878296]]])"
      ]
     },
     "execution_count": 87,
     "metadata": {},
     "output_type": "execute_result"
    }
   ],
   "source": [
    "d"
   ]
  },
  {
   "cell_type": "code",
   "execution_count": 88,
   "id": "1d212c6e",
   "metadata": {},
   "outputs": [
    {
     "data": {
      "text/plain": [
       "array([[[ 75,  25,  75,  75,  75],\n",
       "        [ 75,  25,  25,  25,  25],\n",
       "        [ 75,  75,  25,  25,  75]],\n",
       "\n",
       "       [[ 25,  75,  25,   0,  75],\n",
       "        [ 25,  25, 100,  25,  75],\n",
       "        [ 25,  25,  75,  25,  75]]])"
      ]
     },
     "execution_count": 88,
     "metadata": {},
     "output_type": "execute_result"
    }
   ],
   "source": [
    "f"
   ]
  },
  {
   "cell_type": "code",
   "execution_count": 89,
   "id": "2f830354",
   "metadata": {},
   "outputs": [],
   "source": [
    "#18. Bonus question: instead of using numbers (i.e. 0, 25, 50, 75, and 100), how to use string values \n",
    "#(\"A\", \"B\", \"C\", \"D\", and \"E\") to label the array elements? "
   ]
  },
  {
   "cell_type": "code",
   "execution_count": 93,
   "id": "a5400b96",
   "metadata": {},
   "outputs": [
    {
     "name": "stdout",
     "output_type": "stream",
     "text": [
      "[[['D' 'B' 'D' 'D' 'D']\n",
      "  ['D' 'B' 'B' 'B' 'B']\n",
      "  ['D' 'D' 'B' 'B' 'D']]\n",
      "\n",
      " [['B' 'D' 'B' 'A' 'D']\n",
      "  ['B' 'B' 'E' 'B' 'D']\n",
      "  ['B' 'B' 'D' 'B' 'D']]]\n"
     ]
    }
   ],
   "source": [
    "g = np.where((d > d_min) & (d < d_mean), 'B', \n",
    "               np.where((d > d_mean) & (d < d_max), 'D', \n",
    "                        np.where(d == d_min, 'A', \n",
    "                                 np.where(d == d_mean, 'C', \n",
    "                                          'E'))))\n",
    "print(g)"
   ]
  },
  {
   "cell_type": "code",
   "execution_count": null,
   "id": "62988e89",
   "metadata": {},
   "outputs": [],
   "source": []
  },
  {
   "cell_type": "code",
   "execution_count": null,
   "id": "10fa6231",
   "metadata": {},
   "outputs": [],
   "source": []
  },
  {
   "cell_type": "code",
   "execution_count": null,
   "id": "6b3eea3c",
   "metadata": {},
   "outputs": [],
   "source": []
  }
 ],
 "metadata": {
  "kernelspec": {
   "display_name": "Python 3 (ipykernel)",
   "language": "python",
   "name": "python3"
  },
  "language_info": {
   "codemirror_mode": {
    "name": "ipython",
    "version": 3
   },
   "file_extension": ".py",
   "mimetype": "text/x-python",
   "name": "python",
   "nbconvert_exporter": "python",
   "pygments_lexer": "ipython3",
   "version": "3.11.4"
  }
 },
 "nbformat": 4,
 "nbformat_minor": 5
}
