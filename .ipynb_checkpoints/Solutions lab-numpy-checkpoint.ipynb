{
 "cells": [
  {
   "cell_type": "markdown",
   "id": "28966e9c",
   "metadata": {},
   "source": [
    "## 1. Import the NUMPY package under the name np."
   ]
  },
  {
   "cell_type": "code",
   "execution_count": 40,
   "id": "90320497",
   "metadata": {},
   "outputs": [],
   "source": [
    "import numpy as np"
   ]
  },
  {
   "cell_type": "markdown",
   "id": "f91589d4",
   "metadata": {},
   "source": [
    "## 2. Print the NUMPY version and the configuration."
   ]
  },
  {
   "cell_type": "code",
   "execution_count": 41,
   "id": "906ff1b4",
   "metadata": {},
   "outputs": [
    {
     "name": "stdout",
     "output_type": "stream",
     "text": [
      "Numpy version 1.24.3\n"
     ]
    }
   ],
   "source": [
    "print('Numpy version', np.__version__)"
   ]
  },
  {
   "cell_type": "markdown",
   "id": "dde91413",
   "metadata": {},
   "source": [
    "# 3. Generate a 2x3x5 3-dimensional array with random values. Assign the array to variable \"a\"\n",
    "# Challenge: there are at least three easy ways that use numpy to generate random arrays. How many ways can you find?\n"
   ]
  },
  {
   "cell_type": "code",
   "execution_count": 42,
   "id": "7100be4d",
   "metadata": {},
   "outputs": [],
   "source": [
    "a = np.random.random((2, 3, 5))  # Primera manera\n",
    "\n",
    "a = np.empty((2, 3 ,5))    # Segunda manera\n",
    "for i in range(2):\n",
    "    for x in range(3):\n",
    "        for y in range(5):\n",
    "            a[i, x, y] = np.random.rand()\n",
    "\n",
    "            \n",
    "a = np.random.random(2 * 3 * 5).reshape(2, 3, 5)   # Tercera manera"
   ]
  },
  {
   "cell_type": "markdown",
   "id": "64aecb9c",
   "metadata": {},
   "source": [
    "\n",
    "# 4. Print a."
   ]
  },
  {
   "cell_type": "code",
   "execution_count": 43,
   "id": "56b95089",
   "metadata": {},
   "outputs": [
    {
     "name": "stdout",
     "output_type": "stream",
     "text": [
      "[[[0.52597791 0.14614439 0.8737319  0.09913521 0.71458622]\n",
      "  [0.8213581  0.67586537 0.22286798 0.80213618 0.68959739]\n",
      "  [0.68398194 0.00317349 0.15542657 0.71427011 0.99044114]]\n",
      "\n",
      " [[0.14860087 0.05576905 0.56568553 0.73491414 0.96264654]\n",
      "  [0.29549473 0.85255839 0.84237199 0.59921822 0.12170155]\n",
      "  [0.55835708 0.53370116 0.87905262 0.054935   0.34959259]]]\n"
     ]
    }
   ],
   "source": [
    "print(a)\n"
   ]
  },
  {
   "cell_type": "markdown",
   "id": "5750da81",
   "metadata": {},
   "source": [
    "\n",
    "# 5. Create a 5x2x3 3-dimensional array with all values equaling 1.\n",
    "# Assign the array to variable \"b\""
   ]
  },
  {
   "cell_type": "code",
   "execution_count": 44,
   "id": "4956798c",
   "metadata": {},
   "outputs": [],
   "source": [
    "b = np.empty((5, 2 ,3))    \n",
    "for i in range(5):\n",
    "    for x in range(2):\n",
    "        for y in range(3):\n",
    "            b [i, x, y] = 1"
   ]
  },
  {
   "cell_type": "markdown",
   "id": "d66a063b",
   "metadata": {},
   "source": [
    "# 6. Print b."
   ]
  },
  {
   "cell_type": "code",
   "execution_count": 45,
   "id": "69b41d3c",
   "metadata": {},
   "outputs": [
    {
     "name": "stdout",
     "output_type": "stream",
     "text": [
      "[[[1. 1. 1.]\n",
      "  [1. 1. 1.]]\n",
      "\n",
      " [[1. 1. 1.]\n",
      "  [1. 1. 1.]]\n",
      "\n",
      " [[1. 1. 1.]\n",
      "  [1. 1. 1.]]\n",
      "\n",
      " [[1. 1. 1.]\n",
      "  [1. 1. 1.]]\n",
      "\n",
      " [[1. 1. 1.]\n",
      "  [1. 1. 1.]]]\n"
     ]
    }
   ],
   "source": [
    "print(b)"
   ]
  },
  {
   "cell_type": "markdown",
   "id": "c435d19f",
   "metadata": {},
   "source": [
    "\n",
    "# 7. Do a and b have the same size? How do you prove that in Python code?\n"
   ]
  },
  {
   "cell_type": "code",
   "execution_count": 46,
   "id": "701fd193",
   "metadata": {},
   "outputs": [
    {
     "data": {
      "text/plain": [
       "True"
      ]
     },
     "execution_count": 46,
     "metadata": {},
     "output_type": "execute_result"
    }
   ],
   "source": [
    "b.size == a.size"
   ]
  },
  {
   "cell_type": "markdown",
   "id": "d65be036",
   "metadata": {},
   "source": [
    "\n",
    "# 8. Are you able to add a and b? Why or why not?"
   ]
  },
  {
   "cell_type": "code",
   "execution_count": 47,
   "id": "f3a6b1d3",
   "metadata": {},
   "outputs": [],
   "source": [
    "# No se pueden sumar porque su shape no es la misma."
   ]
  },
  {
   "cell_type": "markdown",
   "id": "963109b3",
   "metadata": {},
   "source": [
    "# 9. Transpose b so that it has the same structure of a (i.e. become a 2x3x5 array). Assign the transposed array to varialbe \"c\"."
   ]
  },
  {
   "cell_type": "code",
   "execution_count": 60,
   "id": "9d7fc7fc",
   "metadata": {},
   "outputs": [
    {
     "data": {
      "text/plain": [
       "array([[[1., 1., 1., 1., 1.],\n",
       "        [1., 1., 1., 1., 1.],\n",
       "        [1., 1., 1., 1., 1.]],\n",
       "\n",
       "       [[1., 1., 1., 1., 1.],\n",
       "        [1., 1., 1., 1., 1.],\n",
       "        [1., 1., 1., 1., 1.]]])"
      ]
     },
     "execution_count": 60,
     "metadata": {},
     "output_type": "execute_result"
    }
   ],
   "source": [
    "c = b.transpose ((1, 2, 0))\n",
    "c"
   ]
  },
  {
   "cell_type": "markdown",
   "id": "005b3319",
   "metadata": {},
   "source": [
    "# 10. Try to add a and c. Now it should work. Assign the sum to varialbe \"d\". But why does it work now?\n"
   ]
  },
  {
   "cell_type": "code",
   "execution_count": 61,
   "id": "55c54504",
   "metadata": {},
   "outputs": [
    {
     "data": {
      "text/plain": [
       "array([[[1.52597791, 1.14614439, 1.8737319 , 1.09913521, 1.71458622],\n",
       "        [1.8213581 , 1.67586537, 1.22286798, 1.80213618, 1.68959739],\n",
       "        [1.68398194, 1.00317349, 1.15542657, 1.71427011, 1.99044114]],\n",
       "\n",
       "       [[1.14860087, 1.05576905, 1.56568553, 1.73491414, 1.96264654],\n",
       "        [1.29549473, 1.85255839, 1.84237199, 1.59921822, 1.12170155],\n",
       "        [1.55835708, 1.53370116, 1.87905262, 1.054935  , 1.34959259]]])"
      ]
     },
     "execution_count": 61,
     "metadata": {},
     "output_type": "execute_result"
    }
   ],
   "source": [
    "d = a + c\n",
    "d"
   ]
  },
  {
   "cell_type": "markdown",
   "id": "be10dc9d",
   "metadata": {},
   "source": [
    "# 11. Print a and d. Notice the difference and relation of the two array in terms of the values? Explain."
   ]
  },
  {
   "cell_type": "code",
   "execution_count": 62,
   "id": "f1f19e1b",
   "metadata": {},
   "outputs": [
    {
     "name": "stdout",
     "output_type": "stream",
     "text": [
      "[[[0.52597791 0.14614439 0.8737319  0.09913521 0.71458622]\n",
      "  [0.8213581  0.67586537 0.22286798 0.80213618 0.68959739]\n",
      "  [0.68398194 0.00317349 0.15542657 0.71427011 0.99044114]]\n",
      "\n",
      " [[0.14860087 0.05576905 0.56568553 0.73491414 0.96264654]\n",
      "  [0.29549473 0.85255839 0.84237199 0.59921822 0.12170155]\n",
      "  [0.55835708 0.53370116 0.87905262 0.054935   0.34959259]]]\n",
      "[[[1.52597791 1.14614439 1.8737319  1.09913521 1.71458622]\n",
      "  [1.8213581  1.67586537 1.22286798 1.80213618 1.68959739]\n",
      "  [1.68398194 1.00317349 1.15542657 1.71427011 1.99044114]]\n",
      "\n",
      " [[1.14860087 1.05576905 1.56568553 1.73491414 1.96264654]\n",
      "  [1.29549473 1.85255839 1.84237199 1.59921822 1.12170155]\n",
      "  [1.55835708 1.53370116 1.87905262 1.054935   1.34959259]]]\n"
     ]
    }
   ],
   "source": [
    "print(a)\n",
    "print(d)\n",
    "\n",
    "# A la segunda matriz se le incrementa cada elemento en 1"
   ]
  },
  {
   "cell_type": "markdown",
   "id": "2ba25dce",
   "metadata": {},
   "source": [
    "# 12. Multiply a and c. Assign the result to e."
   ]
  },
  {
   "cell_type": "code",
   "execution_count": 63,
   "id": "7729a6b0",
   "metadata": {},
   "outputs": [
    {
     "data": {
      "text/plain": [
       "array([[[0.52597791, 0.14614439, 0.8737319 , 0.09913521, 0.71458622],\n",
       "        [0.8213581 , 0.67586537, 0.22286798, 0.80213618, 0.68959739],\n",
       "        [0.68398194, 0.00317349, 0.15542657, 0.71427011, 0.99044114]],\n",
       "\n",
       "       [[0.14860087, 0.05576905, 0.56568553, 0.73491414, 0.96264654],\n",
       "        [0.29549473, 0.85255839, 0.84237199, 0.59921822, 0.12170155],\n",
       "        [0.55835708, 0.53370116, 0.87905262, 0.054935  , 0.34959259]]])"
      ]
     },
     "execution_count": 63,
     "metadata": {},
     "output_type": "execute_result"
    }
   ],
   "source": [
    "e = a * c\n",
    "e"
   ]
  },
  {
   "cell_type": "markdown",
   "id": "a1478503",
   "metadata": {},
   "source": [
    "# 13. Does e equal to a? Why or why not?"
   ]
  },
  {
   "cell_type": "code",
   "execution_count": 67,
   "id": "0747b75a",
   "metadata": {},
   "outputs": [
    {
     "data": {
      "text/plain": [
       "array([[[ True,  True,  True,  True,  True],\n",
       "        [ True,  True,  True,  True,  True],\n",
       "        [ True,  True,  True,  True,  True]],\n",
       "\n",
       "       [[ True,  True,  True,  True,  True],\n",
       "        [ True,  True,  True,  True,  True],\n",
       "        [ True,  True,  True,  True,  True]]])"
      ]
     },
     "execution_count": 67,
     "metadata": {},
     "output_type": "execute_result"
    }
   ],
   "source": [
    "e == a # Porque se ha multiplicado por 1"
   ]
  },
  {
   "cell_type": "markdown",
   "id": "f03760b8",
   "metadata": {},
   "source": [
    "# 14. Identify the max, min, and mean values in d. Assign those values to variables \"d_max\", \"d_min\", and \"d_mean\""
   ]
  },
  {
   "cell_type": "code",
   "execution_count": 71,
   "id": "ec0d948b",
   "metadata": {},
   "outputs": [
    {
     "data": {
      "text/plain": [
       "1.990441138236939"
      ]
     },
     "execution_count": 71,
     "metadata": {},
     "output_type": "execute_result"
    }
   ],
   "source": [
    "d_max = d.max()\n",
    "d_max"
   ]
  },
  {
   "cell_type": "code",
   "execution_count": 72,
   "id": "f7b65de8",
   "metadata": {},
   "outputs": [
    {
     "data": {
      "text/plain": [
       "1.0031734942865378"
      ]
     },
     "execution_count": 72,
     "metadata": {},
     "output_type": "execute_result"
    }
   ],
   "source": [
    "d_min = d.min()\n",
    "d_min"
   ]
  },
  {
   "cell_type": "code",
   "execution_count": 74,
   "id": "9c3174f1",
   "metadata": {},
   "outputs": [
    {
     "data": {
      "text/plain": [
       "1.522443112393476"
      ]
     },
     "execution_count": 74,
     "metadata": {},
     "output_type": "execute_result"
    }
   ],
   "source": [
    "d_mean = d.mean()\n",
    "d_mean"
   ]
  },
  {
   "cell_type": "markdown",
   "id": "44c255e1",
   "metadata": {},
   "source": [
    "# 15. Now we want to label the values in d. First create an empty array \"f\" with the same shape (i.e. 2x3x5) as d using `np.empty`."
   ]
  },
  {
   "cell_type": "code",
   "execution_count": 77,
   "id": "32b52ab2",
   "metadata": {},
   "outputs": [
    {
     "data": {
      "text/plain": [
       "array([[[0.52597791, 0.14614439, 0.8737319 , 0.09913521, 0.71458622],\n",
       "        [0.8213581 , 0.67586537, 0.22286798, 0.80213618, 0.68959739],\n",
       "        [0.68398194, 0.00317349, 0.15542657, 0.71427011, 0.99044114]],\n",
       "\n",
       "       [[0.14860087, 0.05576905, 0.56568553, 0.73491414, 0.96264654],\n",
       "        [0.29549473, 0.85255839, 0.84237199, 0.59921822, 0.12170155],\n",
       "        [0.55835708, 0.53370116, 0.87905262, 0.054935  , 0.34959259]]])"
      ]
     },
     "execution_count": 77,
     "metadata": {},
     "output_type": "execute_result"
    }
   ],
   "source": [
    "f = np.empty(d.shape)\n",
    "f"
   ]
  },
  {
   "cell_type": "markdown",
   "id": "ae09eea3",
   "metadata": {},
   "source": [
    "\n",
    "# 16. Populate the values in f. For each value in d, if it's larger than d_min but smaller than d_mean, assign 25 to the corresponding value in f.\n",
    "If a value in d is larger than d_mean but smaller than d_max, assign 75 to the corresponding value in f.\n",
    "If a value equals to d_mean, assign 50 to the corresponding value in f.\n",
    "Assign 0 to the corresponding value(s) in f for d_min in d.\n",
    "Assign 100 to the corresponding value(s) in f for d_max in d.\n",
    "In the end, f should have only the following values: 0, 25, 50, 75, and 100.\n",
    "Note: you don't have to use Numpy in this question.\n",
    "\n",
    "\n"
   ]
  },
  {
   "cell_type": "code",
   "execution_count": 80,
   "id": "b06e92ed",
   "metadata": {},
   "outputs": [
    {
     "name": "stdout",
     "output_type": "stream",
     "text": [
      "[[[1.52597791 1.14614439 1.8737319  1.09913521 1.71458622]\n",
      "  [1.8213581  1.67586537 1.22286798 1.80213618 1.68959739]\n",
      "  [1.68398194 1.00317349 1.15542657 1.71427011 1.99044114]]\n",
      "\n",
      " [[1.14860087 1.05576905 1.56568553 1.73491414 1.96264654]\n",
      "  [1.29549473 1.85255839 1.84237199 1.59921822 1.12170155]\n",
      "  [1.55835708 1.53370116 1.87905262 1.054935   1.34959259]]]\n",
      "[[[ 75.  25.  75.  25.  75.]\n",
      "  [ 75.  75.  25.  75.  75.]\n",
      "  [ 75.   0.  25.  75. 100.]]\n",
      "\n",
      " [[ 25.  25.  75.  75.  75.]\n",
      "  [ 25.  75.  75.  75.  25.]\n",
      "  [ 75.  75.  75.  25.  25.]]]\n"
     ]
    }
   ],
   "source": [
    "for i in range(2):\n",
    "    for x in range(3):\n",
    "        for y in range(5):\n",
    "            if d[i][x][y] > d_min and d[i][x][y] < d_mean:\n",
    "                f[i][x][y] = 25\n",
    "            elif d[i][x][y] > d_mean and d[i][x][y] < d_max:\n",
    "                f[i][x][y] = 75\n",
    "            elif d[i][x][y] == d_mean:\n",
    "                f[i][x][y] = 50\n",
    "            elif d[i][x][y] == d_min:\n",
    "                f[i][x][y] = 0\n",
    "            elif d[i][x][y] == d_max:\n",
    "                f[i][x][y] = 100\n",
    "\n",
    "\n",
    "\n",
    "\n"
   ]
  },
  {
   "cell_type": "markdown",
   "id": "91ca892c",
   "metadata": {},
   "source": [
    "# 17. Print d and f. Do you have your expected f?\n",
    "For instance, if your d is:\n",
    "array([[[1.85836099, 1.67064465, 1.62576044, 1.40243961, 1.88454931],\n",
    "        [1.75354326, 1.69403643, 1.36729252, 1.61415071, 1.12104981],\n",
    "        [1.72201435, 1.1862918 , 1.87078449, 1.7726778 , 1.88180042]],\n",
    "\n",
    "       [[1.44747908, 1.31673383, 1.02000951, 1.52218947, 1.97066381],\n",
    "        [1.79129243, 1.74983003, 1.96028037, 1.85166831, 1.65450881],\n",
    "        [1.18068344, 1.9587381 , 1.00656599, 1.93402165, 1.73514584]]])\n",
    "\n",
    "Your f should be:\n",
    "array([[[ 75.,  75.,  75.,  25.,  75.],\n",
    "        [ 75.,  75.,  25.,  25.,  25.],\n",
    "        [ 75.,  25.,  75.,  75.,  75.]],\n",
    "\n",
    "       [[ 25.,  25.,  25.,  25., 100.],\n",
    "        [ 75.,  75.,  75.,  75.,  75.],\n",
    "        [ 25.,  75.,   0.,  75.,  75.]]])\n",
    "\"\"\""
   ]
  },
  {
   "cell_type": "code",
   "execution_count": 81,
   "id": "ffa62191",
   "metadata": {},
   "outputs": [
    {
     "name": "stdout",
     "output_type": "stream",
     "text": [
      "[[[1.52597791 1.14614439 1.8737319  1.09913521 1.71458622]\n",
      "  [1.8213581  1.67586537 1.22286798 1.80213618 1.68959739]\n",
      "  [1.68398194 1.00317349 1.15542657 1.71427011 1.99044114]]\n",
      "\n",
      " [[1.14860087 1.05576905 1.56568553 1.73491414 1.96264654]\n",
      "  [1.29549473 1.85255839 1.84237199 1.59921822 1.12170155]\n",
      "  [1.55835708 1.53370116 1.87905262 1.054935   1.34959259]]]\n",
      "[[[ 75.  25.  75.  25.  75.]\n",
      "  [ 75.  75.  25.  75.  75.]\n",
      "  [ 75.   0.  25.  75. 100.]]\n",
      "\n",
      " [[ 25.  25.  75.  75.  75.]\n",
      "  [ 25.  75.  75.  75.  25.]\n",
      "  [ 75.  75.  75.  25.  25.]]]\n"
     ]
    }
   ],
   "source": [
    "print(d)\n",
    "print(f)"
   ]
  }
 ],
 "metadata": {
  "kernelspec": {
   "display_name": "Python 3 (ipykernel)",
   "language": "python",
   "name": "python3"
  },
  "language_info": {
   "codemirror_mode": {
    "name": "ipython",
    "version": 3
   },
   "file_extension": ".py",
   "mimetype": "text/x-python",
   "name": "python",
   "nbconvert_exporter": "python",
   "pygments_lexer": "ipython3",
   "version": "3.11.4"
  }
 },
 "nbformat": 4,
 "nbformat_minor": 5
}
