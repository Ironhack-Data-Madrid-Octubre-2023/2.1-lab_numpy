{
 "cells": [
  {
   "cell_type": "markdown",
   "id": "02f45436",
   "metadata": {},
   "source": [
    "# 1. Import the NUMPY package under the name np."
   ]
  },
  {
   "cell_type": "code",
   "execution_count": 1,
   "id": "072108a9",
   "metadata": {},
   "outputs": [],
   "source": [
    "import numpy as np"
   ]
  },
  {
   "cell_type": "markdown",
   "id": "5af4fdff",
   "metadata": {},
   "source": [
    "# 2. Print the NUMPY version and the configuration."
   ]
  },
  {
   "cell_type": "code",
   "execution_count": 2,
   "id": "f689a795",
   "metadata": {},
   "outputs": [
    {
     "name": "stdout",
     "output_type": "stream",
     "text": [
      "1.24.3\n",
      "blas_armpl_info:\n",
      "  NOT AVAILABLE\n",
      "blas_mkl_info:\n",
      "    libraries = ['mkl_rt']\n",
      "    library_dirs = ['C:/Users/daarr/anaconda3\\\\Library\\\\lib']\n",
      "    define_macros = [('SCIPY_MKL_H', None), ('HAVE_CBLAS', None)]\n",
      "    include_dirs = ['C:/Users/daarr/anaconda3\\\\Library\\\\include']\n",
      "blas_opt_info:\n",
      "    libraries = ['mkl_rt']\n",
      "    library_dirs = ['C:/Users/daarr/anaconda3\\\\Library\\\\lib']\n",
      "    define_macros = [('SCIPY_MKL_H', None), ('HAVE_CBLAS', None)]\n",
      "    include_dirs = ['C:/Users/daarr/anaconda3\\\\Library\\\\include']\n",
      "lapack_armpl_info:\n",
      "  NOT AVAILABLE\n",
      "lapack_mkl_info:\n",
      "    libraries = ['mkl_rt']\n",
      "    library_dirs = ['C:/Users/daarr/anaconda3\\\\Library\\\\lib']\n",
      "    define_macros = [('SCIPY_MKL_H', None), ('HAVE_CBLAS', None)]\n",
      "    include_dirs = ['C:/Users/daarr/anaconda3\\\\Library\\\\include']\n",
      "lapack_opt_info:\n",
      "    libraries = ['mkl_rt']\n",
      "    library_dirs = ['C:/Users/daarr/anaconda3\\\\Library\\\\lib']\n",
      "    define_macros = [('SCIPY_MKL_H', None), ('HAVE_CBLAS', None)]\n",
      "    include_dirs = ['C:/Users/daarr/anaconda3\\\\Library\\\\include']\n",
      "Supported SIMD extensions in this NumPy install:\n",
      "    baseline = SSE,SSE2,SSE3\n",
      "    found = SSSE3,SSE41,POPCNT,SSE42,AVX,F16C,FMA3,AVX2\n",
      "    not found = AVX512F,AVX512CD,AVX512_SKX,AVX512_CLX,AVX512_CNL,AVX512_ICL\n",
      "None\n"
     ]
    }
   ],
   "source": [
    "print(np.__version__)\n",
    "print(np.show_config())"
   ]
  },
  {
   "cell_type": "markdown",
   "id": "54d8df0d",
   "metadata": {},
   "source": [
    "# 3. Generate a 2x3x5 3-dimensional array with random values. Assign the array to variable \"a\"\n",
    "# Challenge: there are at least three easy ways that use numpy to generate random arrays. How many ways can you find?"
   ]
  },
  {
   "cell_type": "code",
   "execution_count": 3,
   "id": "f6524ab2",
   "metadata": {},
   "outputs": [],
   "source": [
    "a = np.random.random((2,3,5))"
   ]
  },
  {
   "cell_type": "markdown",
   "id": "0e79eaee",
   "metadata": {},
   "source": [
    "# 4. Print a."
   ]
  },
  {
   "cell_type": "code",
   "execution_count": 4,
   "id": "92ce3858",
   "metadata": {},
   "outputs": [
    {
     "name": "stdout",
     "output_type": "stream",
     "text": [
      "[[[0.09213387 0.56538303 0.63610446 0.48863496 0.08427164]\n",
      "  [0.73527577 0.78760596 0.95055863 0.47502089 0.49344151]\n",
      "  [0.9098705  0.86860998 0.43195881 0.45826046 0.22683416]]\n",
      "\n",
      " [[0.25233895 0.47321129 0.27272527 0.13384207 0.05838221]\n",
      "  [0.51363645 0.68364015 0.93775745 0.07115538 0.45225659]\n",
      "  [0.9980621  0.18003926 0.3998701  0.73560706 0.91738262]]]\n"
     ]
    }
   ],
   "source": [
    "print(a)"
   ]
  },
  {
   "cell_type": "markdown",
   "id": "0790f4ea",
   "metadata": {},
   "source": [
    "# 5. Create a 5x2x3 3-dimensional array with all values equaling 1.\n",
    "# Assign the array to variable \"b\""
   ]
  },
  {
   "cell_type": "code",
   "execution_count": 5,
   "id": "d88f5ab5",
   "metadata": {},
   "outputs": [],
   "source": [
    "b = np.ones((5,2,3))"
   ]
  },
  {
   "cell_type": "markdown",
   "id": "4e9e80bd",
   "metadata": {},
   "source": [
    "# 6. Print b."
   ]
  },
  {
   "cell_type": "code",
   "execution_count": 6,
   "id": "80b1569e",
   "metadata": {},
   "outputs": [
    {
     "name": "stdout",
     "output_type": "stream",
     "text": [
      "[[[1. 1. 1.]\n",
      "  [1. 1. 1.]]\n",
      "\n",
      " [[1. 1. 1.]\n",
      "  [1. 1. 1.]]\n",
      "\n",
      " [[1. 1. 1.]\n",
      "  [1. 1. 1.]]\n",
      "\n",
      " [[1. 1. 1.]\n",
      "  [1. 1. 1.]]\n",
      "\n",
      " [[1. 1. 1.]\n",
      "  [1. 1. 1.]]]\n"
     ]
    }
   ],
   "source": [
    "print(b)"
   ]
  },
  {
   "cell_type": "markdown",
   "id": "65d0a11b",
   "metadata": {},
   "source": [
    "# 7. Do a and b have the same size? How do you prove that in Python code?"
   ]
  },
  {
   "cell_type": "code",
   "execution_count": 7,
   "id": "974cb42e",
   "metadata": {},
   "outputs": [
    {
     "name": "stdout",
     "output_type": "stream",
     "text": [
      "True\n"
     ]
    }
   ],
   "source": [
    "print(a.size == b.size)"
   ]
  },
  {
   "cell_type": "markdown",
   "id": "5b9d65d1",
   "metadata": {},
   "source": [
    "# 8. Are you able to add a and b? Why or why not?"
   ]
  },
  {
   "cell_type": "code",
   "execution_count": 8,
   "id": "4915804a",
   "metadata": {},
   "outputs": [],
   "source": [
    "#NO, porque no tienen la misma forma/ \"lens\""
   ]
  },
  {
   "cell_type": "markdown",
   "id": "5d895cdf",
   "metadata": {},
   "source": [
    "# 9. Transpose b so that it has the same structure of a (i.e. become a 2x3x5 array). Assign the transposed array to varialbe \"c\"."
   ]
  },
  {
   "cell_type": "code",
   "execution_count": 13,
   "id": "ddda8f7e",
   "metadata": {},
   "outputs": [
    {
     "name": "stdout",
     "output_type": "stream",
     "text": [
      "[[[1. 1. 1. 1. 1.]\n",
      "  [1. 1. 1. 1. 1.]\n",
      "  [1. 1. 1. 1. 1.]]\n",
      "\n",
      " [[1. 1. 1. 1. 1.]\n",
      "  [1. 1. 1. 1. 1.]\n",
      "  [1. 1. 1. 1. 1.]]]\n"
     ]
    }
   ],
   "source": [
    "c = b.transpose((1,2,0))\n",
    "print(c)"
   ]
  },
  {
   "cell_type": "markdown",
   "id": "fc7ebd8a",
   "metadata": {},
   "source": [
    "# 10. Try to add a and c. Now it should work. Assign the sum to varialbe \"d\". But why does it work now?"
   ]
  },
  {
   "cell_type": "code",
   "execution_count": 16,
   "id": "8b7d9209",
   "metadata": {},
   "outputs": [
    {
     "data": {
      "text/plain": [
       "array([[[1.09213387, 1.56538303, 1.63610446, 1.48863496, 1.08427164],\n",
       "        [1.73527577, 1.78760596, 1.95055863, 1.47502089, 1.49344151],\n",
       "        [1.9098705 , 1.86860998, 1.43195881, 1.45826046, 1.22683416]],\n",
       "\n",
       "       [[1.25233895, 1.47321129, 1.27272527, 1.13384207, 1.05838221],\n",
       "        [1.51363645, 1.68364015, 1.93775745, 1.07115538, 1.45225659],\n",
       "        [1.9980621 , 1.18003926, 1.3998701 , 1.73560706, 1.91738262]]])"
      ]
     },
     "execution_count": 16,
     "metadata": {},
     "output_type": "execute_result"
    }
   ],
   "source": [
    "d = np.add(a,c)\n",
    "d"
   ]
  },
  {
   "cell_type": "markdown",
   "id": "8ab7f746",
   "metadata": {},
   "source": [
    "# 11. Print a and d. Notice the difference and relation of the two array in terms of the values? Explain."
   ]
  },
  {
   "cell_type": "code",
   "execution_count": 19,
   "id": "5a1810a7",
   "metadata": {},
   "outputs": [
    {
     "name": "stdout",
     "output_type": "stream",
     "text": [
      "[[[0.09213387 0.56538303 0.63610446 0.48863496 0.08427164]\n",
      "  [0.73527577 0.78760596 0.95055863 0.47502089 0.49344151]\n",
      "  [0.9098705  0.86860998 0.43195881 0.45826046 0.22683416]]\n",
      "\n",
      " [[0.25233895 0.47321129 0.27272527 0.13384207 0.05838221]\n",
      "  [0.51363645 0.68364015 0.93775745 0.07115538 0.45225659]\n",
      "  [0.9980621  0.18003926 0.3998701  0.73560706 0.91738262]]]\n",
      "[[[1.09213387 1.56538303 1.63610446 1.48863496 1.08427164]\n",
      "  [1.73527577 1.78760596 1.95055863 1.47502089 1.49344151]\n",
      "  [1.9098705  1.86860998 1.43195881 1.45826046 1.22683416]]\n",
      "\n",
      " [[1.25233895 1.47321129 1.27272527 1.13384207 1.05838221]\n",
      "  [1.51363645 1.68364015 1.93775745 1.07115538 1.45225659]\n",
      "  [1.9980621  1.18003926 1.3998701  1.73560706 1.91738262]]]\n"
     ]
    }
   ],
   "source": [
    "print(a)\n",
    "print(d)\n",
    "# Los valores de \"d\", son los de a sumándoles 1\n"
   ]
  },
  {
   "cell_type": "markdown",
   "id": "27b64a43",
   "metadata": {},
   "source": [
    "# 12. Multiply a and c. Assign the result to e."
   ]
  },
  {
   "cell_type": "code",
   "execution_count": 20,
   "id": "22d64c30",
   "metadata": {},
   "outputs": [
    {
     "data": {
      "text/plain": [
       "array([[[0.09213387, 0.56538303, 0.63610446, 0.48863496, 0.08427164],\n",
       "        [0.73527577, 0.78760596, 0.95055863, 0.47502089, 0.49344151],\n",
       "        [0.9098705 , 0.86860998, 0.43195881, 0.45826046, 0.22683416]],\n",
       "\n",
       "       [[0.25233895, 0.47321129, 0.27272527, 0.13384207, 0.05838221],\n",
       "        [0.51363645, 0.68364015, 0.93775745, 0.07115538, 0.45225659],\n",
       "        [0.9980621 , 0.18003926, 0.3998701 , 0.73560706, 0.91738262]]])"
      ]
     },
     "execution_count": 20,
     "metadata": {},
     "output_type": "execute_result"
    }
   ],
   "source": [
    "e = np.multiply(a,c)\n",
    "e"
   ]
  },
  {
   "cell_type": "markdown",
   "id": "365b16d3",
   "metadata": {},
   "source": [
    "# 13. Does e equal to a? Why or why not?"
   ]
  },
  {
   "cell_type": "code",
   "execution_count": 22,
   "id": "41ee19c2",
   "metadata": {},
   "outputs": [],
   "source": [
    "#Sí, los valores de \"e\" son identicos que los de \"a\", ya que se han obtenido multiplicándolos *1"
   ]
  },
  {
   "cell_type": "markdown",
   "id": "ebd9fd61",
   "metadata": {},
   "source": [
    "# 14. Identify the max, min, and mean values in d. Assign those values to variables \"d_max\", \"d_min\", and \"d_mean\""
   ]
  },
  {
   "cell_type": "code",
   "execution_count": 24,
   "id": "1111dee8",
   "metadata": {},
   "outputs": [],
   "source": [
    "d_max = np.max(d)\n",
    "d_min = np.min(d)\n",
    "d_mean = np.mean(d)\n",
    "#print(d_max)\n",
    "#print(d_min)\n",
    "#print(d_mean)"
   ]
  },
  {
   "cell_type": "markdown",
   "id": "2327f4bf",
   "metadata": {},
   "source": [
    "# 15. Now we want to label the values in d. First create an empty array \"f\" with the same shape (i.e. 2x3x5) as d using `np.empty`."
   ]
  },
  {
   "cell_type": "code",
   "execution_count": 33,
   "id": "9940e17b",
   "metadata": {},
   "outputs": [
    {
     "name": "stdout",
     "output_type": "stream",
     "text": [
      "[[[0.09213387 0.56538303 0.63610446 0.48863496 0.08427164]\n",
      "  [0.73527577 0.78760596 0.95055863 0.47502089 0.49344151]\n",
      "  [0.9098705  0.86860998 0.43195881 0.45826046 0.22683416]]\n",
      "\n",
      " [[0.25233895 0.47321129 0.27272527 0.13384207 0.05838221]\n",
      "  [0.51363645 0.68364015 0.93775745 0.07115538 0.45225659]\n",
      "  [0.9980621  0.18003926 0.3998701  0.73560706 0.91738262]]]\n"
     ]
    }
   ],
   "source": [
    "f = np.empty((2,3,5))\n",
    "print(f)"
   ]
  },
  {
   "cell_type": "markdown",
   "id": "426d4d9a",
   "metadata": {},
   "source": [
    "# 16. Populate the values in f.\n",
    "\n",
    " For each value in d, if it's larger than d_min but smaller than d_mean, assign 25 to the corresponding value in f.\n",
    " \n",
    " If a value in d is larger than d_mean but smaller than d_max, assign 75 to the corresponding value in f.\n",
    " \n",
    " If a value equals to d_mean, assign 50 to the corresponding value in f.\n",
    " \n",
    " Assign 0 to the corresponding value(s) in f for d_min in d.\n",
    " \n",
    " Assign 100 to the corresponding value(s) in f for d_max in d.\n",
    " \n",
    " In the end, f should have only the following values: 0, 25, 50, 75, and 100.\n",
    " \n",
    " Note: you don't have to use Numpy in this question."
   ]
  },
  {
   "cell_type": "code",
   "execution_count": 37,
   "id": "0e3f0f2e",
   "metadata": {},
   "outputs": [
    {
     "data": {
      "text/plain": [
       "array([[[ 25.,  75.,  75.,  25.,  25.],\n",
       "        [ 75.,  75.,  75.,  25.,  25.],\n",
       "        [ 75.,  75.,  25.,  25.,  25.]],\n",
       "\n",
       "       [[ 25.,  25.,  25.,  25.,   0.],\n",
       "        [ 75.,  75.,  75.,  25.,  25.],\n",
       "        [100.,  25.,  25.,  75.,  75.]]])"
      ]
     },
     "execution_count": 37,
     "metadata": {},
     "output_type": "execute_result"
    }
   ],
   "source": [
    "for i, cubo in enumerate(d):\n",
    "    for j, matriz in enumerate(cubo):\n",
    "        for k, ele in enumerate(matriz):\n",
    "            if (ele > d_min) and (ele < d_mean) :\n",
    "                f[i][j][k] = 25\n",
    "            elif (ele > d_mean) and (ele < d_max) :\n",
    "                f[i][j][k] = 75\n",
    "            elif (ele == d_mean):\n",
    "                f[i][j][k] = 50\n",
    "            elif (ele == d_min):\n",
    "                f[i][j][k] = 0\n",
    "            elif (ele == d_max):\n",
    "                f[i][j][k] = 100\n",
    "            else:\n",
    "                pass\n",
    "f"
   ]
  },
  {
   "cell_type": "markdown",
   "id": "1a4970ab",
   "metadata": {},
   "source": [
    "# 17. Print d and f. Do you have your expected f?"
   ]
  },
  {
   "cell_type": "code",
   "execution_count": 38,
   "id": "65a9e153",
   "metadata": {},
   "outputs": [
    {
     "name": "stdout",
     "output_type": "stream",
     "text": [
      "[[[1.09213387 1.56538303 1.63610446 1.48863496 1.08427164]\n",
      "  [1.73527577 1.78760596 1.95055863 1.47502089 1.49344151]\n",
      "  [1.9098705  1.86860998 1.43195881 1.45826046 1.22683416]]\n",
      "\n",
      " [[1.25233895 1.47321129 1.27272527 1.13384207 1.05838221]\n",
      "  [1.51363645 1.68364015 1.93775745 1.07115538 1.45225659]\n",
      "  [1.9980621  1.18003926 1.3998701  1.73560706 1.91738262]]] \n",
      " [[[ 25.  75.  75.  25.  25.]\n",
      "  [ 75.  75.  75.  25.  25.]\n",
      "  [ 75.  75.  25.  25.  25.]]\n",
      "\n",
      " [[ 25.  25.  25.  25.   0.]\n",
      "  [ 75.  75.  75.  25.  25.]\n",
      "  [100.  25.  25.  75.  75.]]]\n"
     ]
    }
   ],
   "source": [
    "print(d, \"\\n\", f)"
   ]
  },
  {
   "cell_type": "markdown",
   "id": "3957deb2",
   "metadata": {},
   "source": [
    "# 18. Bonus question: instead of using numbers (i.e. 0, 25, 50, 75, and 100), how to use string values \n",
    "(\"A\", \"B\", \"C\", \"D\", and \"E\") to label the array elements? You are expecting the result to be:\n",
    "array( [\n",
    "\n",
    "        [[ 'D',  'D',  'D',  'B',  'D'],\n",
    "        [ 'D',  'D',  'B',  'B',  'B'],\n",
    "        [ 'D',  'B',  'D',  'D',  'D']],\n",
    "        \n",
    "        [[ 'B',  'B',  'B',  'B',  'E'],\n",
    "        [ 'D',  'D',  'D',  'D',  'D'],\n",
    "        [ 'B',  'D',   'A',  'D', 'D']]])\n",
    "Again, you don't need Numpy in this question.\n",
    "\"\"\""
   ]
  },
  {
   "cell_type": "code",
   "execution_count": 40,
   "id": "2b56b34c",
   "metadata": {},
   "outputs": [
    {
     "data": {
      "text/plain": [
       "array([[['B', 'D', 'D', 'B', 'B'],\n",
       "        ['D', 'D', 'D', 'B', 'B'],\n",
       "        ['D', 'D', 'B', 'B', 'B']],\n",
       "\n",
       "       [['B', 'B', 'B', 'B', 'A'],\n",
       "        ['D', 'D', 'D', 'B', 'B'],\n",
       "        ['E', 'B', 'B', 'D', 'D']]], dtype='<U32')"
      ]
     },
     "execution_count": 40,
     "metadata": {},
     "output_type": "execute_result"
    }
   ],
   "source": [
    "f = f.astype(str)\n",
    "for i, cubo in enumerate(d):\n",
    "    for j, matriz in enumerate(cubo):\n",
    "        for k, ele in enumerate(matriz):\n",
    "            if (ele > d_min) and (ele < d_mean) :\n",
    "                f[i][j][k] = \"B\"\n",
    "            elif (ele > d_mean) and (ele < d_max) :\n",
    "                f[i][j][k] = \"D\"\n",
    "            elif (ele == d_mean):\n",
    "                f[i][j][k] = \"C\"\n",
    "            elif (ele == d_min):\n",
    "                f[i][j][k] = \"A\"\n",
    "            elif (ele == d_max):\n",
    "                f[i][j][k] = \"E\"\n",
    "            else:\n",
    "                pass\n",
    "f"
   ]
  },
  {
   "cell_type": "code",
   "execution_count": null,
   "id": "81141991",
   "metadata": {},
   "outputs": [],
   "source": []
  }
 ],
 "metadata": {
  "kernelspec": {
   "display_name": "Python 3 (ipykernel)",
   "language": "python",
   "name": "python3"
  },
  "language_info": {
   "codemirror_mode": {
    "name": "ipython",
    "version": 3
   },
   "file_extension": ".py",
   "mimetype": "text/x-python",
   "name": "python",
   "nbconvert_exporter": "python",
   "pygments_lexer": "ipython3",
   "version": "3.11.4"
  }
 },
 "nbformat": 4,
 "nbformat_minor": 5
}
