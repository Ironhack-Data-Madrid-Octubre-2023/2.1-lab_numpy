{
 "cells": [
  {
   "cell_type": "code",
   "execution_count": 1,
   "id": "29f61966",
   "metadata": {},
   "outputs": [],
   "source": [
    "#1. Import the NUMPY package under the name np.\n",
    "\n",
    "import numpy as np\n",
    "\n",
    "\n",
    "#2. Print the NUMPY version and the configuration.\n",
    "\n",
    "# print(\"Numpy version: \",np.__version__ )\n",
    "# print(\"Numpy configuration: \",np.show_config())"
   ]
  },
  {
   "cell_type": "code",
   "execution_count": 2,
   "id": "c68d7610",
   "metadata": {},
   "outputs": [],
   "source": [
    "a = np.random.rand(2,3,5)"
   ]
  },
  {
   "cell_type": "code",
   "execution_count": 3,
   "id": "39b52ba2",
   "metadata": {},
   "outputs": [],
   "source": [
    "a = np.random.random_sample((2,3,5))"
   ]
  },
  {
   "cell_type": "code",
   "execution_count": 4,
   "id": "2c93c0ae",
   "metadata": {},
   "outputs": [],
   "source": [
    "low = 0\n",
    "high = 1\n",
    "\n",
    "a = np.random.uniform(low,high,(2,3,5))"
   ]
  },
  {
   "cell_type": "code",
   "execution_count": 5,
   "id": "8d169a48",
   "metadata": {},
   "outputs": [
    {
     "name": "stdout",
     "output_type": "stream",
     "text": [
      "[[[0.15529341 0.26226673 0.3421019  0.82050661 0.15848506]\n",
      "  [0.87955189 0.05435046 0.86784089 0.96847385 0.05835783]\n",
      "  [0.17861743 0.12802595 0.75727694 0.92373701 0.55987738]]\n",
      "\n",
      " [[0.96627163 0.49035433 0.52968988 0.54833908 0.89024577]\n",
      "  [0.42266557 0.07379123 0.25823347 0.19119812 0.39762479]\n",
      "  [0.84270017 0.22801707 0.30569525 0.17809554 0.72845428]]]\n"
     ]
    }
   ],
   "source": [
    "print(a)"
   ]
  },
  {
   "cell_type": "code",
   "execution_count": 6,
   "id": "c459c908",
   "metadata": {},
   "outputs": [],
   "source": [
    "b = np.ones((5,2,3))"
   ]
  },
  {
   "cell_type": "code",
   "execution_count": 7,
   "id": "8dc70084",
   "metadata": {},
   "outputs": [
    {
     "name": "stdout",
     "output_type": "stream",
     "text": [
      "[[[1. 1. 1.]\n",
      "  [1. 1. 1.]]\n",
      "\n",
      " [[1. 1. 1.]\n",
      "  [1. 1. 1.]]\n",
      "\n",
      " [[1. 1. 1.]\n",
      "  [1. 1. 1.]]\n",
      "\n",
      " [[1. 1. 1.]\n",
      "  [1. 1. 1.]]\n",
      "\n",
      " [[1. 1. 1.]\n",
      "  [1. 1. 1.]]]\n"
     ]
    }
   ],
   "source": [
    "print(b)"
   ]
  },
  {
   "cell_type": "code",
   "execution_count": 8,
   "id": "3c1174ef",
   "metadata": {},
   "outputs": [
    {
     "data": {
      "text/plain": [
       "True"
      ]
     },
     "execution_count": 8,
     "metadata": {},
     "output_type": "execute_result"
    }
   ],
   "source": [
    "np.size(a) == np.size(b)\n",
    "\n",
    "# we use the np.size function to check if both arrays have the same total number of elements"
   ]
  },
  {
   "cell_type": "code",
   "execution_count": 9,
   "id": "f3bdf14c",
   "metadata": {},
   "outputs": [],
   "source": [
    "# No podemos sumar los arrays a y b debido a que tienen tamaños incompatibles.\n",
    "# Para sumar arrays deben tener el mismo número de dimensiones\n",
    "# El tamaño de las dimensiones deben ser iguales o una debe ser long 1\n",
    "\n",
    "# para sumar los arrays dados se puede modificar el tamaño de uno de ellos:\n",
    "# a_nuevo = a.reshape(5,2,3)\n",
    "# c = a_nuevo + b"
   ]
  },
  {
   "cell_type": "code",
   "execution_count": 10,
   "id": "34c8809e",
   "metadata": {},
   "outputs": [],
   "source": [
    "c = b.reshape(2,3,5)"
   ]
  },
  {
   "cell_type": "code",
   "execution_count": 11,
   "id": "8e64eb3f",
   "metadata": {},
   "outputs": [],
   "source": [
    "d = a + c\n",
    "# Ahora podemos sumar ambos arrays debido a que cumplen las normas del tamaño"
   ]
  },
  {
   "cell_type": "code",
   "execution_count": 12,
   "id": "311570ee",
   "metadata": {},
   "outputs": [
    {
     "name": "stdout",
     "output_type": "stream",
     "text": [
      "[[[0.15529341 0.26226673 0.3421019  0.82050661 0.15848506]\n",
      "  [0.87955189 0.05435046 0.86784089 0.96847385 0.05835783]\n",
      "  [0.17861743 0.12802595 0.75727694 0.92373701 0.55987738]]\n",
      "\n",
      " [[0.96627163 0.49035433 0.52968988 0.54833908 0.89024577]\n",
      "  [0.42266557 0.07379123 0.25823347 0.19119812 0.39762479]\n",
      "  [0.84270017 0.22801707 0.30569525 0.17809554 0.72845428]]] [[[1.15529341 1.26226673 1.3421019  1.82050661 1.15848506]\n",
      "  [1.87955189 1.05435046 1.86784089 1.96847385 1.05835783]\n",
      "  [1.17861743 1.12802595 1.75727694 1.92373701 1.55987738]]\n",
      "\n",
      " [[1.96627163 1.49035433 1.52968988 1.54833908 1.89024577]\n",
      "  [1.42266557 1.07379123 1.25823347 1.19119812 1.39762479]\n",
      "  [1.84270017 1.22801707 1.30569525 1.17809554 1.72845428]]]\n"
     ]
    }
   ],
   "source": [
    "print(a,d)\n",
    "\n",
    "# El array d es el resultado de añadir los valores 1 del array b a los valores aleatorios de a"
   ]
  },
  {
   "cell_type": "code",
   "execution_count": 13,
   "id": "2852e35a",
   "metadata": {},
   "outputs": [
    {
     "name": "stdout",
     "output_type": "stream",
     "text": [
      "[[[0.15529341 0.26226673 0.3421019  0.82050661 0.15848506]\n",
      "  [0.87955189 0.05435046 0.86784089 0.96847385 0.05835783]\n",
      "  [0.17861743 0.12802595 0.75727694 0.92373701 0.55987738]]\n",
      "\n",
      " [[0.96627163 0.49035433 0.52968988 0.54833908 0.89024577]\n",
      "  [0.42266557 0.07379123 0.25823347 0.19119812 0.39762479]\n",
      "  [0.84270017 0.22801707 0.30569525 0.17809554 0.72845428]]]\n"
     ]
    }
   ],
   "source": [
    "e = a * c\n",
    "print(e)"
   ]
  },
  {
   "cell_type": "code",
   "execution_count": 14,
   "id": "8b6e5581",
   "metadata": {},
   "outputs": [
    {
     "data": {
      "text/plain": [
       "array([[[ True,  True,  True,  True,  True],\n",
       "        [ True,  True,  True,  True,  True],\n",
       "        [ True,  True,  True,  True,  True]],\n",
       "\n",
       "       [[ True,  True,  True,  True,  True],\n",
       "        [ True,  True,  True,  True,  True],\n",
       "        [ True,  True,  True,  True,  True]]])"
      ]
     },
     "execution_count": 14,
     "metadata": {},
     "output_type": "execute_result"
    }
   ],
   "source": [
    "e == a\n",
    "# el array e es igual al array a debido a que estamos multiplicando de forma element-wise \n",
    "# al multiplicar elemento a elemento y siendo el array c todo unos\n",
    "# las operaciones que se realizan son cada elemento de e * 1"
   ]
  },
  {
   "cell_type": "code",
   "execution_count": 15,
   "id": "0c7f6859",
   "metadata": {},
   "outputs": [],
   "source": [
    "d_max = np.max(d)\n",
    "d_min = np.min(d)\n",
    "d_mean = np.mean(d)"
   ]
  },
  {
   "cell_type": "code",
   "execution_count": 16,
   "id": "e6974d1d",
   "metadata": {},
   "outputs": [
    {
     "name": "stdout",
     "output_type": "stream",
     "text": [
      "max 1.968473846148446\n",
      "min 1.0543504639789503\n",
      "mean 1.4722046509085716\n"
     ]
    }
   ],
   "source": [
    "print(\"max\",d_max)\n",
    "print(\"min\",d_min)\n",
    "print(\"mean\",d_mean)"
   ]
  },
  {
   "cell_type": "code",
   "execution_count": 17,
   "id": "e9c63bd6",
   "metadata": {},
   "outputs": [],
   "source": [
    "f = np.zeros(d.shape)"
   ]
  },
  {
   "cell_type": "code",
   "execution_count": 18,
   "id": "877f274a",
   "metadata": {},
   "outputs": [
    {
     "name": "stdout",
     "output_type": "stream",
     "text": [
      "[[[ 25.  25.  25.  75.  25.]\n",
      "  [ 75.   0.  75. 100.  25.]\n",
      "  [ 25.  25.  75.  75.  75.]]\n",
      "\n",
      " [[ 75.  75.  75.  75.  75.]\n",
      "  [ 25.  25.  25.  25.  25.]\n",
      "  [ 75.  25.  25.  25.  75.]]]\n"
     ]
    }
   ],
   "source": [
    "for i in range(d.shape[0]):\n",
    "    for j in range(d.shape[1]):\n",
    "        for k in range(d.shape[2]):\n",
    "            value = d[i, j, k]\n",
    "            if value == d_mean:\n",
    "                f[i, j, k] = 50\n",
    "            elif value > d_min and value < d_mean:\n",
    "                f[i, j, k] = 25\n",
    "            elif value > d_mean and value < d_max:\n",
    "                f[i, j, k] = 75\n",
    "            elif value == d_min:\n",
    "                f[i, j, k] = 0\n",
    "            elif value == d_max:\n",
    "                f[i, j, k] = 100\n",
    "\n",
    "print(f)"
   ]
  },
  {
   "cell_type": "code",
   "execution_count": 19,
   "id": "1c279c03",
   "metadata": {},
   "outputs": [
    {
     "name": "stdout",
     "output_type": "stream",
     "text": [
      "[[['B' 'B' 'B' 'D' 'B']\n",
      "  ['D' 'A' 'D' 'E' 'B']\n",
      "  ['B' 'B' 'D' 'D' 'D']]\n",
      "\n",
      " [['D' 'D' 'D' 'D' 'D']\n",
      "  ['B' 'B' 'B' 'B' 'B']\n",
      "  ['D' 'B' 'B' 'B' 'D']]]\n"
     ]
    }
   ],
   "source": [
    "g = np.empty(d.shape,dtype=object)\n",
    "\n",
    "for i in range(d.shape[0]):\n",
    "    for j in range(d.shape[1]):\n",
    "        for k in range(d.shape[2]):\n",
    "            value = d[i,j,k]\n",
    "            if value == d_mean:\n",
    "                g[i,j,k] = 'C'\n",
    "            elif value > d_min and value < d_mean:\n",
    "                g[i,j,k] = 'B'\n",
    "            elif value > d_mean and value < d_max:\n",
    "                g[i,j,k] = 'D'\n",
    "            elif value == d_min:\n",
    "                g[i,j,k] = 'A'\n",
    "            elif value == d_max:\n",
    "                g[i,j,k] = 'E'\n",
    "\n",
    "\n",
    "print(g)"
   ]
  }
 ],
 "metadata": {
  "kernelspec": {
   "display_name": "Python 3 (ipykernel)",
   "language": "python",
   "name": "python3"
  },
  "language_info": {
   "codemirror_mode": {
    "name": "ipython",
    "version": 3
   },
   "file_extension": ".py",
   "mimetype": "text/x-python",
   "name": "python",
   "nbconvert_exporter": "python",
   "pygments_lexer": "ipython3",
   "version": "3.10.9"
  }
 },
 "nbformat": 4,
 "nbformat_minor": 5
}
