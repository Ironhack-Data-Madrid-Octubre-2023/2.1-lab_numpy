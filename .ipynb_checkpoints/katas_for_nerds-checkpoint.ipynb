{
 "cells": [
  {
   "cell_type": "code",
   "execution_count": 1,
   "id": "c4b95b51",
   "metadata": {},
   "outputs": [],
   "source": [
    "import numpy as np\n"
   ]
  },
  {
   "cell_type": "code",
   "execution_count": 2,
   "id": "d34b10e1",
   "metadata": {},
   "outputs": [],
   "source": [
    "#KATA 1\n",
    "\n",
    "def weird_mul(A, B):\n",
    "    import numpy as np\n",
    "\n",
    "    if (len(A.shape) or len(B.shape)) != 2:\n",
    "        return None\n",
    "    for i in A.shape:\n",
    "        if i == 0:\n",
    "            return None\n",
    "    for i in B.shape:\n",
    "        if i == 0:\n",
    "            return None\n",
    "    res = []\n",
    "    for a in A:             \n",
    "        for b in B:\n",
    "            res1 = []\n",
    "            for a2 in a:\n",
    "                res1.append(np.multiply(a2,b))\n",
    "            if len(a) > 1:\n",
    "                try:\n",
    "                    res2 = np.concatenate(res1)\n",
    "                except:\n",
    "                    return None\n",
    "            else:\n",
    "                 res2 = np.multiply(a2,b)\n",
    "            res.append(res2)\n",
    "    res = np.array(res)\n",
    "    return res"
   ]
  },
  {
   "cell_type": "code",
   "execution_count": 3,
   "id": "7675ca63",
   "metadata": {},
   "outputs": [],
   "source": [
    "#KATA 2\n",
    "def insert_dash(num):\n",
    "    sol = \"\"\n",
    "    num_str = str(num)\n",
    "    flag = False\n",
    "    for i in num_str:\n",
    "        if int(i)%2 !=0:\n",
    "            if flag:\n",
    "                sol += \"-\"+i\n",
    "            else:\n",
    "                flag = True\n",
    "                sol += i                \n",
    "        else:\n",
    "            sol += i\n",
    "            flag = False\n",
    "    return sol\n",
    "\n",
    "    "
   ]
  },
  {
   "cell_type": "code",
   "execution_count": 4,
   "id": "2f3b4b6d",
   "metadata": {},
   "outputs": [],
   "source": [
    "#KATA 3\n",
    "def color_probability(color, texture):\n",
    "    bumpy_prob = 0.7\n",
    "    smooth_prob = 0.3\n",
    "    if texture == \"bumpy\":\n",
    "        if color == \"red\":\n",
    "            sol = 4/7\n",
    "        elif color == \"green\":\n",
    "            sol = 1/7\n",
    "        else:\n",
    "            sol = 2/7\n",
    "    else:\n",
    "        sol = 0.33\n",
    "    sol = str(sol)\n",
    "    sol = sol.split(\".\")\n",
    "    sol[1] = \".\"+sol[1][0:2]\n",
    "    sol = \"\".join(sol)"
   ]
  },
  {
   "cell_type": "code",
   "execution_count": null,
   "id": "e91162f9",
   "metadata": {},
   "outputs": [],
   "source": []
  },
  {
   "cell_type": "code",
   "execution_count": null,
   "id": "6a1c2291",
   "metadata": {},
   "outputs": [],
   "source": []
  },
  {
   "cell_type": "code",
   "execution_count": null,
   "id": "7355817c",
   "metadata": {},
   "outputs": [],
   "source": []
  },
  {
   "cell_type": "code",
   "execution_count": null,
   "id": "5b7a4d60",
   "metadata": {},
   "outputs": [],
   "source": []
  },
  {
   "cell_type": "code",
   "execution_count": null,
   "id": "31391fda",
   "metadata": {},
   "outputs": [],
   "source": []
  }
 ],
 "metadata": {
  "kernelspec": {
   "display_name": "Python 3 (ipykernel)",
   "language": "python",
   "name": "python3"
  },
  "language_info": {
   "codemirror_mode": {
    "name": "ipython",
    "version": 3
   },
   "file_extension": ".py",
   "mimetype": "text/x-python",
   "name": "python",
   "nbconvert_exporter": "python",
   "pygments_lexer": "ipython3",
   "version": "3.11.4"
  }
 },
 "nbformat": 4,
 "nbformat_minor": 5
}
