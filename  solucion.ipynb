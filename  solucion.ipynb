{
 "cells": [
  {
   "cell_type": "code",
   "execution_count": null,
   "id": "296a64d9",
   "metadata": {},
   "outputs": [],
   "source": [
    "#1. Import the NUMPY package under the name np."
   ]
  },
  {
   "cell_type": "code",
   "execution_count": 1,
   "id": "9cbac8b8",
   "metadata": {},
   "outputs": [],
   "source": [
    "import numpy as np\n"
   ]
  },
  {
   "cell_type": "code",
   "execution_count": 3,
   "id": "3e3f8e83",
   "metadata": {
    "scrolled": true
   },
   "outputs": [
    {
     "name": "stdout",
     "output_type": "stream",
     "text": [
      "1.24.3\n",
      "blas_armpl_info:\n",
      "  NOT AVAILABLE\n",
      "blas_mkl_info:\n",
      "    libraries = ['mkl_rt']\n",
      "    library_dirs = ['C:/ironhack/anaconda\\\\Library\\\\lib']\n",
      "    define_macros = [('SCIPY_MKL_H', None), ('HAVE_CBLAS', None)]\n",
      "    include_dirs = ['C:/ironhack/anaconda\\\\Library\\\\include']\n",
      "blas_opt_info:\n",
      "    libraries = ['mkl_rt']\n",
      "    library_dirs = ['C:/ironhack/anaconda\\\\Library\\\\lib']\n",
      "    define_macros = [('SCIPY_MKL_H', None), ('HAVE_CBLAS', None)]\n",
      "    include_dirs = ['C:/ironhack/anaconda\\\\Library\\\\include']\n",
      "lapack_armpl_info:\n",
      "  NOT AVAILABLE\n",
      "lapack_mkl_info:\n",
      "    libraries = ['mkl_rt']\n",
      "    library_dirs = ['C:/ironhack/anaconda\\\\Library\\\\lib']\n",
      "    define_macros = [('SCIPY_MKL_H', None), ('HAVE_CBLAS', None)]\n",
      "    include_dirs = ['C:/ironhack/anaconda\\\\Library\\\\include']\n",
      "lapack_opt_info:\n",
      "    libraries = ['mkl_rt']\n",
      "    library_dirs = ['C:/ironhack/anaconda\\\\Library\\\\lib']\n",
      "    define_macros = [('SCIPY_MKL_H', None), ('HAVE_CBLAS', None)]\n",
      "    include_dirs = ['C:/ironhack/anaconda\\\\Library\\\\include']\n",
      "Supported SIMD extensions in this NumPy install:\n",
      "    baseline = SSE,SSE2,SSE3\n",
      "    found = SSSE3,SSE41,POPCNT,SSE42,AVX,F16C,FMA3,AVX2\n",
      "    not found = AVX512F,AVX512CD,AVX512_SKX,AVX512_CLX,AVX512_CNL,AVX512_ICL\n",
      "None\n"
     ]
    }
   ],
   "source": [
    "#Print the NUMPY version and the configuration.\n",
    "print(np.__version__)\n",
    "print(np.show_config())"
   ]
  },
  {
   "cell_type": "code",
   "execution_count": 15,
   "id": "926f7914",
   "metadata": {},
   "outputs": [
    {
     "data": {
      "text/plain": [
       "array([[[0.35679003, 0.4438245 , 0.90708484, 0.28590889, 0.32281254],\n",
       "        [0.02278329, 0.66289518, 0.11608103, 0.84005123, 0.22393495],\n",
       "        [0.984531  , 0.61418932, 0.64149531, 0.79350716, 0.28536054]],\n",
       "\n",
       "       [[0.61794194, 0.85150807, 0.55004104, 0.99060604, 0.40251224],\n",
       "        [0.21582038, 0.72781085, 0.31625749, 0.03699449, 0.0680782 ],\n",
       "        [0.83398235, 0.2230198 , 0.02041521, 0.87147501, 0.16228922]]])"
      ]
     },
     "execution_count": 15,
     "metadata": {},
     "output_type": "execute_result"
    }
   ],
   "source": [
    "#3. Generate a 2x3x5 3-dimensional array with random values. Assign the array to variable \"a\"\n",
    "# Challenge: there are at least three easy ways that use numpy to generate random arrays. How many ways can you find?\n",
    "import random as rm\n",
    "\n",
    "a = np.random.random((2,3,5))\n",
    "\n",
    "a\n"
   ]
  },
  {
   "cell_type": "code",
   "execution_count": 34,
   "id": "82ab0f59",
   "metadata": {},
   "outputs": [
    {
     "name": "stdout",
     "output_type": "stream",
     "text": [
      "[[0.88919062 0.77619612 0.1847139  0.3627548  0.14702225]\n",
      " [0.7754997  0.33244326 0.98337805 0.78436826 0.80045107]\n",
      " [0.05746153 0.74148912 0.38829465 0.94206372 0.03048002]]\n",
      "\n",
      "[[0.93291492 0.50034332 0.57335968 0.1964387  0.83494879]\n",
      " [0.78117623 0.11452543 0.40508194 0.17453521 0.50446015]\n",
      " [0.54929016 0.92806695 0.67537908 0.11288936 0.18354952]]\n"
     ]
    },
    {
     "data": {
      "text/plain": [
       "array([[0.88919062, 0.77619612, 0.1847139 , 0.3627548 , 0.14702225],\n",
       "       [0.7754997 , 0.33244326, 0.98337805, 0.78436826, 0.80045107],\n",
       "       [0.05746153, 0.74148912, 0.38829465, 0.94206372, 0.03048002],\n",
       "       [0.93291492, 0.50034332, 0.57335968, 0.1964387 , 0.83494879],\n",
       "       [0.78117623, 0.11452543, 0.40508194, 0.17453521, 0.50446015],\n",
       "       [0.54929016, 0.92806695, 0.67537908, 0.11288936, 0.18354952]])"
      ]
     },
     "execution_count": 34,
     "metadata": {},
     "output_type": "execute_result"
    }
   ],
   "source": [
    "a_1=np.random.random((3,5))\n",
    "a_2=np.random.random((3,5))\n",
    "print(a_1)\n",
    "print('')\n",
    "print(a_2)\n",
    "a_mix_a1_a2= np.concatenate((a_1,a_2),axis=0)\n",
    "a_mix_a1_a2\n",
    "#fallido"
   ]
  },
  {
   "cell_type": "code",
   "execution_count": 37,
   "id": "027c9b6c",
   "metadata": {},
   "outputs": [
    {
     "data": {
      "text/plain": [
       "array([[[0.88919062, 0.77619612, 0.1847139 , 0.3627548 , 0.14702225],\n",
       "        [0.7754997 , 0.33244326, 0.98337805, 0.78436826, 0.80045107],\n",
       "        [0.05746153, 0.74148912, 0.38829465, 0.94206372, 0.03048002]],\n",
       "\n",
       "       [[0.93291492, 0.50034332, 0.57335968, 0.1964387 , 0.83494879],\n",
       "        [0.78117623, 0.11452543, 0.40508194, 0.17453521, 0.50446015],\n",
       "        [0.54929016, 0.92806695, 0.67537908, 0.11288936, 0.18354952]]])"
      ]
     },
     "execution_count": 37,
     "metadata": {},
     "output_type": "execute_result"
    }
   ],
   "source": [
    "a_3= np.stack((a_1,a_2))\n",
    "a_3"
   ]
  },
  {
   "cell_type": "code",
   "execution_count": 35,
   "id": "d8c56395",
   "metadata": {},
   "outputs": [
    {
     "name": "stdout",
     "output_type": "stream",
     "text": [
      "[[[0.35679003 0.4438245  0.90708484 0.28590889 0.32281254]\n",
      "  [0.02278329 0.66289518 0.11608103 0.84005123 0.22393495]\n",
      "  [0.984531   0.61418932 0.64149531 0.79350716 0.28536054]]\n",
      "\n",
      " [[0.61794194 0.85150807 0.55004104 0.99060604 0.40251224]\n",
      "  [0.21582038 0.72781085 0.31625749 0.03699449 0.0680782 ]\n",
      "  [0.83398235 0.2230198  0.02041521 0.87147501 0.16228922]]]\n"
     ]
    }
   ],
   "source": [
    "#4. Print a.\n",
    "print(a)"
   ]
  },
  {
   "cell_type": "code",
   "execution_count": 43,
   "id": "f53ec100",
   "metadata": {},
   "outputs": [
    {
     "data": {
      "text/plain": [
       "array([[[1., 1., 1.],\n",
       "        [1., 1., 1.]],\n",
       "\n",
       "       [[1., 1., 1.],\n",
       "        [1., 1., 1.]],\n",
       "\n",
       "       [[1., 1., 1.],\n",
       "        [1., 1., 1.]],\n",
       "\n",
       "       [[1., 1., 1.],\n",
       "        [1., 1., 1.]],\n",
       "\n",
       "       [[1., 1., 1.],\n",
       "        [1., 1., 1.]]])"
      ]
     },
     "execution_count": 43,
     "metadata": {},
     "output_type": "execute_result"
    }
   ],
   "source": [
    "#5. Create a 5x2x3 3-dimensional array with all values equaling 1.\n",
    "#Assign the array to variable \"b\"\n",
    "b = np.ones((5,2,3))\n",
    "b"
   ]
  },
  {
   "cell_type": "code",
   "execution_count": 42,
   "id": "2c72ce9f",
   "metadata": {},
   "outputs": [
    {
     "name": "stdout",
     "output_type": "stream",
     "text": [
      "[[[1. 1. 1.]\n",
      "  [1. 1. 1.]]\n",
      "\n",
      " [[1. 1. 1.]\n",
      "  [1. 1. 1.]]\n",
      "\n",
      " [[1. 1. 1.]\n",
      "  [1. 1. 1.]]\n",
      "\n",
      " [[1. 1. 1.]\n",
      "  [1. 1. 1.]]\n",
      "\n",
      " [[1. 1. 1.]\n",
      "  [1. 1. 1.]]]\n"
     ]
    }
   ],
   "source": [
    "#6. Print b\n",
    "print(b)"
   ]
  },
  {
   "cell_type": "code",
   "execution_count": 48,
   "id": "18f6fddb",
   "metadata": {},
   "outputs": [
    {
     "name": "stdout",
     "output_type": "stream",
     "text": [
      "30\n",
      "30\n"
     ]
    }
   ],
   "source": [
    "#7. Do a and b have the same size? How do you prove that in Python code?\n",
    "print(b.size)\n",
    "print(a.size)"
   ]
  },
  {
   "cell_type": "code",
   "execution_count": null,
   "id": "fc1e6e81",
   "metadata": {},
   "outputs": [],
   "source": []
  },
  {
   "cell_type": "code",
   "execution_count": null,
   "id": "8955bbd4",
   "metadata": {},
   "outputs": [],
   "source": []
  },
  {
   "cell_type": "code",
   "execution_count": null,
   "id": "0ea24152",
   "metadata": {},
   "outputs": [],
   "source": []
  },
  {
   "cell_type": "code",
   "execution_count": null,
   "id": "9f3aab10",
   "metadata": {},
   "outputs": [],
   "source": []
  },
  {
   "cell_type": "code",
   "execution_count": null,
   "id": "ff88c004",
   "metadata": {},
   "outputs": [],
   "source": []
  },
  {
   "cell_type": "code",
   "execution_count": null,
   "id": "b6fcdbb0",
   "metadata": {},
   "outputs": [],
   "source": []
  },
  {
   "cell_type": "code",
   "execution_count": null,
   "id": "ef0635c3",
   "metadata": {},
   "outputs": [],
   "source": []
  },
  {
   "cell_type": "code",
   "execution_count": null,
   "id": "08404254",
   "metadata": {},
   "outputs": [],
   "source": []
  }
 ],
 "metadata": {
  "kernelspec": {
   "display_name": "Python 3 (ipykernel)",
   "language": "python",
   "name": "python3"
  },
  "language_info": {
   "codemirror_mode": {
    "name": "ipython",
    "version": 3
   },
   "file_extension": ".py",
   "mimetype": "text/x-python",
   "name": "python",
   "nbconvert_exporter": "python",
   "pygments_lexer": "ipython3",
   "version": "3.11.5"
  }
 },
 "nbformat": 4,
 "nbformat_minor": 5
}
