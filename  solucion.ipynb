{
 "cells": [
  {
   "cell_type": "code",
   "execution_count": null,
   "id": "f8fe48f9",
   "metadata": {},
   "outputs": [],
   "source": [
    "#1. Import the NUMPY package under the name np."
   ]
  },
  {
   "cell_type": "code",
   "execution_count": 1,
   "id": "4c30c9dd",
   "metadata": {},
   "outputs": [],
   "source": [
    "import numpy as np\n"
   ]
  },
  {
   "cell_type": "code",
   "execution_count": 3,
   "id": "79775408",
   "metadata": {
    "scrolled": true
   },
   "outputs": [
    {
     "name": "stdout",
     "output_type": "stream",
     "text": [
      "1.24.3\n",
      "blas_armpl_info:\n",
      "  NOT AVAILABLE\n",
      "blas_mkl_info:\n",
      "    libraries = ['mkl_rt']\n",
      "    library_dirs = ['C:/ironhack/anaconda\\\\Library\\\\lib']\n",
      "    define_macros = [('SCIPY_MKL_H', None), ('HAVE_CBLAS', None)]\n",
      "    include_dirs = ['C:/ironhack/anaconda\\\\Library\\\\include']\n",
      "blas_opt_info:\n",
      "    libraries = ['mkl_rt']\n",
      "    library_dirs = ['C:/ironhack/anaconda\\\\Library\\\\lib']\n",
      "    define_macros = [('SCIPY_MKL_H', None), ('HAVE_CBLAS', None)]\n",
      "    include_dirs = ['C:/ironhack/anaconda\\\\Library\\\\include']\n",
      "lapack_armpl_info:\n",
      "  NOT AVAILABLE\n",
      "lapack_mkl_info:\n",
      "    libraries = ['mkl_rt']\n",
      "    library_dirs = ['C:/ironhack/anaconda\\\\Library\\\\lib']\n",
      "    define_macros = [('SCIPY_MKL_H', None), ('HAVE_CBLAS', None)]\n",
      "    include_dirs = ['C:/ironhack/anaconda\\\\Library\\\\include']\n",
      "lapack_opt_info:\n",
      "    libraries = ['mkl_rt']\n",
      "    library_dirs = ['C:/ironhack/anaconda\\\\Library\\\\lib']\n",
      "    define_macros = [('SCIPY_MKL_H', None), ('HAVE_CBLAS', None)]\n",
      "    include_dirs = ['C:/ironhack/anaconda\\\\Library\\\\include']\n",
      "Supported SIMD extensions in this NumPy install:\n",
      "    baseline = SSE,SSE2,SSE3\n",
      "    found = SSSE3,SSE41,POPCNT,SSE42,AVX,F16C,FMA3,AVX2\n",
      "    not found = AVX512F,AVX512CD,AVX512_SKX,AVX512_CLX,AVX512_CNL,AVX512_ICL\n",
      "None\n"
     ]
    }
   ],
   "source": [
    "#Print the NUMPY version and the configuration.\n",
    "print(np.__version__)\n",
    "print(np.show_config())"
   ]
  },
  {
   "cell_type": "code",
   "execution_count": 15,
   "id": "f717491f",
   "metadata": {},
   "outputs": [
    {
     "data": {
      "text/plain": [
       "array([[[0.35679003, 0.4438245 , 0.90708484, 0.28590889, 0.32281254],\n",
       "        [0.02278329, 0.66289518, 0.11608103, 0.84005123, 0.22393495],\n",
       "        [0.984531  , 0.61418932, 0.64149531, 0.79350716, 0.28536054]],\n",
       "\n",
       "       [[0.61794194, 0.85150807, 0.55004104, 0.99060604, 0.40251224],\n",
       "        [0.21582038, 0.72781085, 0.31625749, 0.03699449, 0.0680782 ],\n",
       "        [0.83398235, 0.2230198 , 0.02041521, 0.87147501, 0.16228922]]])"
      ]
     },
     "execution_count": 15,
     "metadata": {},
     "output_type": "execute_result"
    }
   ],
   "source": [
    "#3. Generate a 2x3x5 3-dimensional array with random values. Assign the array to variable \"a\"\n",
    "# Challenge: there are at least three easy ways that use numpy to generate random arrays. How many ways can you find?\n",
    "import random as rm\n",
    "\n",
    "a = np.random.random((2,3,5))\n",
    "\n",
    "a\n"
   ]
  },
  {
   "cell_type": "code",
   "execution_count": 34,
   "id": "bc00621a",
   "metadata": {},
   "outputs": [
    {
     "name": "stdout",
     "output_type": "stream",
     "text": [
      "[[0.88919062 0.77619612 0.1847139  0.3627548  0.14702225]\n",
      " [0.7754997  0.33244326 0.98337805 0.78436826 0.80045107]\n",
      " [0.05746153 0.74148912 0.38829465 0.94206372 0.03048002]]\n",
      "\n",
      "[[0.93291492 0.50034332 0.57335968 0.1964387  0.83494879]\n",
      " [0.78117623 0.11452543 0.40508194 0.17453521 0.50446015]\n",
      " [0.54929016 0.92806695 0.67537908 0.11288936 0.18354952]]\n"
     ]
    },
    {
     "data": {
      "text/plain": [
       "array([[0.88919062, 0.77619612, 0.1847139 , 0.3627548 , 0.14702225],\n",
       "       [0.7754997 , 0.33244326, 0.98337805, 0.78436826, 0.80045107],\n",
       "       [0.05746153, 0.74148912, 0.38829465, 0.94206372, 0.03048002],\n",
       "       [0.93291492, 0.50034332, 0.57335968, 0.1964387 , 0.83494879],\n",
       "       [0.78117623, 0.11452543, 0.40508194, 0.17453521, 0.50446015],\n",
       "       [0.54929016, 0.92806695, 0.67537908, 0.11288936, 0.18354952]])"
      ]
     },
     "execution_count": 34,
     "metadata": {},
     "output_type": "execute_result"
    }
   ],
   "source": [
    "a_1=np.random.random((3,5))\n",
    "a_2=np.random.random((3,5))\n",
    "print(a_1)\n",
    "print('')\n",
    "print(a_2)\n",
    "a_mix_a1_a2= np.concatenate((a_1,a_2),axis=0)\n",
    "a_mix_a1_a2\n",
    "#fallido"
   ]
  },
  {
   "cell_type": "code",
   "execution_count": 37,
   "id": "71fe18f6",
   "metadata": {},
   "outputs": [
    {
     "data": {
      "text/plain": [
       "array([[[0.88919062, 0.77619612, 0.1847139 , 0.3627548 , 0.14702225],\n",
       "        [0.7754997 , 0.33244326, 0.98337805, 0.78436826, 0.80045107],\n",
       "        [0.05746153, 0.74148912, 0.38829465, 0.94206372, 0.03048002]],\n",
       "\n",
       "       [[0.93291492, 0.50034332, 0.57335968, 0.1964387 , 0.83494879],\n",
       "        [0.78117623, 0.11452543, 0.40508194, 0.17453521, 0.50446015],\n",
       "        [0.54929016, 0.92806695, 0.67537908, 0.11288936, 0.18354952]]])"
      ]
     },
     "execution_count": 37,
     "metadata": {},
     "output_type": "execute_result"
    }
   ],
   "source": [
    "a_3= np.stack((a_1,a_2))\n",
    "a_3"
   ]
  },
  {
   "cell_type": "code",
   "execution_count": 35,
   "id": "8a26e67a",
   "metadata": {},
   "outputs": [
    {
     "name": "stdout",
     "output_type": "stream",
     "text": [
      "[[[0.35679003 0.4438245  0.90708484 0.28590889 0.32281254]\n",
      "  [0.02278329 0.66289518 0.11608103 0.84005123 0.22393495]\n",
      "  [0.984531   0.61418932 0.64149531 0.79350716 0.28536054]]\n",
      "\n",
      " [[0.61794194 0.85150807 0.55004104 0.99060604 0.40251224]\n",
      "  [0.21582038 0.72781085 0.31625749 0.03699449 0.0680782 ]\n",
      "  [0.83398235 0.2230198  0.02041521 0.87147501 0.16228922]]]\n"
     ]
    }
   ],
   "source": [
    "#4. Print a.\n",
    "print(a)"
   ]
  },
  {
   "cell_type": "code",
   "execution_count": 43,
   "id": "b659c6b0",
   "metadata": {},
   "outputs": [
    {
     "data": {
      "text/plain": [
       "array([[[1., 1., 1.],\n",
       "        [1., 1., 1.]],\n",
       "\n",
       "       [[1., 1., 1.],\n",
       "        [1., 1., 1.]],\n",
       "\n",
       "       [[1., 1., 1.],\n",
       "        [1., 1., 1.]],\n",
       "\n",
       "       [[1., 1., 1.],\n",
       "        [1., 1., 1.]],\n",
       "\n",
       "       [[1., 1., 1.],\n",
       "        [1., 1., 1.]]])"
      ]
     },
     "execution_count": 43,
     "metadata": {},
     "output_type": "execute_result"
    }
   ],
   "source": [
    "#5. Create a 5x2x3 3-dimensional array with all values equaling 1.\n",
    "#Assign the array to variable \"b\"\n",
    "b = np.ones((5,2,3))\n",
    "b"
   ]
  },
  {
   "cell_type": "code",
   "execution_count": 42,
   "id": "3121b0c5",
   "metadata": {},
   "outputs": [
    {
     "name": "stdout",
     "output_type": "stream",
     "text": [
      "[[[1. 1. 1.]\n",
      "  [1. 1. 1.]]\n",
      "\n",
      " [[1. 1. 1.]\n",
      "  [1. 1. 1.]]\n",
      "\n",
      " [[1. 1. 1.]\n",
      "  [1. 1. 1.]]\n",
      "\n",
      " [[1. 1. 1.]\n",
      "  [1. 1. 1.]]\n",
      "\n",
      " [[1. 1. 1.]\n",
      "  [1. 1. 1.]]]\n"
     ]
    }
   ],
   "source": [
    "#6. Print b\n",
    "print(b)"
   ]
  },
  {
   "cell_type": "code",
   "execution_count": 48,
   "id": "e07b3f0b",
   "metadata": {},
   "outputs": [
    {
     "name": "stdout",
     "output_type": "stream",
     "text": [
      "30\n",
      "30\n"
     ]
    }
   ],
   "source": [
    "#7. Do a and b have the same size? How do you prove that in Python code?\n",
    "print(b.size)\n",
    "print(a.size)"
   ]
  },
  {
   "cell_type": "code",
   "execution_count": 49,
   "id": "ed2d6642",
   "metadata": {},
   "outputs": [
    {
     "name": "stdout",
     "output_type": "stream",
     "text": [
      "(5, 2, 3)\n",
      "(2, 3, 5)\n"
     ]
    }
   ],
   "source": [
    "#8. Are you able to add a and b? Why or why not?\n",
    "#no because they dont have the same shape\n",
    "print(b.shape)\n",
    "print(a.shape)"
   ]
  },
  {
   "cell_type": "code",
   "execution_count": null,
   "id": "df5d812b",
   "metadata": {},
   "outputs": [],
   "source": [
    "#9. Transpose b so that it has the same structure of a (i.e. become a 2x3x5 array). Assign the transposed array to varialbe \"c\"."
   ]
  },
  {
   "cell_type": "code",
   "execution_count": 71,
   "id": "4a0ce066",
   "metadata": {},
   "outputs": [
    {
     "data": {
      "text/plain": [
       "(2, 3, 5)"
      ]
     },
     "execution_count": 71,
     "metadata": {},
     "output_type": "execute_result"
    }
   ],
   "source": [
    "c=b.reshape(2,3,5)\n",
    "c.shape\n"
   ]
  },
  {
   "cell_type": "code",
   "execution_count": 105,
   "id": "14dd7161",
   "metadata": {},
   "outputs": [],
   "source": [
    "#10. Try to add a and c. Now it should work. Assign the sum to varialbe \"d\". But why does it work now?\n",
    "d= a + c\n",
    "#because now both arrays have the same shape"
   ]
  },
  {
   "cell_type": "code",
   "execution_count": 106,
   "id": "1b8573a8",
   "metadata": {},
   "outputs": [
    {
     "name": "stdout",
     "output_type": "stream",
     "text": [
      "[[[0.35679003 0.4438245  0.90708484 0.28590889 0.32281254]\n",
      "  [0.02278329 0.66289518 0.11608103 0.84005123 0.22393495]\n",
      "  [0.984531   0.61418932 0.64149531 0.79350716 0.28536054]]\n",
      "\n",
      " [[0.61794194 0.85150807 0.55004104 0.99060604 0.40251224]\n",
      "  [0.21582038 0.72781085 0.31625749 0.03699449 0.0680782 ]\n",
      "  [0.83398235 0.2230198  0.02041521 0.87147501 0.16228922]]]\n",
      "\n",
      "[[[1.35679003 1.4438245  1.90708484 1.28590889 1.32281254]\n",
      "  [1.02278329 1.66289518 1.11608103 1.84005123 1.22393495]\n",
      "  [1.984531   1.61418932 1.64149531 1.79350716 1.28536054]]\n",
      "\n",
      " [[1.61794194 1.85150807 1.55004104 1.99060604 1.40251224]\n",
      "  [1.21582038 1.72781085 1.31625749 1.03699449 1.0680782 ]\n",
      "  [1.83398235 1.2230198  1.02041521 1.87147501 1.16228922]]]\n"
     ]
    }
   ],
   "source": [
    "#11. Print a and d. Notice the difference and relation of the two array in terms of the values? Explain.\n",
    "print(a)\n",
    "print('')\n",
    "print(d)\n",
    "# the value is the same you just sum c which is a array of ones\n"
   ]
  },
  {
   "cell_type": "code",
   "execution_count": 108,
   "id": "25d25c3f",
   "metadata": {},
   "outputs": [
    {
     "data": {
      "text/plain": [
       "array([[[0.35679003, 0.4438245 , 0.90708484, 0.28590889, 0.32281254],\n",
       "        [0.02278329, 0.66289518, 0.11608103, 0.84005123, 0.22393495],\n",
       "        [0.984531  , 0.61418932, 0.64149531, 0.79350716, 0.28536054]],\n",
       "\n",
       "       [[0.61794194, 0.85150807, 0.55004104, 0.99060604, 0.40251224],\n",
       "        [0.21582038, 0.72781085, 0.31625749, 0.03699449, 0.0680782 ],\n",
       "        [0.83398235, 0.2230198 , 0.02041521, 0.87147501, 0.16228922]]])"
      ]
     },
     "execution_count": 108,
     "metadata": {},
     "output_type": "execute_result"
    }
   ],
   "source": [
    "#12. Multiply a and c. Assign the result to e.\n",
    "e= np.multiply(a,c)\n",
    "e"
   ]
  },
  {
   "cell_type": "code",
   "execution_count": 109,
   "id": "dc3f2766",
   "metadata": {},
   "outputs": [
    {
     "data": {
      "text/plain": [
       "array([[[ True,  True,  True,  True,  True],\n",
       "        [ True,  True,  True,  True,  True],\n",
       "        [ True,  True,  True,  True,  True]],\n",
       "\n",
       "       [[ True,  True,  True,  True,  True],\n",
       "        [ True,  True,  True,  True,  True],\n",
       "        [ True,  True,  True,  True,  True]]])"
      ]
     },
     "execution_count": 109,
     "metadata": {},
     "output_type": "execute_result"
    }
   ],
   "source": [
    "#13. Does e equal to a? Why or why not?\n",
    "a ==e\n",
    "# yes because c is an array of only 1, so is going to have the same values inside "
   ]
  },
  {
   "cell_type": "code",
   "execution_count": 110,
   "id": "8c51782c",
   "metadata": {},
   "outputs": [
    {
     "name": "stdout",
     "output_type": "stream",
     "text": [
      "1.9906060403981463\n",
      "1.0204152050263011\n",
      "1.479666737231645\n"
     ]
    }
   ],
   "source": [
    "#14. Identify the max, min, and mean values in d. Assign those values to variables \"d_max\", \"d_min\", and \"d_mean\"\n",
    "d_max= d.max()\n",
    "d_min = d.min()\n",
    "d_mean = d.mean()\n",
    "print(d_max)\n",
    "print(d_min)\n",
    "print(d_mean)"
   ]
  },
  {
   "cell_type": "code",
   "execution_count": 111,
   "id": "af5b2cee",
   "metadata": {},
   "outputs": [
    {
     "name": "stdout",
     "output_type": "stream",
     "text": [
      "[[[0.35679003 0.4438245  0.90708484 0.28590889 0.32281254]\n",
      "  [0.02278329 0.66289518 0.11608103 0.84005123 0.22393495]\n",
      "  [0.984531   0.61418932 0.64149531 0.79350716 0.28536054]]\n",
      "\n",
      " [[0.61794194 0.85150807 0.55004104 0.99060604 0.40251224]\n",
      "  [0.21582038 0.72781085 0.31625749 0.03699449 0.0680782 ]\n",
      "  [0.83398235 0.2230198  0.02041521 0.87147501 0.16228922]]]\n"
     ]
    }
   ],
   "source": [
    "#15. Now we want to label the values in d. First create an empty array \"f\" with the same shape (i.e. 2x3x5) as d using `np.empty`.\n",
    "shape=(2,3,5)\n",
    "f = np.empty(shape)\n",
    "print(f)"
   ]
  },
  {
   "cell_type": "markdown",
   "id": "8692a871",
   "metadata": {},
   "source": [
    "#16. Populate the values in f. For each value in d, if it's larger than d_min but smaller than d_mean, assign 25 to the corresponding value in f.\n",
    "If a value in d is larger than d_mean but smaller than d_max, assign 75 to the corresponding value in f.\n",
    "If a value equals to d_mean, assign 50 to the corresponding value in f.\n",
    "Assign 0 to the corresponding value(s) in f for d_min in d.\n",
    "Assign 100 to the corresponding value(s) in f for d_max in d.\n",
    "In the end, f should have only the following values: 0, 25, 50, 75, and 100.\n",
    "Note: you don't have to use Numpy in this question.\n",
    "d_max\n",
    "d_min \n",
    "d_mean "
   ]
  },
  {
   "cell_type": "code",
   "execution_count": 112,
   "id": "041a3d49",
   "metadata": {},
   "outputs": [],
   "source": [
    "def fpopulate():\n",
    "    for e in f:\n",
    "        if e>d_min and e<d_mean:\n",
    "            e=25\n",
    "        elif e==d_min:\n",
    "            e=0\n",
    "        elif e== d_max:\n",
    "            e=100\n",
    "    for e in a:\n",
    "        if e>d_mean and e<d_max:\n",
    "            e=75\n",
    "        elif e==d_mean:\n",
    "            e=50\n",
    "    return fpopulate\n",
    "        "
   ]
  },
  {
   "cell_type": "code",
   "execution_count": null,
   "id": "dd237f31",
   "metadata": {},
   "outputs": [],
   "source": []
  }
 ],
 "metadata": {
  "kernelspec": {
   "display_name": "Python 3 (ipykernel)",
   "language": "python",
   "name": "python3"
  },
  "language_info": {
   "codemirror_mode": {
    "name": "ipython",
    "version": 3
   },
   "file_extension": ".py",
   "mimetype": "text/x-python",
   "name": "python",
   "nbconvert_exporter": "python",
   "pygments_lexer": "ipython3",
   "version": "3.11.5"
  }
 },
 "nbformat": 4,
 "nbformat_minor": 5
}
