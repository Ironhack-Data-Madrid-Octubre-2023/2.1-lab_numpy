{
 "cells": [
  {
   "cell_type": "code",
   "execution_count": null,
   "id": "f8fe48f9",
   "metadata": {},
   "outputs": [],
   "source": [
    "#1. Import the NUMPY package under the name np."
   ]
  },
  {
   "cell_type": "code",
   "execution_count": 2,
   "id": "4c30c9dd",
   "metadata": {},
   "outputs": [],
   "source": [
    "import numpy as np\n"
   ]
  },
  {
   "cell_type": "code",
   "execution_count": 3,
   "id": "79775408",
   "metadata": {
    "scrolled": true
   },
   "outputs": [
    {
     "name": "stdout",
     "output_type": "stream",
     "text": [
      "1.24.3\n",
      "blas_armpl_info:\n",
      "  NOT AVAILABLE\n",
      "blas_mkl_info:\n",
      "    libraries = ['mkl_rt']\n",
      "    library_dirs = ['C:/ironhack/anaconda\\\\Library\\\\lib']\n",
      "    define_macros = [('SCIPY_MKL_H', None), ('HAVE_CBLAS', None)]\n",
      "    include_dirs = ['C:/ironhack/anaconda\\\\Library\\\\include']\n",
      "blas_opt_info:\n",
      "    libraries = ['mkl_rt']\n",
      "    library_dirs = ['C:/ironhack/anaconda\\\\Library\\\\lib']\n",
      "    define_macros = [('SCIPY_MKL_H', None), ('HAVE_CBLAS', None)]\n",
      "    include_dirs = ['C:/ironhack/anaconda\\\\Library\\\\include']\n",
      "lapack_armpl_info:\n",
      "  NOT AVAILABLE\n",
      "lapack_mkl_info:\n",
      "    libraries = ['mkl_rt']\n",
      "    library_dirs = ['C:/ironhack/anaconda\\\\Library\\\\lib']\n",
      "    define_macros = [('SCIPY_MKL_H', None), ('HAVE_CBLAS', None)]\n",
      "    include_dirs = ['C:/ironhack/anaconda\\\\Library\\\\include']\n",
      "lapack_opt_info:\n",
      "    libraries = ['mkl_rt']\n",
      "    library_dirs = ['C:/ironhack/anaconda\\\\Library\\\\lib']\n",
      "    define_macros = [('SCIPY_MKL_H', None), ('HAVE_CBLAS', None)]\n",
      "    include_dirs = ['C:/ironhack/anaconda\\\\Library\\\\include']\n",
      "Supported SIMD extensions in this NumPy install:\n",
      "    baseline = SSE,SSE2,SSE3\n",
      "    found = SSSE3,SSE41,POPCNT,SSE42,AVX,F16C,FMA3,AVX2\n",
      "    not found = AVX512F,AVX512CD,AVX512_SKX,AVX512_CLX,AVX512_CNL,AVX512_ICL\n",
      "None\n"
     ]
    }
   ],
   "source": [
    "#Print the NUMPY version and the configuration.\n",
    "print(np.__version__)\n",
    "print(np.show_config())"
   ]
  },
  {
   "cell_type": "code",
   "execution_count": 4,
   "id": "f717491f",
   "metadata": {},
   "outputs": [
    {
     "data": {
      "text/plain": [
       "array([[[0.74306883, 0.36101204, 0.12510191, 0.36811212, 0.3465378 ],\n",
       "        [0.37264691, 0.25459206, 0.98969051, 0.306466  , 0.41282019],\n",
       "        [0.46705035, 0.73767709, 0.58436705, 0.27073718, 0.25654506]],\n",
       "\n",
       "       [[0.97164716, 0.94899617, 0.0887096 , 0.27771341, 0.16720887],\n",
       "        [0.13734392, 0.61875165, 0.56186384, 0.51156407, 0.8831647 ],\n",
       "        [0.01903005, 0.61739721, 0.88735203, 0.5840752 , 0.95856778]]])"
      ]
     },
     "execution_count": 4,
     "metadata": {},
     "output_type": "execute_result"
    }
   ],
   "source": [
    "#3. Generate a 2x3x5 3-dimensional array with random values. Assign the array to variable \"a\"\n",
    "# Challenge: there are at least three easy ways that use numpy to generate random arrays. How many ways can you find?\n",
    "import random as rm\n",
    "\n",
    "a = np.random.random((2,3,5))\n",
    "\n",
    "a\n"
   ]
  },
  {
   "cell_type": "code",
   "execution_count": 5,
   "id": "bc00621a",
   "metadata": {},
   "outputs": [
    {
     "name": "stdout",
     "output_type": "stream",
     "text": [
      "[[0.89772307 0.72687325 0.85859864 0.66389284 0.98593252]\n",
      " [0.36025314 0.18473864 0.9380508  0.00822788 0.00775675]\n",
      " [0.98608809 0.4263458  0.96097914 0.30219403 0.22177454]]\n",
      "\n",
      "[[0.77617794 0.7349002  0.3129752  0.36919888 0.41763785]\n",
      " [0.89153481 0.71851958 0.48887681 0.32103725 0.61468069]\n",
      " [0.74316531 0.65329704 0.77546282 0.97741754 0.15406743]]\n"
     ]
    },
    {
     "data": {
      "text/plain": [
       "array([[0.89772307, 0.72687325, 0.85859864, 0.66389284, 0.98593252],\n",
       "       [0.36025314, 0.18473864, 0.9380508 , 0.00822788, 0.00775675],\n",
       "       [0.98608809, 0.4263458 , 0.96097914, 0.30219403, 0.22177454],\n",
       "       [0.77617794, 0.7349002 , 0.3129752 , 0.36919888, 0.41763785],\n",
       "       [0.89153481, 0.71851958, 0.48887681, 0.32103725, 0.61468069],\n",
       "       [0.74316531, 0.65329704, 0.77546282, 0.97741754, 0.15406743]])"
      ]
     },
     "execution_count": 5,
     "metadata": {},
     "output_type": "execute_result"
    }
   ],
   "source": [
    "a_1=np.random.random((3,5))\n",
    "a_2=np.random.random((3,5))\n",
    "print(a_1)\n",
    "print('')\n",
    "print(a_2)\n",
    "a_mix_a1_a2= np.concatenate((a_1,a_2),axis=0)\n",
    "a_mix_a1_a2\n",
    "#fallido"
   ]
  },
  {
   "cell_type": "code",
   "execution_count": 6,
   "id": "71fe18f6",
   "metadata": {},
   "outputs": [
    {
     "data": {
      "text/plain": [
       "array([[[0.89772307, 0.72687325, 0.85859864, 0.66389284, 0.98593252],\n",
       "        [0.36025314, 0.18473864, 0.9380508 , 0.00822788, 0.00775675],\n",
       "        [0.98608809, 0.4263458 , 0.96097914, 0.30219403, 0.22177454]],\n",
       "\n",
       "       [[0.77617794, 0.7349002 , 0.3129752 , 0.36919888, 0.41763785],\n",
       "        [0.89153481, 0.71851958, 0.48887681, 0.32103725, 0.61468069],\n",
       "        [0.74316531, 0.65329704, 0.77546282, 0.97741754, 0.15406743]]])"
      ]
     },
     "execution_count": 6,
     "metadata": {},
     "output_type": "execute_result"
    }
   ],
   "source": [
    "a_3= np.stack((a_1,a_2))\n",
    "a_3"
   ]
  },
  {
   "cell_type": "code",
   "execution_count": 7,
   "id": "8a26e67a",
   "metadata": {},
   "outputs": [
    {
     "name": "stdout",
     "output_type": "stream",
     "text": [
      "[[[0.74306883 0.36101204 0.12510191 0.36811212 0.3465378 ]\n",
      "  [0.37264691 0.25459206 0.98969051 0.306466   0.41282019]\n",
      "  [0.46705035 0.73767709 0.58436705 0.27073718 0.25654506]]\n",
      "\n",
      " [[0.97164716 0.94899617 0.0887096  0.27771341 0.16720887]\n",
      "  [0.13734392 0.61875165 0.56186384 0.51156407 0.8831647 ]\n",
      "  [0.01903005 0.61739721 0.88735203 0.5840752  0.95856778]]]\n"
     ]
    }
   ],
   "source": [
    "#4. Print a.\n",
    "print(a)"
   ]
  },
  {
   "cell_type": "code",
   "execution_count": 8,
   "id": "b659c6b0",
   "metadata": {},
   "outputs": [
    {
     "data": {
      "text/plain": [
       "array([[[1., 1., 1.],\n",
       "        [1., 1., 1.]],\n",
       "\n",
       "       [[1., 1., 1.],\n",
       "        [1., 1., 1.]],\n",
       "\n",
       "       [[1., 1., 1.],\n",
       "        [1., 1., 1.]],\n",
       "\n",
       "       [[1., 1., 1.],\n",
       "        [1., 1., 1.]],\n",
       "\n",
       "       [[1., 1., 1.],\n",
       "        [1., 1., 1.]]])"
      ]
     },
     "execution_count": 8,
     "metadata": {},
     "output_type": "execute_result"
    }
   ],
   "source": [
    "#5. Create a 5x2x3 3-dimensional array with all values equaling 1.\n",
    "#Assign the array to variable \"b\"\n",
    "b = np.ones((5,2,3))\n",
    "b"
   ]
  },
  {
   "cell_type": "code",
   "execution_count": 9,
   "id": "3121b0c5",
   "metadata": {},
   "outputs": [
    {
     "name": "stdout",
     "output_type": "stream",
     "text": [
      "[[[1. 1. 1.]\n",
      "  [1. 1. 1.]]\n",
      "\n",
      " [[1. 1. 1.]\n",
      "  [1. 1. 1.]]\n",
      "\n",
      " [[1. 1. 1.]\n",
      "  [1. 1. 1.]]\n",
      "\n",
      " [[1. 1. 1.]\n",
      "  [1. 1. 1.]]\n",
      "\n",
      " [[1. 1. 1.]\n",
      "  [1. 1. 1.]]]\n"
     ]
    }
   ],
   "source": [
    "#6. Print b\n",
    "print(b)"
   ]
  },
  {
   "cell_type": "code",
   "execution_count": 10,
   "id": "e07b3f0b",
   "metadata": {},
   "outputs": [
    {
     "name": "stdout",
     "output_type": "stream",
     "text": [
      "30\n",
      "30\n"
     ]
    }
   ],
   "source": [
    "#7. Do a and b have the same size? How do you prove that in Python code?\n",
    "print(b.size)\n",
    "print(a.size)"
   ]
  },
  {
   "cell_type": "code",
   "execution_count": 11,
   "id": "ed2d6642",
   "metadata": {},
   "outputs": [
    {
     "name": "stdout",
     "output_type": "stream",
     "text": [
      "(5, 2, 3)\n",
      "(2, 3, 5)\n"
     ]
    }
   ],
   "source": [
    "#8. Are you able to add a and b? Why or why not?\n",
    "#no because they dont have the same shape\n",
    "print(b.shape)\n",
    "print(a.shape)"
   ]
  },
  {
   "cell_type": "code",
   "execution_count": 12,
   "id": "df5d812b",
   "metadata": {},
   "outputs": [],
   "source": [
    "#9. Transpose b so that it has the same structure of a (i.e. become a 2x3x5 array). Assign the transposed array to varialbe \"c\"."
   ]
  },
  {
   "cell_type": "code",
   "execution_count": 13,
   "id": "4a0ce066",
   "metadata": {},
   "outputs": [
    {
     "data": {
      "text/plain": [
       "(2, 3, 5)"
      ]
     },
     "execution_count": 13,
     "metadata": {},
     "output_type": "execute_result"
    }
   ],
   "source": [
    "c=b.reshape(2,3,5)\n",
    "c.shape\n"
   ]
  },
  {
   "cell_type": "code",
   "execution_count": 14,
   "id": "14dd7161",
   "metadata": {},
   "outputs": [],
   "source": [
    "#10. Try to add a and c. Now it should work. Assign the sum to varialbe \"d\". But why does it work now?\n",
    "d= a + c\n",
    "#because now both arrays have the same shape"
   ]
  },
  {
   "cell_type": "code",
   "execution_count": 15,
   "id": "1b8573a8",
   "metadata": {},
   "outputs": [
    {
     "name": "stdout",
     "output_type": "stream",
     "text": [
      "[[[0.74306883 0.36101204 0.12510191 0.36811212 0.3465378 ]\n",
      "  [0.37264691 0.25459206 0.98969051 0.306466   0.41282019]\n",
      "  [0.46705035 0.73767709 0.58436705 0.27073718 0.25654506]]\n",
      "\n",
      " [[0.97164716 0.94899617 0.0887096  0.27771341 0.16720887]\n",
      "  [0.13734392 0.61875165 0.56186384 0.51156407 0.8831647 ]\n",
      "  [0.01903005 0.61739721 0.88735203 0.5840752  0.95856778]]]\n",
      "\n",
      "[[[1.74306883 1.36101204 1.12510191 1.36811212 1.3465378 ]\n",
      "  [1.37264691 1.25459206 1.98969051 1.306466   1.41282019]\n",
      "  [1.46705035 1.73767709 1.58436705 1.27073718 1.25654506]]\n",
      "\n",
      " [[1.97164716 1.94899617 1.0887096  1.27771341 1.16720887]\n",
      "  [1.13734392 1.61875165 1.56186384 1.51156407 1.8831647 ]\n",
      "  [1.01903005 1.61739721 1.88735203 1.5840752  1.95856778]]]\n"
     ]
    }
   ],
   "source": [
    "#11. Print a and d. Notice the difference and relation of the two array in terms of the values? Explain.\n",
    "print(a)\n",
    "print('')\n",
    "print(d)\n",
    "# the value is the same you just sum c which is a array of ones\n"
   ]
  },
  {
   "cell_type": "code",
   "execution_count": 16,
   "id": "25d25c3f",
   "metadata": {},
   "outputs": [
    {
     "data": {
      "text/plain": [
       "array([[[0.74306883, 0.36101204, 0.12510191, 0.36811212, 0.3465378 ],\n",
       "        [0.37264691, 0.25459206, 0.98969051, 0.306466  , 0.41282019],\n",
       "        [0.46705035, 0.73767709, 0.58436705, 0.27073718, 0.25654506]],\n",
       "\n",
       "       [[0.97164716, 0.94899617, 0.0887096 , 0.27771341, 0.16720887],\n",
       "        [0.13734392, 0.61875165, 0.56186384, 0.51156407, 0.8831647 ],\n",
       "        [0.01903005, 0.61739721, 0.88735203, 0.5840752 , 0.95856778]]])"
      ]
     },
     "execution_count": 16,
     "metadata": {},
     "output_type": "execute_result"
    }
   ],
   "source": [
    "#12. Multiply a and c. Assign the result to e.\n",
    "e= np.multiply(a,c)\n",
    "e"
   ]
  },
  {
   "cell_type": "code",
   "execution_count": 17,
   "id": "dc3f2766",
   "metadata": {},
   "outputs": [
    {
     "data": {
      "text/plain": [
       "array([[[ True,  True,  True,  True,  True],\n",
       "        [ True,  True,  True,  True,  True],\n",
       "        [ True,  True,  True,  True,  True]],\n",
       "\n",
       "       [[ True,  True,  True,  True,  True],\n",
       "        [ True,  True,  True,  True,  True],\n",
       "        [ True,  True,  True,  True,  True]]])"
      ]
     },
     "execution_count": 17,
     "metadata": {},
     "output_type": "execute_result"
    }
   ],
   "source": [
    "#13. Does e equal to a? Why or why not?\n",
    "a ==e\n",
    "# yes because c is an array of only 1, so is going to have the same values inside "
   ]
  },
  {
   "cell_type": "code",
   "execution_count": 18,
   "id": "8c51782c",
   "metadata": {},
   "outputs": [
    {
     "name": "stdout",
     "output_type": "stream",
     "text": [
      "1.9896905059562817\n",
      "1.0190300472017149\n",
      "1.4943270247081686\n"
     ]
    }
   ],
   "source": [
    "#14. Identify the max, min, and mean values in d. Assign those values to variables \"d_max\", \"d_min\", and \"d_mean\"\n",
    "d_max= d.max()\n",
    "d_min = d.min()\n",
    "d_mean = d.mean()\n",
    "print(d_max)\n",
    "print(d_min)\n",
    "print(d_mean)"
   ]
  },
  {
   "cell_type": "code",
   "execution_count": 19,
   "id": "af5b2cee",
   "metadata": {},
   "outputs": [
    {
     "name": "stdout",
     "output_type": "stream",
     "text": [
      "[[[0.74306883 0.36101204 0.12510191 0.36811212 0.3465378 ]\n",
      "  [0.37264691 0.25459206 0.98969051 0.306466   0.41282019]\n",
      "  [0.46705035 0.73767709 0.58436705 0.27073718 0.25654506]]\n",
      "\n",
      " [[0.97164716 0.94899617 0.0887096  0.27771341 0.16720887]\n",
      "  [0.13734392 0.61875165 0.56186384 0.51156407 0.8831647 ]\n",
      "  [0.01903005 0.61739721 0.88735203 0.5840752  0.95856778]]]\n"
     ]
    }
   ],
   "source": [
    "#15. Now we want to label the values in d. First create an empty array \"f\" with the same shape (i.e. 2x3x5) as d using `np.empty`.\n",
    "shape=(2,3,5)\n",
    "f = np.empty(shape)\n",
    "print(f)"
   ]
  },
  {
   "cell_type": "markdown",
   "id": "8692a871",
   "metadata": {},
   "source": [
    "#16. Populate the values in f. For each value in d, if it's larger than d_min but smaller than d_mean, assign 25 to the corresponding value in f.\n",
    "If a value in d is larger than d_mean but smaller than d_max, assign 75 to the corresponding value in f.\n",
    "If a value equals to d_mean, assign 50 to the corresponding value in f.\n",
    "Assign 0 to the corresponding value(s) in f for d_min in d.\n",
    "Assign 100 to the corresponding value(s) in f for d_max in d.\n",
    "In the end, f should have only the following values: 0, 25, 50, 75, and 100.\n",
    "Note: you don't have to use Numpy in this question.\n",
    "d_max\n",
    "d_min \n",
    "d_mean "
   ]
  },
  {
   "cell_type": "code",
   "execution_count": 23,
   "id": "dd237f31",
   "metadata": {},
   "outputs": [],
   "source": [
    "f = np.zeros_like(d)\n",
    "for i in range(d.shape[0]):\n",
    "    for j in range(d.shape[1]):\n",
    "        for k in range(d.shape[2]):\n",
    "            if d_min < d[i, j, k] < d_mean:\n",
    "                f[i, j, k] = 25\n",
    "            elif d_mean < d[i, j, k] < d_max:\n",
    "                f[i, j, k] = 75\n",
    "            elif d[i, j, k] == d_mean:\n",
    "                f[i, j, k] = 50\n",
    "            elif d[i, j, k] == d_min:\n",
    "                f[i, j, k] = 0\n",
    "            elif d[i, j, k] == d_max:\n",
    "                f[i, j, k] = 100"
   ]
  },
  {
   "cell_type": "markdown",
   "id": "e4199947",
   "metadata": {},
   "source": [
    "# 17. Print d and f. Do you have your expected f?\n",
    "For instance, if your d is:\n",
    "array([[[1.85836099, 1.67064465, 1.62576044, 1.40243961, 1.88454931],\n",
    "        [1.75354326, 1.69403643, 1.36729252, 1.61415071, 1.12104981],\n",
    "        [1.72201435, 1.1862918 , 1.87078449, 1.7726778 , 1.88180042]],\n",
    "\n",
    "       [[1.44747908, 1.31673383, 1.02000951, 1.52218947, 1.97066381],\n",
    "        [1.79129243, 1.74983003, 1.96028037, 1.85166831, 1.65450881],\n",
    "        [1.18068344, 1.9587381 , 1.00656599, 1.93402165, 1.73514584]]])\n",
    "\n",
    "Your f should be:\n",
    "array([[[ 75.,  75.,  75.,  25.,  75.],\n",
    "        [ 75.,  75.,  25.,  25.,  25.],\n",
    "        [ 75.,  25.,  75.,  75.,  75.]],\n",
    "\n",
    "       [[ 25.,  25.,  25.,  25., 100.],\n",
    "        [ 75.,  75.,  75.,  75.,  75.],\n",
    "        [ 25.,  75.,   0.,  75.,  75.]]])"
   ]
  },
  {
   "cell_type": "code",
   "execution_count": 24,
   "id": "41272840",
   "metadata": {},
   "outputs": [
    {
     "name": "stdout",
     "output_type": "stream",
     "text": [
      "[[[ 75.  25.  25.  25.  25.]\n",
      "  [ 25.  25. 100.  25.  25.]\n",
      "  [ 25.  75.  75.  25.  25.]]\n",
      "\n",
      " [[ 75.  75.  25.  25.  25.]\n",
      "  [ 25.  75.  75.  75.  75.]\n",
      "  [  0.  75.  75.  75.  75.]]]\n",
      "[[[1.74306883 1.36101204 1.12510191 1.36811212 1.3465378 ]\n",
      "  [1.37264691 1.25459206 1.98969051 1.306466   1.41282019]\n",
      "  [1.46705035 1.73767709 1.58436705 1.27073718 1.25654506]]\n",
      "\n",
      " [[1.97164716 1.94899617 1.0887096  1.27771341 1.16720887]\n",
      "  [1.13734392 1.61875165 1.56186384 1.51156407 1.8831647 ]\n",
      "  [1.01903005 1.61739721 1.88735203 1.5840752  1.95856778]]]\n"
     ]
    }
   ],
   "source": [
    "print(f)\n",
    "print(d)"
   ]
  }
 ],
 "metadata": {
  "kernelspec": {
   "display_name": "Python 3 (ipykernel)",
   "language": "python",
   "name": "python3"
  },
  "language_info": {
   "codemirror_mode": {
    "name": "ipython",
    "version": 3
   },
   "file_extension": ".py",
   "mimetype": "text/x-python",
   "name": "python",
   "nbconvert_exporter": "python",
   "pygments_lexer": "ipython3",
   "version": "3.11.5"
  }
 },
 "nbformat": 4,
 "nbformat_minor": 5
}
