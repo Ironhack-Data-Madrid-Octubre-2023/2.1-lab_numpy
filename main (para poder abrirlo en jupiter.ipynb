{
 "cells": [
  {
   "cell_type": "markdown",
   "id": "e992554f",
   "metadata": {},
   "source": [
    "1. Import the NUMPY package under the name np."
   ]
  },
  {
   "cell_type": "code",
   "execution_count": 106,
   "id": "e22b656c",
   "metadata": {},
   "outputs": [],
   "source": [
    "import numpy as np"
   ]
  },
  {
   "cell_type": "markdown",
   "id": "3a82d313",
   "metadata": {},
   "source": [
    "2. Print the NUMPY version and the configuration."
   ]
  },
  {
   "cell_type": "code",
   "execution_count": 107,
   "id": "52272b11",
   "metadata": {},
   "outputs": [
    {
     "name": "stdout",
     "output_type": "stream",
     "text": [
      "1.24.3\n",
      "blas_armpl_info:\n",
      "  NOT AVAILABLE\n",
      "blas_mkl_info:\n",
      "  NOT AVAILABLE\n",
      "blis_info:\n",
      "  NOT AVAILABLE\n",
      "openblas_info:\n",
      "    libraries = ['openblas', 'openblas']\n",
      "    library_dirs = ['/Users/mariasanz/anaconda3/lib']\n",
      "    language = c\n",
      "    define_macros = [('HAVE_CBLAS', None)]\n",
      "blas_opt_info:\n",
      "    libraries = ['openblas', 'openblas']\n",
      "    library_dirs = ['/Users/mariasanz/anaconda3/lib']\n",
      "    language = c\n",
      "    define_macros = [('HAVE_CBLAS', None)]\n",
      "lapack_armpl_info:\n",
      "  NOT AVAILABLE\n",
      "lapack_mkl_info:\n",
      "  NOT AVAILABLE\n",
      "openblas_lapack_info:\n",
      "    libraries = ['openblas', 'openblas']\n",
      "    library_dirs = ['/Users/mariasanz/anaconda3/lib']\n",
      "    language = c\n",
      "    define_macros = [('HAVE_CBLAS', None)]\n",
      "lapack_opt_info:\n",
      "    libraries = ['openblas', 'openblas']\n",
      "    library_dirs = ['/Users/mariasanz/anaconda3/lib']\n",
      "    language = c\n",
      "    define_macros = [('HAVE_CBLAS', None)]\n",
      "Supported SIMD extensions in this NumPy install:\n",
      "    baseline = NEON,NEON_FP16,NEON_VFPV4,ASIMD\n",
      "    found = ASIMDHP,ASIMDDP\n",
      "    not found = ASIMDFHM\n",
      "None\n"
     ]
    }
   ],
   "source": [
    "print(np.__version__)\n",
    "print(np.show_config())"
   ]
  },
  {
   "cell_type": "markdown",
   "id": "d0fb1195",
   "metadata": {},
   "source": [
    "3. Generate a 2x3x5 3-dimensional array with random values. Assign the array to variable \"a\"\n",
    "Challenge: there are at least three easy ways that use numpy to generate random arrays. How many ways can you find?"
   ]
  },
  {
   "cell_type": "code",
   "execution_count": 108,
   "id": "c8a3d692",
   "metadata": {},
   "outputs": [],
   "source": [
    "a = np.random.random((2, 3, 5))"
   ]
  },
  {
   "cell_type": "markdown",
   "id": "11ab181a",
   "metadata": {},
   "source": [
    "4. Print a."
   ]
  },
  {
   "cell_type": "code",
   "execution_count": 109,
   "id": "fd87dabe",
   "metadata": {},
   "outputs": [
    {
     "name": "stdout",
     "output_type": "stream",
     "text": [
      "[[[0.82404929 0.10467135 0.9840037  0.04037045 0.73906267]\n",
      "  [0.34034136 0.71414127 0.07230463 0.51527441 0.53892395]\n",
      "  [0.45865981 0.58806925 0.76564318 0.41717817 0.87177172]]\n",
      "\n",
      " [[0.24155566 0.46195756 0.08251808 0.7393486  0.94161386]\n",
      "  [0.19748004 0.10638965 0.65544825 0.63002495 0.39054332]\n",
      "  [0.86438454 0.57292211 0.88112459 0.11900997 0.9539617 ]]]\n"
     ]
    }
   ],
   "source": [
    "print(a)"
   ]
  },
  {
   "cell_type": "markdown",
   "id": "d36eb3aa",
   "metadata": {},
   "source": [
    "5. Create a 5x2x3 3-dimensional array with all values equaling 1.\n",
    "Assign the array to variable \"b\""
   ]
  },
  {
   "cell_type": "code",
   "execution_count": 110,
   "id": "c375f375",
   "metadata": {},
   "outputs": [],
   "source": [
    "b = np.random.random((5, 2, 3))"
   ]
  },
  {
   "cell_type": "markdown",
   "id": "7c70a13e",
   "metadata": {},
   "source": [
    "6. Print b."
   ]
  },
  {
   "cell_type": "code",
   "execution_count": 111,
   "id": "8e2f0eee",
   "metadata": {},
   "outputs": [
    {
     "name": "stdout",
     "output_type": "stream",
     "text": [
      "[[[0.47293053 0.13795066 0.84085911]\n",
      "  [0.1242545  0.59391951 0.23503572]]\n",
      "\n",
      " [[0.92938647 0.30344296 0.01666723]\n",
      "  [0.16153857 0.50667119 0.93319218]]\n",
      "\n",
      " [[0.97295014 0.21706563 0.74177279]\n",
      "  [0.06647928 0.07686403 0.82581153]]\n",
      "\n",
      " [[0.29797023 0.50995674 0.70385246]\n",
      "  [0.80280412 0.43507137 0.0871481 ]]\n",
      "\n",
      " [[0.59726655 0.0636596  0.33866024]\n",
      "  [0.463252   0.13905764 0.26026235]]]\n"
     ]
    }
   ],
   "source": [
    "print(b)"
   ]
  },
  {
   "cell_type": "markdown",
   "id": "8f9aaadf",
   "metadata": {},
   "source": [
    "7. Do a and b have the same size? How do you prove that in Python code?"
   ]
  },
  {
   "cell_type": "code",
   "execution_count": 112,
   "id": "b6cc9202",
   "metadata": {},
   "outputs": [
    {
     "name": "stdout",
     "output_type": "stream",
     "text": [
      "The size of a and b is the same: True\n"
     ]
    }
   ],
   "source": [
    "if a.size == b.size:\n",
    "    print('The size of a and b is the same:',True)\n",
    "else:\n",
    "    print(False)"
   ]
  },
  {
   "cell_type": "markdown",
   "id": "ae320cee",
   "metadata": {},
   "source": [
    "8. Are you able to add a and b? Why or why not?"
   ]
  },
  {
   "cell_type": "code",
   "execution_count": 113,
   "id": "808bcc9e",
   "metadata": {},
   "outputs": [
    {
     "ename": "ValueError",
     "evalue": "operands could not be broadcast together with shapes (2,3,5) (5,2,3) ",
     "output_type": "error",
     "traceback": [
      "\u001b[0;31m---------------------------------------------------------------------------\u001b[0m",
      "\u001b[0;31mValueError\u001b[0m                                Traceback (most recent call last)",
      "Cell \u001b[0;32mIn[113], line 1\u001b[0m\n\u001b[0;32m----> 1\u001b[0m np\u001b[38;5;241m.\u001b[39madd(a, b)\n",
      "\u001b[0;31mValueError\u001b[0m: operands could not be broadcast together with shapes (2,3,5) (5,2,3) "
     ]
    }
   ],
   "source": [
    "np.add(a, b)\n",
    "\n",
    "#They could only be able to add a and b if they had the same shape"
   ]
  },
  {
   "cell_type": "markdown",
   "id": "081a1656",
   "metadata": {},
   "source": [
    "9. Transpose b so that it has the same structure of a (i.e. become a 2x3x5 array). Assign the transposed array to varialbe \"c\"."
   ]
  },
  {
   "cell_type": "code",
   "execution_count": 114,
   "id": "d263ccf7",
   "metadata": {},
   "outputs": [
    {
     "name": "stdout",
     "output_type": "stream",
     "text": [
      "[[[0.47293053 0.92938647 0.97295014 0.29797023 0.59726655]\n",
      "  [0.13795066 0.30344296 0.21706563 0.50995674 0.0636596 ]\n",
      "  [0.84085911 0.01666723 0.74177279 0.70385246 0.33866024]]\n",
      "\n",
      " [[0.1242545  0.16153857 0.06647928 0.80280412 0.463252  ]\n",
      "  [0.59391951 0.50667119 0.07686403 0.43507137 0.13905764]\n",
      "  [0.23503572 0.93319218 0.82581153 0.0871481  0.26026235]]]\n"
     ]
    }
   ],
   "source": [
    "c = b.transpose(1, 2, 0)\n",
    "print(c)"
   ]
  },
  {
   "cell_type": "markdown",
   "id": "df5b7723",
   "metadata": {},
   "source": [
    "10. Try to add a and c. Now it should work. Assign the sum to varialbe \"d\". But why does it work now?"
   ]
  },
  {
   "cell_type": "code",
   "execution_count": 115,
   "id": "90734ce0",
   "metadata": {},
   "outputs": [
    {
     "name": "stdout",
     "output_type": "stream",
     "text": [
      "[[[1.29697982 1.03405782 1.95695383 0.33834067 1.33632922]\n",
      "  [0.47829202 1.01758423 0.28937026 1.02523115 0.60258355]\n",
      "  [1.29951892 0.60473648 1.50741598 1.12103063 1.21043196]]\n",
      "\n",
      " [[0.36581016 0.62349613 0.14899737 1.54215272 1.40486586]\n",
      "  [0.79139955 0.61306085 0.73231228 1.06509632 0.52960096]\n",
      "  [1.09942026 1.50611429 1.70693612 0.20615807 1.21422404]]]\n"
     ]
    }
   ],
   "source": [
    "d = np.add(a, c)\n",
    "print(d)\n",
    "\n",
    "#it works because they both have the same shape"
   ]
  },
  {
   "cell_type": "markdown",
   "id": "cf671226",
   "metadata": {},
   "source": [
    "11. Print a and d. Notice the difference and relation of the two array in terms of the values? Explain."
   ]
  },
  {
   "cell_type": "code",
   "execution_count": 116,
   "id": "e5f712f2",
   "metadata": {},
   "outputs": [
    {
     "name": "stdout",
     "output_type": "stream",
     "text": [
      "[[[0.82404929 0.10467135 0.9840037  0.04037045 0.73906267]\n",
      "  [0.34034136 0.71414127 0.07230463 0.51527441 0.53892395]\n",
      "  [0.45865981 0.58806925 0.76564318 0.41717817 0.87177172]]\n",
      "\n",
      " [[0.24155566 0.46195756 0.08251808 0.7393486  0.94161386]\n",
      "  [0.19748004 0.10638965 0.65544825 0.63002495 0.39054332]\n",
      "  [0.86438454 0.57292211 0.88112459 0.11900997 0.9539617 ]]]\n",
      "[[[1.29697982 1.03405782 1.95695383 0.33834067 1.33632922]\n",
      "  [0.47829202 1.01758423 0.28937026 1.02523115 0.60258355]\n",
      "  [1.29951892 0.60473648 1.50741598 1.12103063 1.21043196]]\n",
      "\n",
      " [[0.36581016 0.62349613 0.14899737 1.54215272 1.40486586]\n",
      "  [0.79139955 0.61306085 0.73231228 1.06509632 0.52960096]\n",
      "  [1.09942026 1.50611429 1.70693612 0.20615807 1.21422404]]]\n"
     ]
    }
   ],
   "source": [
    "print(a)\n",
    "print(d)\n",
    "\n",
    "#d es a + c"
   ]
  },
  {
   "cell_type": "markdown",
   "id": "cdc38e74",
   "metadata": {},
   "source": [
    "12. Multiply a and c. Assign the result to e."
   ]
  },
  {
   "cell_type": "code",
   "execution_count": 117,
   "id": "ba92994b",
   "metadata": {},
   "outputs": [
    {
     "name": "stdout",
     "output_type": "stream",
     "text": [
      "[[[0.38971807 0.09728014 0.95738653 0.01202919 0.44141741]\n",
      "  [0.04695032 0.21670114 0.01569485 0.26276766 0.03430769]\n",
      "  [0.38566828 0.00980149 0.56793328 0.29363188 0.29523442]]\n",
      "\n",
      " [[0.03001438 0.07462396 0.00548574 0.5935521  0.4362045 ]\n",
      "  [0.11728725 0.05390457 0.0503804  0.27410582 0.05430803]\n",
      "  [0.20316124 0.53464643 0.72764285 0.01037149 0.24828031]]]\n"
     ]
    }
   ],
   "source": [
    "e = a * c\n",
    "print(e)"
   ]
  },
  {
   "cell_type": "markdown",
   "id": "76087e66",
   "metadata": {},
   "source": [
    "13. Does e equal to a? Why or why not?"
   ]
  },
  {
   "cell_type": "code",
   "execution_count": 118,
   "id": "a70abcc4",
   "metadata": {},
   "outputs": [
    {
     "name": "stdout",
     "output_type": "stream",
     "text": [
      "The size of a and b is the same: True\n"
     ]
    }
   ],
   "source": [
    "if e.any() == a.any():\n",
    "    print('The size of a and b is the same:',True)\n",
    "else:\n",
    "    print(False)"
   ]
  },
  {
   "cell_type": "markdown",
   "id": "61d8816e",
   "metadata": {},
   "source": [
    "14. Identify the max, min, and mean values in d. Assign those values to variables \"d_max\", \"d_min\", and \"d_mean\"."
   ]
  },
  {
   "cell_type": "code",
   "execution_count": 119,
   "id": "fc9286ef",
   "metadata": {},
   "outputs": [
    {
     "name": "stdout",
     "output_type": "stream",
     "text": [
      "1.9569538347516149\n",
      "0.1489973655908685\n",
      "0.9556167182453297\n"
     ]
    }
   ],
   "source": [
    "d_max = d.max()\n",
    "print(d_max)\n",
    "\n",
    "d_min = d.min()\n",
    "print(d_min)\n",
    "\n",
    "d_mean = d.mean()\n",
    "print(d_mean)"
   ]
  },
  {
   "cell_type": "markdown",
   "id": "07e59da2",
   "metadata": {},
   "source": [
    "15. Now we want to label the values in d. First create an empty array \"f\" with the same shape (i.e. 2x3x5) as d using `np.empty`."
   ]
  },
  {
   "cell_type": "code",
   "execution_count": 120,
   "id": "fabfbac2",
   "metadata": {
    "scrolled": false
   },
   "outputs": [
    {
     "name": "stdout",
     "output_type": "stream",
     "text": [
      "[[[0.38971807 0.09728014 0.95738653 0.01202919 0.44141741]\n",
      "  [0.04695032 0.21670114 0.01569485 0.26276766 0.03430769]\n",
      "  [0.38566828 0.00980149 0.56793328 0.29363188 0.29523442]]\n",
      "\n",
      " [[0.03001438 0.07462396 0.00548574 0.5935521  0.4362045 ]\n",
      "  [0.11728725 0.05390457 0.0503804  0.27410582 0.05430803]\n",
      "  [0.20316124 0.53464643 0.72764285 0.01037149 0.24828031]]]\n"
     ]
    }
   ],
   "source": [
    "f = np.empty([2, 3, 5])\n",
    "print(f)"
   ]
  },
  {
   "cell_type": "markdown",
   "id": "c5ff3b68",
   "metadata": {},
   "source": [
    "16. Populate the values in f. For each value in d, if it's larger than d_min but smaller than d_mean, assign 25 to the corresponding value in f.\n",
    "If a value in d is larger than d_mean but smaller than d_max, assign 75 to the corresponding value in f.\n",
    "If a value equals to d_mean, assign 50 to the corresponding value in f.\n",
    "Assign 0 to the corresponding value(s) in f for d_min in d.\n",
    "Assign 100 to the corresponding value(s) in f for d_max in d.\n",
    "In the end, f should have only the following values: 0, 25, 50, 75, and 100.\n",
    "Note: you don't have to use Numpy in this question."
   ]
  },
  {
   "cell_type": "code",
   "execution_count": 136,
   "id": "bd813705",
   "metadata": {},
   "outputs": [],
   "source": [
    "for capas in range(len(d)):\n",
    "    for filas in range(len(d[capas])):\n",
    "        for columnas in range(len(d[capas][filas])):\n",
    "            if d[capas, filas, columnas] > d_min and d[capas, filas, columnas] < d_mean:\n",
    "                f[capas, filas, columnas] = 25\n",
    "            elif d[capas, filas, columnas] > d_mean and d[capas, filas, columnas] < d_max:\n",
    "                f[capas, filas, columnas] = 75\n",
    "            elif d[capas, filas, columnas]== d_mean:\n",
    "                f[capas, filas, columnas] = 50\n",
    "            elif d[capas, filas, columnas] == d_min:\n",
    "                f[capas, filas, columnas] = 0\n",
    "            elif d[capas, filas, columnas] == d_max:\n",
    "                f[capas, filas, columnas] = 100"
   ]
  },
  {
   "cell_type": "markdown",
   "id": "118d7e40",
   "metadata": {},
   "source": [
    "17. Print d and f. Do you have your expected f?\n",
    "For instance, if your d is:\n",
    "array([[[1.85836099, 1.67064465, 1.62576044, 1.40243961, 1.88454931],\n",
    "        [1.75354326, 1.69403643, 1.36729252, 1.61415071, 1.12104981],\n",
    "        [1.72201435, 1.1862918 , 1.87078449, 1.7726778 , 1.88180042]],\n",
    "\n",
    "       [[1.44747908, 1.31673383, 1.02000951, 1.52218947, 1.97066381],\n",
    "        [1.79129243, 1.74983003, 1.96028037, 1.85166831, 1.65450881],\n",
    "        [1.18068344, 1.9587381 , 1.00656599, 1.93402165, 1.73514584]]])\n",
    "\n",
    "Your f should be:\n",
    "array([[[ 75.,  75.,  75.,  25.,  75.],\n",
    "        [ 75.,  75.,  25.,  25.,  25.],\n",
    "        [ 75.,  25.,  75.,  75.,  75.]],\n",
    "\n",
    "       [[ 25.,  25.,  25.,  25., 100.],\n",
    "        [ 75.,  75.,  75.,  75.,  75.],\n",
    "        [ 25.,  75.,   0.,  75.,  75.]]])"
   ]
  },
  {
   "cell_type": "code",
   "execution_count": 137,
   "id": "38f5925a",
   "metadata": {},
   "outputs": [
    {
     "name": "stdout",
     "output_type": "stream",
     "text": [
      "[[[1.29697982 1.03405782 1.95695383 0.33834067 1.33632922]\n",
      "  [0.47829202 1.01758423 0.28937026 1.02523115 0.60258355]\n",
      "  [1.29951892 0.60473648 1.50741598 1.12103063 1.21043196]]\n",
      "\n",
      " [[0.36581016 0.62349613 0.14899737 1.54215272 1.40486586]\n",
      "  [0.79139955 0.61306085 0.73231228 1.06509632 0.52960096]\n",
      "  [1.09942026 1.50611429 1.70693612 0.20615807 1.21422404]]]\n",
      "[[[ 75.  75. 100.  25.  75.]\n",
      "  [ 25.  75.  25.  75.  25.]\n",
      "  [ 75.  25.  75.  75.  75.]]\n",
      "\n",
      " [[ 25.  25.   0.  75.  75.]\n",
      "  [ 25.  25.  25.  75.  25.]\n",
      "  [ 75.  75.  75.  25.  75.]]]\n"
     ]
    }
   ],
   "source": [
    "print(d)\n",
    "print(f)"
   ]
  }
 ],
 "metadata": {
  "kernelspec": {
   "display_name": "Python 3 (ipykernel)",
   "language": "python",
   "name": "python3"
  },
  "language_info": {
   "codemirror_mode": {
    "name": "ipython",
    "version": 3
   },
   "file_extension": ".py",
   "mimetype": "text/x-python",
   "name": "python",
   "nbconvert_exporter": "python",
   "pygments_lexer": "ipython3",
   "version": "3.11.4"
  }
 },
 "nbformat": 4,
 "nbformat_minor": 5
}
