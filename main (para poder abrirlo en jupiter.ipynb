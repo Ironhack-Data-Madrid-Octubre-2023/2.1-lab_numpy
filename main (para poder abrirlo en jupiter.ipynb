{
 "cells": [
  {
   "cell_type": "markdown",
   "id": "080d3222",
   "metadata": {},
   "source": [
    "1. Import the NUMPY package under the name np."
   ]
  },
  {
   "cell_type": "code",
   "execution_count": 62,
   "id": "c73385d9",
   "metadata": {},
   "outputs": [],
   "source": [
    "import numpy as np"
   ]
  },
  {
   "cell_type": "markdown",
   "id": "9547de27",
   "metadata": {},
   "source": [
    "2. Print the NUMPY version and the configuration."
   ]
  },
  {
   "cell_type": "code",
   "execution_count": 63,
   "id": "30f2855e",
   "metadata": {},
   "outputs": [
    {
     "name": "stdout",
     "output_type": "stream",
     "text": [
      "1.24.3\n",
      "blas_armpl_info:\n",
      "  NOT AVAILABLE\n",
      "blas_mkl_info:\n",
      "  NOT AVAILABLE\n",
      "blis_info:\n",
      "  NOT AVAILABLE\n",
      "openblas_info:\n",
      "    libraries = ['openblas', 'openblas']\n",
      "    library_dirs = ['/Users/mariasanz/anaconda3/lib']\n",
      "    language = c\n",
      "    define_macros = [('HAVE_CBLAS', None)]\n",
      "blas_opt_info:\n",
      "    libraries = ['openblas', 'openblas']\n",
      "    library_dirs = ['/Users/mariasanz/anaconda3/lib']\n",
      "    language = c\n",
      "    define_macros = [('HAVE_CBLAS', None)]\n",
      "lapack_armpl_info:\n",
      "  NOT AVAILABLE\n",
      "lapack_mkl_info:\n",
      "  NOT AVAILABLE\n",
      "openblas_lapack_info:\n",
      "    libraries = ['openblas', 'openblas']\n",
      "    library_dirs = ['/Users/mariasanz/anaconda3/lib']\n",
      "    language = c\n",
      "    define_macros = [('HAVE_CBLAS', None)]\n",
      "lapack_opt_info:\n",
      "    libraries = ['openblas', 'openblas']\n",
      "    library_dirs = ['/Users/mariasanz/anaconda3/lib']\n",
      "    language = c\n",
      "    define_macros = [('HAVE_CBLAS', None)]\n",
      "Supported SIMD extensions in this NumPy install:\n",
      "    baseline = NEON,NEON_FP16,NEON_VFPV4,ASIMD\n",
      "    found = ASIMDHP,ASIMDDP\n",
      "    not found = ASIMDFHM\n",
      "None\n"
     ]
    }
   ],
   "source": [
    "print(np.__version__)\n",
    "print(np.show_config())"
   ]
  },
  {
   "cell_type": "markdown",
   "id": "c32b5431",
   "metadata": {},
   "source": [
    "3. Generate a 2x3x5 3-dimensional array with random values. Assign the array to variable \"a\"\n",
    "Challenge: there are at least three easy ways that use numpy to generate random arrays. How many ways can you find?"
   ]
  },
  {
   "cell_type": "code",
   "execution_count": 64,
   "id": "d530bf1d",
   "metadata": {},
   "outputs": [],
   "source": [
    "a = np.random.random((2, 3, 5))"
   ]
  },
  {
   "cell_type": "markdown",
   "id": "33730639",
   "metadata": {},
   "source": [
    "4. Print a."
   ]
  },
  {
   "cell_type": "code",
   "execution_count": 65,
   "id": "92aaa2ab",
   "metadata": {},
   "outputs": [
    {
     "name": "stdout",
     "output_type": "stream",
     "text": [
      "[[[0.11323838 0.26000343 0.88826453 0.18071881 0.48260318]\n",
      "  [0.80130236 0.97878982 0.88214121 0.14198327 0.30567956]\n",
      "  [0.87350742 0.00392941 0.71441131 0.51472513 0.32453339]]\n",
      "\n",
      " [[0.05717044 0.28469355 0.91305778 0.29402936 0.95177062]\n",
      "  [0.40669158 0.36225404 0.02165067 0.7314004  0.45504024]\n",
      "  [0.02259453 0.99112542 0.83510172 0.21036601 0.94071127]]]\n"
     ]
    }
   ],
   "source": [
    "print(a)"
   ]
  },
  {
   "cell_type": "markdown",
   "id": "464d7ab4",
   "metadata": {},
   "source": [
    "5. Create a 5x2x3 3-dimensional array with all values equaling 1.\n",
    "Assign the array to variable \"b\""
   ]
  },
  {
   "cell_type": "code",
   "execution_count": 66,
   "id": "cd3be706",
   "metadata": {},
   "outputs": [],
   "source": [
    "b = np.random.random((5, 2, 3))"
   ]
  },
  {
   "cell_type": "markdown",
   "id": "d941e0fa",
   "metadata": {},
   "source": [
    "6. Print b."
   ]
  },
  {
   "cell_type": "code",
   "execution_count": 67,
   "id": "4e947caf",
   "metadata": {},
   "outputs": [
    {
     "name": "stdout",
     "output_type": "stream",
     "text": [
      "[[[0.07838517 0.49237548 0.2064397 ]\n",
      "  [0.74176663 0.17900907 0.8054009 ]]\n",
      "\n",
      " [[0.06518804 0.56498371 0.00332619]\n",
      "  [0.00164925 0.99800326 0.00547675]]\n",
      "\n",
      " [[0.43206062 0.36329961 0.0069172 ]\n",
      "  [0.69091991 0.68245593 0.68841397]]\n",
      "\n",
      " [[0.99325488 0.37860283 0.86785042]\n",
      "  [0.44936123 0.04604188 0.64823863]]\n",
      "\n",
      " [[0.87561485 0.79441911 0.19111506]\n",
      "  [0.8699967  0.32839573 0.48471825]]]\n"
     ]
    }
   ],
   "source": [
    "print(b)"
   ]
  },
  {
   "cell_type": "markdown",
   "id": "aa97638a",
   "metadata": {},
   "source": [
    "7. Do a and b have the same size? How do you prove that in Python code?"
   ]
  },
  {
   "cell_type": "code",
   "execution_count": 68,
   "id": "5d571dea",
   "metadata": {},
   "outputs": [
    {
     "name": "stdout",
     "output_type": "stream",
     "text": [
      "The size of a and b is the same: True\n"
     ]
    }
   ],
   "source": [
    "if a.size == b.size:\n",
    "    print('The size of a and b is the same:',True)\n",
    "else:\n",
    "    print(False)"
   ]
  },
  {
   "cell_type": "markdown",
   "id": "6487bba5",
   "metadata": {},
   "source": [
    "8. Are you able to add a and b? Why or why not?"
   ]
  },
  {
   "cell_type": "code",
   "execution_count": 69,
   "id": "a0ffe8b9",
   "metadata": {},
   "outputs": [
    {
     "ename": "ValueError",
     "evalue": "operands could not be broadcast together with shapes (2,3,5) (5,2,3) ",
     "output_type": "error",
     "traceback": [
      "\u001b[0;31m---------------------------------------------------------------------------\u001b[0m",
      "\u001b[0;31mValueError\u001b[0m                                Traceback (most recent call last)",
      "Cell \u001b[0;32mIn[69], line 1\u001b[0m\n\u001b[0;32m----> 1\u001b[0m np\u001b[38;5;241m.\u001b[39madd(a, b)\n",
      "\u001b[0;31mValueError\u001b[0m: operands could not be broadcast together with shapes (2,3,5) (5,2,3) "
     ]
    }
   ],
   "source": [
    "np.add(a, b)\n",
    "\n",
    "#They could only be able to add a and b if they had the same shape"
   ]
  },
  {
   "cell_type": "markdown",
   "id": "a8b0c870",
   "metadata": {},
   "source": [
    "9. Transpose b so that it has the same structure of a (i.e. become a 2x3x5 array). Assign the transposed array to varialbe \"c\"."
   ]
  },
  {
   "cell_type": "code",
   "execution_count": 70,
   "id": "2b8a62f4",
   "metadata": {},
   "outputs": [
    {
     "name": "stdout",
     "output_type": "stream",
     "text": [
      "[[[0.07838517 0.06518804 0.43206062 0.99325488 0.87561485]\n",
      "  [0.49237548 0.56498371 0.36329961 0.37860283 0.79441911]\n",
      "  [0.2064397  0.00332619 0.0069172  0.86785042 0.19111506]]\n",
      "\n",
      " [[0.74176663 0.00164925 0.69091991 0.44936123 0.8699967 ]\n",
      "  [0.17900907 0.99800326 0.68245593 0.04604188 0.32839573]\n",
      "  [0.8054009  0.00547675 0.68841397 0.64823863 0.48471825]]]\n"
     ]
    }
   ],
   "source": [
    "c = b.transpose(1, 2, 0)\n",
    "print(c)"
   ]
  },
  {
   "cell_type": "markdown",
   "id": "f098aec5",
   "metadata": {},
   "source": [
    "10. Try to add a and c. Now it should work. Assign the sum to varialbe \"d\". But why does it work now?"
   ]
  },
  {
   "cell_type": "code",
   "execution_count": 71,
   "id": "9b408f6f",
   "metadata": {},
   "outputs": [
    {
     "name": "stdout",
     "output_type": "stream",
     "text": [
      "[[[0.19162355 0.32519146 1.32032515 1.1739737  1.35821803]\n",
      "  [1.29367784 1.54377354 1.24544082 0.5205861  1.10009867]\n",
      "  [1.07994712 0.0072556  0.72132851 1.38257554 0.51564845]]\n",
      "\n",
      " [[0.79893706 0.2863428  1.60397768 0.74339059 1.82176733]\n",
      "  [0.58570065 1.3602573  0.7041066  0.77744228 0.78343596]\n",
      "  [0.82799544 0.99660217 1.52351568 0.85860464 1.42542951]]]\n"
     ]
    }
   ],
   "source": [
    "d = np.add(a, c)\n",
    "print(d)\n",
    "\n",
    "#it works because they both have the same shape"
   ]
  },
  {
   "cell_type": "markdown",
   "id": "d0e0f299",
   "metadata": {},
   "source": [
    "11. Print a and d. Notice the difference and relation of the two array in terms of the values? Explain."
   ]
  },
  {
   "cell_type": "code",
   "execution_count": 72,
   "id": "255c0ddb",
   "metadata": {},
   "outputs": [
    {
     "name": "stdout",
     "output_type": "stream",
     "text": [
      "[[[0.11323838 0.26000343 0.88826453 0.18071881 0.48260318]\n",
      "  [0.80130236 0.97878982 0.88214121 0.14198327 0.30567956]\n",
      "  [0.87350742 0.00392941 0.71441131 0.51472513 0.32453339]]\n",
      "\n",
      " [[0.05717044 0.28469355 0.91305778 0.29402936 0.95177062]\n",
      "  [0.40669158 0.36225404 0.02165067 0.7314004  0.45504024]\n",
      "  [0.02259453 0.99112542 0.83510172 0.21036601 0.94071127]]]\n",
      "[[[0.19162355 0.32519146 1.32032515 1.1739737  1.35821803]\n",
      "  [1.29367784 1.54377354 1.24544082 0.5205861  1.10009867]\n",
      "  [1.07994712 0.0072556  0.72132851 1.38257554 0.51564845]]\n",
      "\n",
      " [[0.79893706 0.2863428  1.60397768 0.74339059 1.82176733]\n",
      "  [0.58570065 1.3602573  0.7041066  0.77744228 0.78343596]\n",
      "  [0.82799544 0.99660217 1.52351568 0.85860464 1.42542951]]]\n"
     ]
    }
   ],
   "source": [
    "print(a)\n",
    "print(d)\n",
    "\n",
    "#d es a + c"
   ]
  },
  {
   "cell_type": "markdown",
   "id": "ba40ef0f",
   "metadata": {},
   "source": [
    "12. Multiply a and c. Assign the result to e."
   ]
  },
  {
   "cell_type": "code",
   "execution_count": 74,
   "id": "b89ccc4e",
   "metadata": {},
   "outputs": [
    {
     "name": "stdout",
     "output_type": "stream",
     "text": [
      "[[[8.87621011e-03 1.69491129e-02 3.83784127e-01 1.79499843e-01\n",
      "   4.22574509e-01]\n",
      "  [3.94541633e-01 5.53000309e-01 3.20481558e-01 5.37552689e-02\n",
      "   2.42837681e-01]\n",
      "  [1.80326610e-01 1.30699748e-05 4.94172491e-03 4.46704417e-01\n",
      "   6.20232176e-02]]\n",
      "\n",
      " [[4.24071210e-02 4.69530751e-04 6.30849794e-01 1.32125394e-01\n",
      "   8.28037306e-01]\n",
      "  [7.28014820e-02 3.61530716e-01 1.47756275e-02 3.36750528e-02\n",
      "   1.49433269e-01]\n",
      "  [1.81976586e-02 5.42814887e-03 5.74895685e-01 1.36367375e-01\n",
      "   4.55979915e-01]]]\n"
     ]
    }
   ],
   "source": [
    "e = a * c\n",
    "print(e)"
   ]
  },
  {
   "cell_type": "markdown",
   "id": "025772b8",
   "metadata": {},
   "source": [
    "13. Does e equal to a? Why or why not?"
   ]
  },
  {
   "cell_type": "code",
   "execution_count": 77,
   "id": "ef8a8c6f",
   "metadata": {},
   "outputs": [
    {
     "name": "stdout",
     "output_type": "stream",
     "text": [
      "The size of a and b is the same: True\n"
     ]
    }
   ],
   "source": [
    "if e.any() == a.any():\n",
    "    print('The size of a and b is the same:',True)\n",
    "else:\n",
    "    print(False)"
   ]
  },
  {
   "cell_type": "markdown",
   "id": "14d09a5a",
   "metadata": {},
   "source": [
    "14. Identify the max, min, and mean values in d. Assign those values to variables \"d_max\", \"d_min\", and \"d_mean\"."
   ]
  },
  {
   "cell_type": "code",
   "execution_count": 78,
   "id": "b4e6fc9b",
   "metadata": {},
   "outputs": [
    {
     "name": "stdout",
     "output_type": "stream",
     "text": [
      "1.8217673283557096\n",
      "0.007255602604644973\n",
      "0.9625723265078122\n"
     ]
    }
   ],
   "source": [
    "d_max = d.max()\n",
    "print(d_max)\n",
    "\n",
    "d_min = d.min()\n",
    "print(d_min)\n",
    "\n",
    "d_mean = d.mean()\n",
    "print(d_mean)"
   ]
  },
  {
   "cell_type": "markdown",
   "id": "e427ca79",
   "metadata": {},
   "source": [
    "15. Now we want to label the values in d. First create an empty array \"f\" with the same shape (i.e. 2x3x5) as d using `np.empty`."
   ]
  },
  {
   "cell_type": "code",
   "execution_count": 81,
   "id": "59bc1553",
   "metadata": {},
   "outputs": [
    {
     "name": "stdout",
     "output_type": "stream",
     "text": [
      "[[[8.87621011e-03 1.69491129e-02 3.83784127e-01 1.79499843e-01\n",
      "   4.22574509e-01]\n",
      "  [3.94541633e-01 5.53000309e-01 3.20481558e-01 5.37552689e-02\n",
      "   2.42837681e-01]\n",
      "  [1.80326610e-01 1.30699748e-05 4.94172491e-03 4.46704417e-01\n",
      "   6.20232176e-02]]\n",
      "\n",
      " [[4.24071210e-02 4.69530751e-04 6.30849794e-01 1.32125394e-01\n",
      "   8.28037306e-01]\n",
      "  [7.28014820e-02 3.61530716e-01 1.47756275e-02 3.36750528e-02\n",
      "   1.49433269e-01]\n",
      "  [1.81976586e-02 5.42814887e-03 5.74895685e-01 1.36367375e-01\n",
      "   4.55979915e-01]]]\n"
     ]
    }
   ],
   "source": [
    "f = np.empty([2, 3, 5])\n",
    "print(f)"
   ]
  },
  {
   "cell_type": "markdown",
   "id": "e52dc4c5",
   "metadata": {},
   "source": [
    "16. Populate the values in f. For each value in d, if it's larger than d_min but smaller than d_mean, assign 25 to the corresponding value in f.\n",
    "If a value in d is larger than d_mean but smaller than d_max, assign 75 to the corresponding value in f.\n",
    "If a value equals to d_mean, assign 50 to the corresponding value in f.\n",
    "Assign 0 to the corresponding value(s) in f for d_min in d.\n",
    "Assign 100 to the corresponding value(s) in f for d_max in d.\n",
    "In the end, f should have only the following values: 0, 25, 50, 75, and 100.\n",
    "Note: you don't have to use Numpy in this question."
   ]
  },
  {
   "cell_type": "code",
   "execution_count": null,
   "id": "9ae294b9",
   "metadata": {},
   "outputs": [],
   "source": []
  }
 ],
 "metadata": {
  "kernelspec": {
   "display_name": "Python 3 (ipykernel)",
   "language": "python",
   "name": "python3"
  },
  "language_info": {
   "codemirror_mode": {
    "name": "ipython",
    "version": 3
   },
   "file_extension": ".py",
   "mimetype": "text/x-python",
   "name": "python",
   "nbconvert_exporter": "python",
   "pygments_lexer": "ipython3",
   "version": "3.11.4"
  }
 },
 "nbformat": 4,
 "nbformat_minor": 5
}
